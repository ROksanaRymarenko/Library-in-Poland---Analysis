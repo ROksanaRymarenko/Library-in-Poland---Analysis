{
 "cells": [
  {
   "cell_type": "markdown",
   "id": "4140a87b",
   "metadata": {},
   "source": [
    "# Libraries in Poland"
   ]
  },
  {
   "cell_type": "markdown",
   "id": "0725b8bc",
   "metadata": {},
   "source": [
    "## Overview\n",
    "\n",
    "The notebook works with datasets containing information about libraries in Poland and statistics data about population by province/voivodeship.\n",
    "\n",
    "Libraries are a very important institution in Poland. They are not only the place established for borrowing books, but they are the public-oriented culture-promoting centres.\n",
    "\n",
    "Some of the libraries have the quite innovative environment and well designed. Their cosy spaces are divided into zones, including the shelves with the books, the reading rooms, librarian’s desks, the children’s corners, the media libraries, the computer work stations, the conference halls, the photographic and artistic studios, the galleries and the cafés.\n",
    "\n",
    "Every library has some key performance indicators (KPI) that help evaluate the effectiveness of its strategy and tactics.\n",
    "We don't have any information about Poland's libraries KPI, but we can use the open data to try to analyze libraries' success.\n",
    "\n",
    "1. The libraries have the need to involve the community in the library’s activity. \n",
    "* Let's check the numbers of libraries per 1000 people.\n",
    "* Do people with disabilities have an access to the libraries?\n",
    "\n",
    "2. Library collection is a foundational to being able to build successful services and communities. Classical metrics for the libraries is the collection size and the number of materials circulated. \n",
    "Let's check\n",
    "* how many loans the libraries have?\n",
    "* how many books per reader the libraries have?\n",
    "\n",
    "3. I this data set we don't have such metrics as user satisfaction, user participation, user support, user development,  the staff satisfaction, but we have such metrics as\n",
    "* the number of trained staff and we can calculate - Number of librarians per 100 readers."
   ]
  },
  {
   "cell_type": "markdown",
   "id": "fcea370f",
   "metadata": {},
   "source": [
    "## Goals\n",
    "For each province/voivodeship we are going to calculate and visualize some mentrics and indicators.\n",
    "\n",
    "1. Comparison of involving the community in the library’s activity\n",
    "2. Availability of libraries for people with disabilities\n",
    "3. Comparison of the number of trained staff per 100 readers\n",
    "4. Calculating the сlassical metrics for the libraries:\n",
    "* the collection size - how many books per reader the libraries have?\n",
    "* the number of materials circulated - how many loans the libraries have?\n",
    "5. To determine _three most successful provinces_. The indicators we take into consideration:\n",
    "* Amount of libraries per 1000 people\n",
    "* Amount of books per 100 readers\n",
    "* The number of trained staff per 100 readers\n",
    "* The number of libraries with facilities for people with disabilities\n",
    "\n",
    "We're going to get top three provinces/voivodeships - which are the most effective in attracting the inhabitants and the readers to reading."
   ]
  },
  {
   "cell_type": "code",
   "execution_count": 1,
   "id": "d9a3b1af",
   "metadata": {},
   "outputs": [],
   "source": [
    "# General Libraries\n",
    "import os\n",
    "import math\n",
    "import pandas as pd\n",
    "import numpy as np\n",
    "from pathlib import Path\n",
    "\n",
    "# For the Visuals\n",
    "import seaborn as sns\n",
    "import plotly.express as px\n",
    "import matplotlib as mpl\n",
    "import matplotlib.pyplot as plt\n",
    "# from matplotlib.colors import ListedColormap, LinearSegmentedColormap\n",
    "%matplotlib inline\n",
    "\n",
    "# Custom colors\n",
    "class clr:\n",
    "    S = '\\033[1m' + '\\033[95m'\n",
    "    E = '\\033[0m'\n",
    "\n",
    "# For plotting on the map of Poland\n",
    "# from cartopy import crs as ccrs\n",
    "# import geopandas\n",
    "# https://www.youtube.com/watch?v=Q0z1cPD_7yE\n",
    "# https://nbviewer.org/github/ehmatthes/intro_programming/blob/master/notebooks/visualization_earthquakes.ipynb\n",
    "# https://dges.carleton.ca/CUOSGwiki/index.php/Creating_Maps_in_Jupyter_Notebook_using_GeoPandas_and_CartoPy"
   ]
  },
  {
   "cell_type": "markdown",
   "id": "2b02b33d",
   "metadata": {},
   "source": [
    "# 1. Dataset\n",
    "There are two files - .csv and .xlsx files:\n",
    "* Libraries in Poland.csv - describes situation of libraries in Poland in 2021. The numbers are ordered by Voivodeship and the columns contain information about number of workers, books, loans and some more. Source - [Government data on libraries in Poland](https://www.kaggle.com/datasets/julianowakowska/libraries-in-poland)\n",
    "* Population Poland.xlsx - Government data on Population in Poland. The data comes from the website of polish statistical office: stat.gov.pl\n"
   ]
  },
  {
   "cell_type": "code",
   "execution_count": 2,
   "id": "833a108a",
   "metadata": {},
   "outputs": [],
   "source": [
    "# Read datasets we work with\n",
    "\n",
    "# Read Libraries in Poland dataset\n",
    "libraries = pd.read_csv('Libraries in Poland.csv', engine='python', sep=';')\n",
    "\n",
    "# Read Population in Poland dataset\n",
    "population = pd.read_excel('Population Poland.xlsx')\n"
   ]
  },
  {
   "cell_type": "markdown",
   "id": "698d1c6a",
   "metadata": {},
   "source": [
    "# Preprocessing"
   ]
  },
  {
   "cell_type": "markdown",
   "id": "50cef83e",
   "metadata": {},
   "source": [
    "## Preprocessing - Libraries in Poland dataset"
   ]
  },
  {
   "cell_type": "code",
   "execution_count": 4,
   "id": "87b44916",
   "metadata": {},
   "outputs": [
    {
     "data": {
      "text/html": [
       "<div>\n",
       "<style scoped>\n",
       "    .dataframe tbody tr th:only-of-type {\n",
       "        vertical-align: middle;\n",
       "    }\n",
       "\n",
       "    .dataframe tbody tr th {\n",
       "        vertical-align: top;\n",
       "    }\n",
       "\n",
       "    .dataframe thead th {\n",
       "        text-align: right;\n",
       "    }\n",
       "</style>\n",
       "<table border=\"1\" class=\"dataframe\">\n",
       "  <thead>\n",
       "    <tr style=\"text-align: right;\">\n",
       "      <th></th>\n",
       "      <th>Voivodeship</th>\n",
       "      <th>Number_of_libraries</th>\n",
       "      <th>Number_of_librarians</th>\n",
       "      <th>Amount_of_books</th>\n",
       "      <th>Number_of_readers</th>\n",
       "      <th>Number_of_loans</th>\n",
       "      <th>Facility_adapted_to_the_needs_of_people_with_disabilities</th>\n",
       "      <th>Facility_adapted_to_the_needs_of_people_with_disabilities_(entrance)</th>\n",
       "      <th>Facility_adapted_to_the_needs_of_people_with_disabilities_(inside_the_building)</th>\n",
       "    </tr>\n",
       "  </thead>\n",
       "  <tbody>\n",
       "    <tr>\n",
       "      <th>0</th>\n",
       "      <td>dolnoslaskie</td>\n",
       "      <td>577</td>\n",
       "      <td>1285</td>\n",
       "      <td>8336572</td>\n",
       "      <td>334400</td>\n",
       "      <td>5835250</td>\n",
       "      <td>284</td>\n",
       "      <td>280</td>\n",
       "      <td>190</td>\n",
       "    </tr>\n",
       "    <tr>\n",
       "      <th>1</th>\n",
       "      <td>kujawsko-pomorskie</td>\n",
       "      <td>389</td>\n",
       "      <td>896</td>\n",
       "      <td>6914854</td>\n",
       "      <td>199304</td>\n",
       "      <td>4090235</td>\n",
       "      <td>199</td>\n",
       "      <td>194</td>\n",
       "      <td>112</td>\n",
       "    </tr>\n",
       "    <tr>\n",
       "      <th>2</th>\n",
       "      <td>lubelskie</td>\n",
       "      <td>563</td>\n",
       "      <td>1246</td>\n",
       "      <td>6432174</td>\n",
       "      <td>286248</td>\n",
       "      <td>5336857</td>\n",
       "      <td>274</td>\n",
       "      <td>270</td>\n",
       "      <td>174</td>\n",
       "    </tr>\n",
       "    <tr>\n",
       "      <th>3</th>\n",
       "      <td>lubuskie</td>\n",
       "      <td>241</td>\n",
       "      <td>513</td>\n",
       "      <td>3897814</td>\n",
       "      <td>103819</td>\n",
       "      <td>1969505</td>\n",
       "      <td>94</td>\n",
       "      <td>93</td>\n",
       "      <td>60</td>\n",
       "    </tr>\n",
       "    <tr>\n",
       "      <th>4</th>\n",
       "      <td>lodzkie</td>\n",
       "      <td>467</td>\n",
       "      <td>1170</td>\n",
       "      <td>7794999</td>\n",
       "      <td>315051</td>\n",
       "      <td>6322797</td>\n",
       "      <td>201</td>\n",
       "      <td>195</td>\n",
       "      <td>131</td>\n",
       "    </tr>\n",
       "  </tbody>\n",
       "</table>\n",
       "</div>"
      ],
      "text/plain": [
       "          Voivodeship  Number_of_libraries  Number_of_librarians  \\\n",
       "0        dolnoslaskie                  577                  1285   \n",
       "1  kujawsko-pomorskie                  389                   896   \n",
       "2           lubelskie                  563                  1246   \n",
       "3            lubuskie                  241                   513   \n",
       "4             lodzkie                  467                  1170   \n",
       "\n",
       "   Amount_of_books  Number_of_readers  Number_of_loans  \\\n",
       "0          8336572             334400          5835250   \n",
       "1          6914854             199304          4090235   \n",
       "2          6432174             286248          5336857   \n",
       "3          3897814             103819          1969505   \n",
       "4          7794999             315051          6322797   \n",
       "\n",
       "   Facility_adapted_to_the_needs_of_people_with_disabilities  \\\n",
       "0                                                284           \n",
       "1                                                199           \n",
       "2                                                274           \n",
       "3                                                 94           \n",
       "4                                                201           \n",
       "\n",
       "   Facility_adapted_to_the_needs_of_people_with_disabilities_(entrance)  \\\n",
       "0                                                280                      \n",
       "1                                                194                      \n",
       "2                                                270                      \n",
       "3                                                 93                      \n",
       "4                                                195                      \n",
       "\n",
       "   Facility_adapted_to_the_needs_of_people_with_disabilities_(inside_the_building)  \n",
       "0                                                190                                \n",
       "1                                                112                                \n",
       "2                                                174                                \n",
       "3                                                 60                                \n",
       "4                                                131                                "
      ]
     },
     "execution_count": 4,
     "metadata": {},
     "output_type": "execute_result"
    }
   ],
   "source": [
    "libraries.head()"
   ]
  },
  {
   "cell_type": "markdown",
   "id": "6ba291e1",
   "metadata": {},
   "source": [
    "## Data backgroud\n",
    "\n",
    "* Voivodeship - provinces' names\n",
    "* Number of libraries - number of libraries\n",
    "* Number of librarians - sum of workers of all libraries in voivodeship\n",
    "* Amount of books - number of books in all libraries in voivodeship\n",
    "* Number of readers - number of people signed up to the library\n",
    "* Number of loans - number of loans in all libraries in the voivodeship in 2021\n",
    "* Facility adapted to the needs of people with disabilities - in general\n",
    "* Facility adapted to the needs of people with disabilities (entrance) - adaptations at the entrance\n",
    "* Facility adapted to the needs of people with disabilities (inside the building) - adaptations inside the buildings"
   ]
  },
  {
   "cell_type": "code",
   "execution_count": 3,
   "id": "da1c9962",
   "metadata": {},
   "outputs": [],
   "source": [
    "# Data set Libraries - Rename columns\n",
    "\n",
    "libraries.columns = libraries.columns.str.replace(' ', '_')"
   ]
  },
  {
   "cell_type": "code",
   "execution_count": 4,
   "id": "863ed965",
   "metadata": {},
   "outputs": [
    {
     "data": {
      "text/plain": [
       "Index(['Voivodeship', 'Number_of_libraries', 'Number_of_librarians',\n",
       "       'Amount_of_books', 'Number_of_readers', 'Number_of_loans',\n",
       "       'Facility_adapted_to_the_needs_of_people_with_disabilities',\n",
       "       'Facility_adapted_to_the_needs_of_people_with_disabilities_(entrance)',\n",
       "       'Facility_adapted_to_the_needs_of_people_with_disabilities_(inside_the_building)'],\n",
       "      dtype='object')"
      ]
     },
     "execution_count": 4,
     "metadata": {},
     "output_type": "execute_result"
    }
   ],
   "source": [
    "libraries.columns"
   ]
  },
  {
   "cell_type": "code",
   "execution_count": 4,
   "id": "d81c2ecc",
   "metadata": {},
   "outputs": [],
   "source": [
    "# Data set Libraries - Renaming the columns having too long titles\n",
    "libraries = libraries\\\n",
    ".rename(columns=\n",
    "        {'Facility_adapted_to_the_needs_of_people_with_disabilities':'Facility_total',\n",
    "        'Facility_adapted_to_the_needs_of_people_with_disabilities_(entrance)':'Facility_entrance',\n",
    "        'Facility_adapted_to_the_needs_of_people_with_disabilities_(inside_the_building)':'Facility_inside'}\n",
    "       )"
   ]
  },
  {
   "cell_type": "code",
   "execution_count": 5,
   "id": "9441c34d",
   "metadata": {},
   "outputs": [
    {
     "data": {
      "text/plain": [
       "(16, 9)"
      ]
     },
     "execution_count": 5,
     "metadata": {},
     "output_type": "execute_result"
    }
   ],
   "source": [
    "#The total number of rows and columns in the data set Libraries\n",
    "libraries.shape"
   ]
  },
  {
   "cell_type": "code",
   "execution_count": 6,
   "id": "0f41902a",
   "metadata": {},
   "outputs": [
    {
     "data": {
      "text/plain": [
       "Voivodeship             object\n",
       "Number_of_libraries      int64\n",
       "Number_of_librarians     int64\n",
       "Amount_of_books          int64\n",
       "Number_of_readers        int64\n",
       "Number_of_loans          int64\n",
       "Facility_total           int64\n",
       "Facility_entrance        int64\n",
       "Facility_inside          int64\n",
       "dtype: object"
      ]
     },
     "execution_count": 6,
     "metadata": {},
     "output_type": "execute_result"
    }
   ],
   "source": [
    "libraries.dtypes"
   ]
  },
  {
   "cell_type": "code",
   "execution_count": 7,
   "id": "d4c42357",
   "metadata": {},
   "outputs": [
    {
     "name": "stdout",
     "output_type": "stream",
     "text": [
      "\u001b[1m\u001b[95mThere are no missing values in any columns:\u001b[0m 0 total missing values\n"
     ]
    }
   ],
   "source": [
    "print(clr.S+\"There are no missing values in any columns:\"+clr.E,\n",
    "      libraries.isna().sum()[-1], \"total missing values\")"
   ]
  },
  {
   "cell_type": "code",
   "execution_count": 8,
   "id": "787acf21",
   "metadata": {},
   "outputs": [
    {
     "data": {
      "text/html": [
       "<div>\n",
       "<style scoped>\n",
       "    .dataframe tbody tr th:only-of-type {\n",
       "        vertical-align: middle;\n",
       "    }\n",
       "\n",
       "    .dataframe tbody tr th {\n",
       "        vertical-align: top;\n",
       "    }\n",
       "\n",
       "    .dataframe thead th {\n",
       "        text-align: right;\n",
       "    }\n",
       "</style>\n",
       "<table border=\"1\" class=\"dataframe\">\n",
       "  <thead>\n",
       "    <tr style=\"text-align: right;\">\n",
       "      <th></th>\n",
       "      <th>Number_of_libraries</th>\n",
       "      <th>Number_of_librarians</th>\n",
       "      <th>Amount_of_books</th>\n",
       "      <th>Number_of_readers</th>\n",
       "      <th>Number_of_loans</th>\n",
       "      <th>Facility_total</th>\n",
       "      <th>Facility_entrance</th>\n",
       "      <th>Facility_inside</th>\n",
       "    </tr>\n",
       "  </thead>\n",
       "  <tbody>\n",
       "    <tr>\n",
       "      <th>count</th>\n",
       "      <td>16.00000</td>\n",
       "      <td>16.00000</td>\n",
       "      <td>1.600000e+01</td>\n",
       "      <td>16.000000</td>\n",
       "      <td>1.600000e+01</td>\n",
       "      <td>16.000000</td>\n",
       "      <td>16.000000</td>\n",
       "      <td>16.000000</td>\n",
       "    </tr>\n",
       "    <tr>\n",
       "      <th>mean</th>\n",
       "      <td>480.81250</td>\n",
       "      <td>1149.00000</td>\n",
       "      <td>7.792294e+06</td>\n",
       "      <td>300432.625000</td>\n",
       "      <td>5.569667e+06</td>\n",
       "      <td>216.375000</td>\n",
       "      <td>212.750000</td>\n",
       "      <td>133.062500</td>\n",
       "    </tr>\n",
       "    <tr>\n",
       "      <th>std</th>\n",
       "      <td>217.87832</td>\n",
       "      <td>598.95164</td>\n",
       "      <td>4.173377e+06</td>\n",
       "      <td>193705.820189</td>\n",
       "      <td>3.412643e+06</td>\n",
       "      <td>105.604214</td>\n",
       "      <td>104.357399</td>\n",
       "      <td>64.379571</td>\n",
       "    </tr>\n",
       "    <tr>\n",
       "      <th>min</th>\n",
       "      <td>226.00000</td>\n",
       "      <td>513.00000</td>\n",
       "      <td>3.632525e+06</td>\n",
       "      <td>103819.000000</td>\n",
       "      <td>1.969505e+06</td>\n",
       "      <td>91.000000</td>\n",
       "      <td>90.000000</td>\n",
       "      <td>54.000000</td>\n",
       "    </tr>\n",
       "    <tr>\n",
       "      <th>25%</th>\n",
       "      <td>298.75000</td>\n",
       "      <td>668.25000</td>\n",
       "      <td>4.616134e+06</td>\n",
       "      <td>142080.000000</td>\n",
       "      <td>2.877382e+06</td>\n",
       "      <td>123.750000</td>\n",
       "      <td>122.250000</td>\n",
       "      <td>79.000000</td>\n",
       "    </tr>\n",
       "    <tr>\n",
       "      <th>50%</th>\n",
       "      <td>428.00000</td>\n",
       "      <td>1044.50000</td>\n",
       "      <td>6.673514e+06</td>\n",
       "      <td>277435.500000</td>\n",
       "      <td>4.908469e+06</td>\n",
       "      <td>200.000000</td>\n",
       "      <td>194.500000</td>\n",
       "      <td>118.000000</td>\n",
       "    </tr>\n",
       "    <tr>\n",
       "      <th>75%</th>\n",
       "      <td>655.25000</td>\n",
       "      <td>1359.00000</td>\n",
       "      <td>9.097896e+06</td>\n",
       "      <td>353553.750000</td>\n",
       "      <td>6.875729e+06</td>\n",
       "      <td>282.500000</td>\n",
       "      <td>277.000000</td>\n",
       "      <td>179.500000</td>\n",
       "    </tr>\n",
       "    <tr>\n",
       "      <th>max</th>\n",
       "      <td>941.00000</td>\n",
       "      <td>2648.00000</td>\n",
       "      <td>1.756797e+07</td>\n",
       "      <td>766241.000000</td>\n",
       "      <td>1.283670e+07</td>\n",
       "      <td>465.000000</td>\n",
       "      <td>461.000000</td>\n",
       "      <td>269.000000</td>\n",
       "    </tr>\n",
       "  </tbody>\n",
       "</table>\n",
       "</div>"
      ],
      "text/plain": [
       "       Number_of_libraries  Number_of_librarians  Amount_of_books  \\\n",
       "count             16.00000              16.00000     1.600000e+01   \n",
       "mean             480.81250            1149.00000     7.792294e+06   \n",
       "std              217.87832             598.95164     4.173377e+06   \n",
       "min              226.00000             513.00000     3.632525e+06   \n",
       "25%              298.75000             668.25000     4.616134e+06   \n",
       "50%              428.00000            1044.50000     6.673514e+06   \n",
       "75%              655.25000            1359.00000     9.097896e+06   \n",
       "max              941.00000            2648.00000     1.756797e+07   \n",
       "\n",
       "       Number_of_readers  Number_of_loans  Facility_total  Facility_entrance  \\\n",
       "count          16.000000     1.600000e+01       16.000000          16.000000   \n",
       "mean       300432.625000     5.569667e+06      216.375000         212.750000   \n",
       "std        193705.820189     3.412643e+06      105.604214         104.357399   \n",
       "min        103819.000000     1.969505e+06       91.000000          90.000000   \n",
       "25%        142080.000000     2.877382e+06      123.750000         122.250000   \n",
       "50%        277435.500000     4.908469e+06      200.000000         194.500000   \n",
       "75%        353553.750000     6.875729e+06      282.500000         277.000000   \n",
       "max        766241.000000     1.283670e+07      465.000000         461.000000   \n",
       "\n",
       "       Facility_inside  \n",
       "count        16.000000  \n",
       "mean        133.062500  \n",
       "std          64.379571  \n",
       "min          54.000000  \n",
       "25%          79.000000  \n",
       "50%         118.000000  \n",
       "75%         179.500000  \n",
       "max         269.000000  "
      ]
     },
     "execution_count": 8,
     "metadata": {},
     "output_type": "execute_result"
    }
   ],
   "source": [
    "libraries.describe()"
   ]
  },
  {
   "cell_type": "code",
   "execution_count": 9,
   "id": "0bae161d",
   "metadata": {},
   "outputs": [
    {
     "name": "stdout",
     "output_type": "stream",
     "text": [
      "\u001b[1m\u001b[95mNumber of records in the dataset Libraries is : 16\u001b[0m\n",
      "\u001b[1m\u001b[95m\u001b[1mNumber of unique Voivodeships in the dataset Libraries is: 16\u001b[0m\n"
     ]
    }
   ],
   "source": [
    "print(clr.S+f\"Number of records in the dataset Libraries is : {libraries.shape[0]}\"+clr.E)\n",
    "print(clr.S+f\"\\033[1mNumber of unique Voivodeships in the dataset Libraries is: {libraries.Voivodeship.nunique()}\"+clr.E)\n",
    "\n",
    "#print(f\"\\033[1mNumber of records in the dataset is : {libraries.shape[0]}\")\n",
    "#print(f\"\\033[1mNumber of unique Voivodeships : {libraries.Voivodeship.nunique()}\")"
   ]
  },
  {
   "cell_type": "code",
   "execution_count": 10,
   "id": "5ff05b30",
   "metadata": {},
   "outputs": [
    {
     "data": {
      "text/html": [
       "<div>\n",
       "<style scoped>\n",
       "    .dataframe tbody tr th:only-of-type {\n",
       "        vertical-align: middle;\n",
       "    }\n",
       "\n",
       "    .dataframe tbody tr th {\n",
       "        vertical-align: top;\n",
       "    }\n",
       "\n",
       "    .dataframe thead th {\n",
       "        text-align: right;\n",
       "    }\n",
       "</style>\n",
       "<table border=\"1\" class=\"dataframe\">\n",
       "  <thead>\n",
       "    <tr style=\"text-align: right;\">\n",
       "      <th></th>\n",
       "      <th>Voivodeship</th>\n",
       "      <th>Number_of_libraries</th>\n",
       "      <th>Number_of_librarians</th>\n",
       "      <th>Amount_of_books</th>\n",
       "      <th>Number_of_readers</th>\n",
       "      <th>Number_of_loans</th>\n",
       "      <th>Facility_total</th>\n",
       "      <th>Facility_entrance</th>\n",
       "      <th>Facility_inside</th>\n",
       "    </tr>\n",
       "  </thead>\n",
       "  <tbody>\n",
       "  </tbody>\n",
       "</table>\n",
       "</div>"
      ],
      "text/plain": [
       "Empty DataFrame\n",
       "Columns: [Voivodeship, Number_of_libraries, Number_of_librarians, Amount_of_books, Number_of_readers, Number_of_loans, Facility_total, Facility_entrance, Facility_inside]\n",
       "Index: []"
      ]
     },
     "execution_count": 10,
     "metadata": {},
     "output_type": "execute_result"
    }
   ],
   "source": [
    "#Are there any duplicated data?\n",
    "libraries.loc[libraries.duplicated()]"
   ]
  },
  {
   "cell_type": "markdown",
   "id": "d22a4746",
   "metadata": {},
   "source": [
    "**There are not any duplicated data in the dataset Libraries**"
   ]
  },
  {
   "cell_type": "code",
   "execution_count": null,
   "id": "a747984c",
   "metadata": {},
   "outputs": [],
   "source": []
  },
  {
   "cell_type": "markdown",
   "id": "aca7b074",
   "metadata": {},
   "source": [
    "## Preprocessing - Population in Poland dataset"
   ]
  },
  {
   "cell_type": "code",
   "execution_count": 11,
   "id": "27406767",
   "metadata": {},
   "outputs": [
    {
     "data": {
      "text/html": [
       "<div>\n",
       "<style scoped>\n",
       "    .dataframe tbody tr th:only-of-type {\n",
       "        vertical-align: middle;\n",
       "    }\n",
       "\n",
       "    .dataframe tbody tr th {\n",
       "        vertical-align: top;\n",
       "    }\n",
       "\n",
       "    .dataframe thead th {\n",
       "        text-align: right;\n",
       "    }\n",
       "</style>\n",
       "<table border=\"1\" class=\"dataframe\">\n",
       "  <thead>\n",
       "    <tr style=\"text-align: right;\">\n",
       "      <th></th>\n",
       "      <th>Voivodships</th>\n",
       "      <th>Total</th>\n",
       "      <th>Males</th>\n",
       "      <th>Females</th>\n",
       "      <th>UrbanTotal</th>\n",
       "      <th>Urban Males</th>\n",
       "      <th>Urban females</th>\n",
       "      <th>Rural total</th>\n",
       "      <th>Rural males</th>\n",
       "      <th>Rural females</th>\n",
       "    </tr>\n",
       "  </thead>\n",
       "  <tbody>\n",
       "    <tr>\n",
       "      <th>0</th>\n",
       "      <td>Dolnośląskie</td>\n",
       "      <td>2884011.0</td>\n",
       "      <td>1385466.0</td>\n",
       "      <td>1498545.0</td>\n",
       "      <td>1966760.0</td>\n",
       "      <td>928290.0</td>\n",
       "      <td>1038470.0</td>\n",
       "      <td>917251.0</td>\n",
       "      <td>457176.0</td>\n",
       "      <td>460075.0</td>\n",
       "    </tr>\n",
       "    <tr>\n",
       "      <th>1</th>\n",
       "      <td>Kujawsko-pomorskie</td>\n",
       "      <td>2054163.0</td>\n",
       "      <td>994997.0</td>\n",
       "      <td>1059166.0</td>\n",
       "      <td>1201132.0</td>\n",
       "      <td>567623.0</td>\n",
       "      <td>633509.0</td>\n",
       "      <td>853031.0</td>\n",
       "      <td>427374.0</td>\n",
       "      <td>425657.0</td>\n",
       "    </tr>\n",
       "    <tr>\n",
       "      <th>2</th>\n",
       "      <td>Lubelskie</td>\n",
       "      <td>2086403.0</td>\n",
       "      <td>1010760.0</td>\n",
       "      <td>1075643.0</td>\n",
       "      <td>969489.0</td>\n",
       "      <td>456230.0</td>\n",
       "      <td>513259.0</td>\n",
       "      <td>1116914.0</td>\n",
       "      <td>554530.0</td>\n",
       "      <td>562384.0</td>\n",
       "    </tr>\n",
       "    <tr>\n",
       "      <th>3</th>\n",
       "      <td>Lubuskie</td>\n",
       "      <td>1003150.0</td>\n",
       "      <td>487618.0</td>\n",
       "      <td>515532.0</td>\n",
       "      <td>648523.0</td>\n",
       "      <td>309973.0</td>\n",
       "      <td>338550.0</td>\n",
       "      <td>354627.0</td>\n",
       "      <td>177645.0</td>\n",
       "      <td>176982.0</td>\n",
       "    </tr>\n",
       "    <tr>\n",
       "      <th>4</th>\n",
       "      <td>Łódzkie</td>\n",
       "      <td>2426806.0</td>\n",
       "      <td>1156002.0</td>\n",
       "      <td>1270804.0</td>\n",
       "      <td>1508597.0</td>\n",
       "      <td>700948.0</td>\n",
       "      <td>807649.0</td>\n",
       "      <td>918209.0</td>\n",
       "      <td>455054.0</td>\n",
       "      <td>463155.0</td>\n",
       "    </tr>\n",
       "  </tbody>\n",
       "</table>\n",
       "</div>"
      ],
      "text/plain": [
       "          Voivodships      Total      Males    Females  UrbanTotal  \\\n",
       "0        Dolnośląskie  2884011.0  1385466.0  1498545.0   1966760.0   \n",
       "1  Kujawsko-pomorskie  2054163.0   994997.0  1059166.0   1201132.0   \n",
       "2           Lubelskie  2086403.0  1010760.0  1075643.0    969489.0   \n",
       "3            Lubuskie  1003150.0   487618.0   515532.0    648523.0   \n",
       "4             Łódzkie  2426806.0  1156002.0  1270804.0   1508597.0   \n",
       "\n",
       "   Urban Males  Urban females  Rural total  Rural males  Rural females  \n",
       "0     928290.0      1038470.0     917251.0     457176.0       460075.0  \n",
       "1     567623.0       633509.0     853031.0     427374.0       425657.0  \n",
       "2     456230.0       513259.0    1116914.0     554530.0       562384.0  \n",
       "3     309973.0       338550.0     354627.0     177645.0       176982.0  \n",
       "4     700948.0       807649.0     918209.0     455054.0       463155.0  "
      ]
     },
     "execution_count": 11,
     "metadata": {},
     "output_type": "execute_result"
    }
   ],
   "source": [
    "population.head()"
   ]
  },
  {
   "cell_type": "code",
   "execution_count": 12,
   "id": "302062ee",
   "metadata": {},
   "outputs": [],
   "source": [
    "#We are not going to analize male or female, urban and rural population separately,\n",
    "# because we don't have such data in Libraries data set that's why let's drop the columns we don't need\n",
    "\n",
    "population=population[['Voivodships', 'Total'\n",
    "#                        , 'Males', 'Females'\n",
    "#             , 'UrbanTotal', 'Urban Males',\n",
    "#        'Urban females', 'Rural total', 'Rural males', 'Rural females'\n",
    "           ]].copy()"
   ]
  },
  {
   "cell_type": "code",
   "execution_count": 13,
   "id": "3b467915",
   "metadata": {},
   "outputs": [
    {
     "data": {
      "text/html": [
       "<div>\n",
       "<style scoped>\n",
       "    .dataframe tbody tr th:only-of-type {\n",
       "        vertical-align: middle;\n",
       "    }\n",
       "\n",
       "    .dataframe tbody tr th {\n",
       "        vertical-align: top;\n",
       "    }\n",
       "\n",
       "    .dataframe thead th {\n",
       "        text-align: right;\n",
       "    }\n",
       "</style>\n",
       "<table border=\"1\" class=\"dataframe\">\n",
       "  <thead>\n",
       "    <tr style=\"text-align: right;\">\n",
       "      <th></th>\n",
       "      <th>Voivodships</th>\n",
       "      <th>Total</th>\n",
       "    </tr>\n",
       "  </thead>\n",
       "  <tbody>\n",
       "    <tr>\n",
       "      <th>0</th>\n",
       "      <td>Dolnośląskie</td>\n",
       "      <td>2884011.0</td>\n",
       "    </tr>\n",
       "    <tr>\n",
       "      <th>1</th>\n",
       "      <td>Kujawsko-pomorskie</td>\n",
       "      <td>2054163.0</td>\n",
       "    </tr>\n",
       "    <tr>\n",
       "      <th>2</th>\n",
       "      <td>Lubelskie</td>\n",
       "      <td>2086403.0</td>\n",
       "    </tr>\n",
       "    <tr>\n",
       "      <th>3</th>\n",
       "      <td>Lubuskie</td>\n",
       "      <td>1003150.0</td>\n",
       "    </tr>\n",
       "    <tr>\n",
       "      <th>4</th>\n",
       "      <td>Łódzkie</td>\n",
       "      <td>2426806.0</td>\n",
       "    </tr>\n",
       "  </tbody>\n",
       "</table>\n",
       "</div>"
      ],
      "text/plain": [
       "          Voivodships      Total\n",
       "0        Dolnośląskie  2884011.0\n",
       "1  Kujawsko-pomorskie  2054163.0\n",
       "2           Lubelskie  2086403.0\n",
       "3            Lubuskie  1003150.0\n",
       "4             Łódzkie  2426806.0"
      ]
     },
     "execution_count": 13,
     "metadata": {},
     "output_type": "execute_result"
    }
   ],
   "source": [
    "population.head()"
   ]
  },
  {
   "cell_type": "code",
   "execution_count": 14,
   "id": "52ad8d92",
   "metadata": {},
   "outputs": [
    {
     "data": {
      "text/plain": [
       "(17, 2)"
      ]
     },
     "execution_count": 14,
     "metadata": {},
     "output_type": "execute_result"
    }
   ],
   "source": [
    "##The total number of rows and columns in the data set Population\n",
    "population.shape"
   ]
  },
  {
   "cell_type": "code",
   "execution_count": 15,
   "id": "91f7ac09",
   "metadata": {},
   "outputs": [
    {
     "data": {
      "text/plain": [
       "Voivodships     object\n",
       "Total          float64\n",
       "dtype: object"
      ]
     },
     "execution_count": 15,
     "metadata": {},
     "output_type": "execute_result"
    }
   ],
   "source": [
    "population.dtypes"
   ]
  },
  {
   "cell_type": "code",
   "execution_count": 16,
   "id": "353257ec",
   "metadata": {},
   "outputs": [
    {
     "data": {
      "text/html": [
       "<div>\n",
       "<style scoped>\n",
       "    .dataframe tbody tr th:only-of-type {\n",
       "        vertical-align: middle;\n",
       "    }\n",
       "\n",
       "    .dataframe tbody tr th {\n",
       "        vertical-align: top;\n",
       "    }\n",
       "\n",
       "    .dataframe thead th {\n",
       "        text-align: right;\n",
       "    }\n",
       "</style>\n",
       "<table border=\"1\" class=\"dataframe\">\n",
       "  <thead>\n",
       "    <tr style=\"text-align: right;\">\n",
       "      <th></th>\n",
       "      <th>Total</th>\n",
       "    </tr>\n",
       "  </thead>\n",
       "  <tbody>\n",
       "    <tr>\n",
       "      <th>count</th>\n",
       "      <td>1.700000e+01</td>\n",
       "    </tr>\n",
       "    <tr>\n",
       "      <th>mean</th>\n",
       "      <td>4.489673e+06</td>\n",
       "    </tr>\n",
       "    <tr>\n",
       "      <th>std</th>\n",
       "      <td>8.765186e+06</td>\n",
       "    </tr>\n",
       "    <tr>\n",
       "      <th>min</th>\n",
       "      <td>9.732980e+05</td>\n",
       "    </tr>\n",
       "    <tr>\n",
       "      <th>25%</th>\n",
       "      <td>1.410643e+06</td>\n",
       "    </tr>\n",
       "    <tr>\n",
       "      <th>50%</th>\n",
       "      <td>2.115578e+06</td>\n",
       "    </tr>\n",
       "    <tr>\n",
       "      <th>75%</th>\n",
       "      <td>3.408505e+06</td>\n",
       "    </tr>\n",
       "    <tr>\n",
       "      <th>max</th>\n",
       "      <td>3.816222e+07</td>\n",
       "    </tr>\n",
       "  </tbody>\n",
       "</table>\n",
       "</div>"
      ],
      "text/plain": [
       "              Total\n",
       "count  1.700000e+01\n",
       "mean   4.489673e+06\n",
       "std    8.765186e+06\n",
       "min    9.732980e+05\n",
       "25%    1.410643e+06\n",
       "50%    2.115578e+06\n",
       "75%    3.408505e+06\n",
       "max    3.816222e+07"
      ]
     },
     "execution_count": 16,
     "metadata": {},
     "output_type": "execute_result"
    }
   ],
   "source": [
    "population.describe()"
   ]
  },
  {
   "cell_type": "code",
   "execution_count": 17,
   "id": "220fa6ca",
   "metadata": {},
   "outputs": [
    {
     "data": {
      "text/plain": [
       "Voivodships    object\n",
       "Total           int32\n",
       "dtype: object"
      ]
     },
     "execution_count": 17,
     "metadata": {},
     "output_type": "execute_result"
    }
   ],
   "source": [
    "# converting data type to integer\n",
    "\n",
    "# TASK - как это сделать без указания всех названий столбцов, а перебрать индекс от 1 до конца\n",
    "\n",
    "population = population.astype({\"Total\":\"int\"})\n",
    "\n",
    "population.dtypes"
   ]
  },
  {
   "cell_type": "code",
   "execution_count": 18,
   "id": "2c7a6a37",
   "metadata": {},
   "outputs": [
    {
     "name": "stdout",
     "output_type": "stream",
     "text": [
      "\u001b[1m\u001b[95mThere are no missing values in any columns:\u001b[0m 0 total missing values\n"
     ]
    }
   ],
   "source": [
    "print(clr.S+\"There are no missing values in any columns:\"+clr.E,\n",
    "      population.isna().sum()[-1], \"total missing values\")"
   ]
  },
  {
   "cell_type": "code",
   "execution_count": 19,
   "id": "e5fe61f8",
   "metadata": {},
   "outputs": [
    {
     "data": {
      "text/html": [
       "<div>\n",
       "<style scoped>\n",
       "    .dataframe tbody tr th:only-of-type {\n",
       "        vertical-align: middle;\n",
       "    }\n",
       "\n",
       "    .dataframe tbody tr th {\n",
       "        vertical-align: top;\n",
       "    }\n",
       "\n",
       "    .dataframe thead th {\n",
       "        text-align: right;\n",
       "    }\n",
       "</style>\n",
       "<table border=\"1\" class=\"dataframe\">\n",
       "  <thead>\n",
       "    <tr style=\"text-align: right;\">\n",
       "      <th></th>\n",
       "      <th>Voivodships</th>\n",
       "      <th>Total</th>\n",
       "    </tr>\n",
       "  </thead>\n",
       "  <tbody>\n",
       "  </tbody>\n",
       "</table>\n",
       "</div>"
      ],
      "text/plain": [
       "Empty DataFrame\n",
       "Columns: [Voivodships, Total]\n",
       "Index: []"
      ]
     },
     "execution_count": 19,
     "metadata": {},
     "output_type": "execute_result"
    }
   ],
   "source": [
    "#Are there any duplicated data?\n",
    "population.loc[population.duplicated()]"
   ]
  },
  {
   "cell_type": "markdown",
   "id": "fddf52de",
   "metadata": {},
   "source": [
    "**There are not any duplicated data in the dataset Population**"
   ]
  },
  {
   "cell_type": "code",
   "execution_count": 20,
   "id": "da526aaf",
   "metadata": {},
   "outputs": [
    {
     "name": "stdout",
     "output_type": "stream",
     "text": [
      "\u001b[1m\u001b[95mNumber of records in the dataset Population is : 17\u001b[0m\n",
      "\u001b[1m\u001b[95m\u001b[1mNumber of unique Voivodeships in the dadaset Population: 17\u001b[0m\n"
     ]
    }
   ],
   "source": [
    "print(clr.S+f\"Number of records in the dataset Population is : {population.shape[0]}\"+clr.E)\n",
    "print(clr.S+f\"\\033[1mNumber of unique Voivodeships in the dadaset Population: {population.Voivodships.nunique()}\"+clr.E)"
   ]
  },
  {
   "cell_type": "code",
   "execution_count": 21,
   "id": "db8c341c",
   "metadata": {},
   "outputs": [
    {
     "name": "stdout",
     "output_type": "stream",
     "text": [
      "\u001b[1m\u001b[95mNumber of rows in the dataset Libraries is : 16\u001b[0m\n",
      "\u001b[1m\u001b[95mNumber of rows in the dataset Population is : 17\u001b[0m\n"
     ]
    }
   ],
   "source": [
    "print(clr.S+f\"Number of rows in the dataset Libraries is : {len(libraries)}\"+clr.E)\n",
    "print(clr.S+f\"Number of rows in the dataset Population is : {len(population)}\"+clr.E)"
   ]
  },
  {
   "cell_type": "markdown",
   "id": "ebcb259d",
   "metadata": {},
   "source": [
    "Let's pay attention to mismatchings:\n",
    "\n",
    "\n",
    "1. The names of columns in two our datasets.\n",
    "Look at the dataset Population. The column with the names of Poland provinces' called Voivodships, whereas the name of the same column in the dataset Libraries' named Voivodeships.\n",
    "*We have to rename a column in the data set Population.\n",
    "\n",
    "2. The quantity of the rows.\n",
    "Actually there are 16 provinces in Poland. In the Libraries dataset there are 16 rows according the names of the provinces. Whereas there are 17 rows in data set Population.\n",
    "*What does it cause such mismatching? "
   ]
  },
  {
   "cell_type": "code",
   "execution_count": 22,
   "id": "3d537295",
   "metadata": {},
   "outputs": [],
   "source": [
    "#Rename column Voivodships to Voivodeships\n",
    "population = population \\\n",
    "        .rename(columns = {'Voivodships':'Voivodeships'})"
   ]
  },
  {
   "cell_type": "code",
   "execution_count": 24,
   "id": "194343ed",
   "metadata": {},
   "outputs": [
    {
     "data": {
      "text/plain": [
       "['Dolnośląskie',\n",
       " 'Kujawsko-pomorskie',\n",
       " 'Lubelskie',\n",
       " 'Lubuskie',\n",
       " 'Łódzkie',\n",
       " 'Małopolskie',\n",
       " 'Mazowieckie',\n",
       " 'Opolskie',\n",
       " 'Podkarpackie',\n",
       " 'Podlaskie',\n",
       " 'Pomorskie',\n",
       " 'Śląskie',\n",
       " 'Świętokrzyskie',\n",
       " 'Warmińsko-mazurskie',\n",
       " 'Wielkopolskie',\n",
       " 'Zachodniopomorskie',\n",
       " 'Poland']"
      ]
     },
     "execution_count": 24,
     "metadata": {},
     "output_type": "execute_result"
    }
   ],
   "source": [
    "#What data do we have in column Voivodeships in data set Population?\n",
    "list(population.Voivodeships)"
   ]
  },
  {
   "cell_type": "code",
   "execution_count": 23,
   "id": "62be0e38",
   "metadata": {},
   "outputs": [
    {
     "name": "stdout",
     "output_type": "stream",
     "text": [
      "\u001b[1m\u001b[95mWe can see that in the dataset Population there is the 17th row that summirizes the data called\u001b[0m Poland\n"
     ]
    }
   ],
   "source": [
    "print(\n",
    "    clr.S+\"We can see that in the dataset Population there is the 17th row that summirizes the data called\"+clr.E,\n",
    "        population.iloc[-1,0])\n"
   ]
  },
  {
   "cell_type": "code",
   "execution_count": 24,
   "id": "7ccdbb51",
   "metadata": {},
   "outputs": [
    {
     "data": {
      "text/html": [
       "<div>\n",
       "<style scoped>\n",
       "    .dataframe tbody tr th:only-of-type {\n",
       "        vertical-align: middle;\n",
       "    }\n",
       "\n",
       "    .dataframe tbody tr th {\n",
       "        vertical-align: top;\n",
       "    }\n",
       "\n",
       "    .dataframe thead th {\n",
       "        text-align: right;\n",
       "    }\n",
       "</style>\n",
       "<table border=\"1\" class=\"dataframe\">\n",
       "  <thead>\n",
       "    <tr style=\"text-align: right;\">\n",
       "      <th></th>\n",
       "      <th>Voivodeships</th>\n",
       "      <th>Total</th>\n",
       "    </tr>\n",
       "  </thead>\n",
       "  <tbody>\n",
       "    <tr>\n",
       "      <th>0</th>\n",
       "      <td>Dolnośląskie</td>\n",
       "      <td>2884011</td>\n",
       "    </tr>\n",
       "    <tr>\n",
       "      <th>1</th>\n",
       "      <td>Kujawsko-pomorskie</td>\n",
       "      <td>2054163</td>\n",
       "    </tr>\n",
       "    <tr>\n",
       "      <th>2</th>\n",
       "      <td>Lubelskie</td>\n",
       "      <td>2086403</td>\n",
       "    </tr>\n",
       "    <tr>\n",
       "      <th>3</th>\n",
       "      <td>Lubuskie</td>\n",
       "      <td>1003150</td>\n",
       "    </tr>\n",
       "    <tr>\n",
       "      <th>4</th>\n",
       "      <td>Łódzkie</td>\n",
       "      <td>2426806</td>\n",
       "    </tr>\n",
       "    <tr>\n",
       "      <th>5</th>\n",
       "      <td>Małopolskie</td>\n",
       "      <td>3408505</td>\n",
       "    </tr>\n",
       "    <tr>\n",
       "      <th>6</th>\n",
       "      <td>Mazowieckie</td>\n",
       "      <td>5419963</td>\n",
       "    </tr>\n",
       "    <tr>\n",
       "      <th>7</th>\n",
       "      <td>Opolskie</td>\n",
       "      <td>973298</td>\n",
       "    </tr>\n",
       "    <tr>\n",
       "      <th>8</th>\n",
       "      <td>Podkarpackie</td>\n",
       "      <td>2115578</td>\n",
       "    </tr>\n",
       "    <tr>\n",
       "      <th>9</th>\n",
       "      <td>Podlaskie</td>\n",
       "      <td>1169434</td>\n",
       "    </tr>\n",
       "    <tr>\n",
       "      <th>10</th>\n",
       "      <td>Pomorskie</td>\n",
       "      <td>2346065</td>\n",
       "    </tr>\n",
       "    <tr>\n",
       "      <th>11</th>\n",
       "      <td>Śląskie</td>\n",
       "      <td>4472703</td>\n",
       "    </tr>\n",
       "    <tr>\n",
       "      <th>12</th>\n",
       "      <td>Świętokrzyskie</td>\n",
       "      <td>1218089</td>\n",
       "    </tr>\n",
       "    <tr>\n",
       "      <th>13</th>\n",
       "      <td>Warmińsko-mazurskie</td>\n",
       "      <td>1410643</td>\n",
       "    </tr>\n",
       "    <tr>\n",
       "      <th>14</th>\n",
       "      <td>Wielkopolskie</td>\n",
       "      <td>3491410</td>\n",
       "    </tr>\n",
       "    <tr>\n",
       "      <th>15</th>\n",
       "      <td>Zachodniopomorskie</td>\n",
       "      <td>1682003</td>\n",
       "    </tr>\n",
       "  </tbody>\n",
       "</table>\n",
       "</div>"
      ],
      "text/plain": [
       "           Voivodeships    Total\n",
       "0          Dolnośląskie  2884011\n",
       "1    Kujawsko-pomorskie  2054163\n",
       "2             Lubelskie  2086403\n",
       "3              Lubuskie  1003150\n",
       "4               Łódzkie  2426806\n",
       "5           Małopolskie  3408505\n",
       "6           Mazowieckie  5419963\n",
       "7              Opolskie   973298\n",
       "8          Podkarpackie  2115578\n",
       "9             Podlaskie  1169434\n",
       "10            Pomorskie  2346065\n",
       "11              Śląskie  4472703\n",
       "12       Świętokrzyskie  1218089\n",
       "13  Warmińsko-mazurskie  1410643\n",
       "14        Wielkopolskie  3491410\n",
       "15   Zachodniopomorskie  1682003"
      ]
     },
     "execution_count": 24,
     "metadata": {},
     "output_type": "execute_result"
    }
   ],
   "source": [
    "#dropping the 17th row from data set Population\n",
    "\n",
    "population = population.drop([16], axis=0)\n",
    "population"
   ]
  },
  {
   "cell_type": "markdown",
   "id": "3957bf6b",
   "metadata": {},
   "source": [
    "## Resume\n",
    "\n",
    "We have got two data sets for 16 provinces/voivodeships in Poland with consistent data"
   ]
  },
  {
   "cell_type": "code",
   "execution_count": null,
   "id": "4233b4a6",
   "metadata": {},
   "outputs": [],
   "source": []
  },
  {
   "cell_type": "markdown",
   "id": "69e23b0d",
   "metadata": {},
   "source": [
    "# Exploring"
   ]
  },
  {
   "cell_type": "markdown",
   "id": "7b02250a",
   "metadata": {},
   "source": [
    "# Libraries per Voivodeship"
   ]
  },
  {
   "cell_type": "code",
   "execution_count": 26,
   "id": "f7760857",
   "metadata": {},
   "outputs": [
    {
     "data": {
      "image/png": "[encoded data removed]",
      "text/plain": [
       "<Figure size 1080x504 with 2 Axes>"
      ]
     },
     "metadata": {
      "needs_background": "light"
     },
     "output_type": "display_data"
    }
   ],
   "source": [
    "#Libraries per Voivodeship and Readers per Voivodeship\n",
    "\n",
    "fig, (ax0, ax1) = plt.subplots(nrows=1, ncols=2, sharey=True, figsize=(15, 7))\n",
    "\n",
    "plt.subplot(1, 2, 1)\n",
    "ax = sns.barplot(data = libraries, x = 'Number_of_libraries', y = 'Voivodeship')\n",
    "plt.title('Libraries per Voivodeship\\n')\n",
    "for i in ax.containers:\n",
    "    ax.bar_label(i,)\n",
    "plt.subplot(1, 2, 2)\n",
    "ax = sns.barplot(data = libraries, x = 'Number_of_readers', y = 'Voivodeship')\n",
    "plt.title('Readers per Voivodeship\\n')\n",
    "for i in ax.containers:\n",
    "    ax.bar_label(i,)\n",
    "    \n",
    "sns.despine(top=True)"
   ]
  },
  {
   "cell_type": "code",
   "execution_count": 28,
   "id": "b427591a",
   "metadata": {},
   "outputs": [
    {
     "name": "stdout",
     "output_type": "stream",
     "text": [
      "\u001b[1m\u001b[95mTop five voivodeships in terms of the Number of Libraries:\u001b[0m mazowiecki, slaskie, malopolskie, podkarpackie, wielkopolskie\n",
      "\u001b[1m\u001b[95mTop five voivodeships in terms of the Number of Readers:\u001b[0m mazowiecki, slaskie, malopolskie, wielkopolskie, dolnoslaskie\n"
     ]
    }
   ],
   "source": [
    "print(\n",
    "clr.S+\"Top five voivodeships in terms of the Number of Libraries:\"+clr.E,\n",
    "libraries.sort_values('Number_of_libraries', ascending = False).Voivodeship[:5].str.cat(sep = ', '))\n",
    "\n",
    "print(\n",
    "clr.S+\"Top five voivodeships in terms of the Number of Readers:\"+clr.E,\n",
    "libraries.sort_values('Number_of_readers', ascending = False).Voivodeship[:5].str.cat(sep = ', '))\n"
   ]
  },
  {
   "cell_type": "code",
   "execution_count": null,
   "id": "32caad0f",
   "metadata": {},
   "outputs": [],
   "source": []
  },
  {
   "cell_type": "code",
   "execution_count": 29,
   "id": "20985320",
   "metadata": {},
   "outputs": [
    {
     "data": {
      "image/png": "[encoded data removed]",
      "text/plain": [
       "<Figure size 1152x720 with 1 Axes>"
      ]
     },
     "metadata": {
      "needs_background": "light"
     },
     "output_type": "display_data"
    }
   ],
   "source": [
    "#Readers_per_Library\n",
    "libraries['Readers_per_Library'] = (libraries['Number_of_readers'] / libraries['Number_of_libraries']).round(0)\n",
    "\n",
    "plt.figure(figsize=(16,10))\n",
    "ax = sns.barplot(data = libraries, x = 'Readers_per_Library', y = 'Voivodeship')\n",
    "plt.title('Amount of Readers per Library\\n')\n",
    "for i in ax.containers:\n",
    "    ax.bar_label(i,)"
   ]
  },
  {
   "cell_type": "code",
   "execution_count": 30,
   "id": "70592c7a",
   "metadata": {},
   "outputs": [
    {
     "name": "stdout",
     "output_type": "stream",
     "text": [
      "\u001b[1m\u001b[95mThe first five voivodeships in terms of Amount of Readers per Library:\u001b[0m pomorskie, mazowiecki, slaskie, malopolskie, lodzkie\n"
     ]
    }
   ],
   "source": [
    "print(\n",
    "clr.S+\"Top five voivodeships in terms of Amount of Readers per Library:\"+clr.E,\n",
    "libraries.sort_values('Readers_per_Library', ascending = False).Voivodeship[:5].str.cat(sep = ', '))"
   ]
  },
  {
   "cell_type": "code",
   "execution_count": null,
   "id": "548cb6a7",
   "metadata": {},
   "outputs": [],
   "source": []
  },
  {
   "cell_type": "markdown",
   "id": "b2c44878",
   "metadata": {},
   "source": [
    "## Let's build several interactive barcharts"
   ]
  },
  {
   "cell_type": "code",
   "execution_count": 32,
   "id": "0966bc53",
   "metadata": {},
   "outputs": [
    {
     "data": {
      "application/vnd.plotly.v1+json": {
       "config": {
        "plotlyServerURL": "https://plot.ly"
       },
       "data": [
        {
         "alignmentgroup": "True",
         "hovertemplate": "color=dolnoslaskie<br>x=%{x}<br>y=%{y}<extra></extra>",
         "legendgroup": "dolnoslaskie",
         "marker": {
          "color": "#636efa",
          "pattern": {
           "shape": ""
          }
         },
         "name": "dolnoslaskie",
         "offsetgroup": "dolnoslaskie",
         "orientation": "h",
         "showlegend": true,
         "textposition": "auto",
         "type": "bar",
         "x": [
          2
         ],
         "xaxis": "x",
         "y": [
          "dolnoslaskie"
         ],
         "yaxis": "y"
        },
        {
         "alignmentgroup": "True",
         "hovertemplate": "color=kujawsko-pomorskie<br>x=%{x}<br>y=%{y}<extra></extra>",
         "legendgroup": "kujawsko-pomorskie",
         "marker": {
          "color": "#EF553B",
          "pattern": {
           "shape": ""
          }
         },
         "name": "kujawsko-pomorskie",
         "offsetgroup": "kujawsko-pomorskie",
         "orientation": "h",
         "showlegend": true,
         "textposition": "auto",
         "type": "bar",
         "x": [
          1.89
         ],
         "xaxis": "x",
         "y": [
          "kujawsko-pomorskie"
         ],
         "yaxis": "y"
        },
        {
         "alignmentgroup": "True",
         "hovertemplate": "color=lubelskie<br>x=%{x}<br>y=%{y}<extra></extra>",
         "legendgroup": "lubelskie",
         "marker": {
          "color": "#00cc96",
          "pattern": {
           "shape": ""
          }
         },
         "name": "lubelskie",
         "offsetgroup": "lubelskie",
         "orientation": "h",
         "showlegend": true,
         "textposition": "auto",
         "type": "bar",
         "x": [
          2.7
         ],
         "xaxis": "x",
         "y": [
          "lubelskie"
         ],
         "yaxis": "y"
        },
        {
         "alignmentgroup": "True",
         "hovertemplate": "color=lubuskie<br>x=%{x}<br>y=%{y}<extra></extra>",
         "legendgroup": "lubuskie",
         "marker": {
          "color": "#ab63fa",
          "pattern": {
           "shape": ""
          }
         },
         "name": "lubuskie",
         "offsetgroup": "lubuskie",
         "orientation": "h",
         "showlegend": true,
         "textposition": "auto",
         "type": "bar",
         "x": [
          2.4
         ],
         "xaxis": "x",
         "y": [
          "lubuskie"
         ],
         "yaxis": "y"
        },
        {
         "alignmentgroup": "True",
         "hovertemplate": "color=lodzkie<br>x=%{x}<br>y=%{y}<extra></extra>",
         "legendgroup": "lodzkie",
         "marker": {
          "color": "#FFA15A",
          "pattern": {
           "shape": ""
          }
         },
         "name": "lodzkie",
         "offsetgroup": "lodzkie",
         "orientation": "h",
         "showlegend": true,
         "textposition": "auto",
         "type": "bar",
         "x": [
          1.92
         ],
         "xaxis": "x",
         "y": [
          "lodzkie"
         ],
         "yaxis": "y"
        },
        {
         "alignmentgroup": "True",
         "hovertemplate": "color=malopolskie<br>x=%{x}<br>y=%{y}<extra></extra>",
         "legendgroup": "malopolskie",
         "marker": {
          "color": "#19d3f3",
          "pattern": {
           "shape": ""
          }
         },
         "name": "malopolskie",
         "offsetgroup": "malopolskie",
         "orientation": "h",
         "showlegend": true,
         "textposition": "auto",
         "type": "bar",
         "x": [
          2.08
         ],
         "xaxis": "x",
         "y": [
          "malopolskie"
         ],
         "yaxis": "y"
        },
        {
         "alignmentgroup": "True",
         "hovertemplate": "color=mazowiecki<br>x=%{x}<br>y=%{y}<extra></extra>",
         "legendgroup": "mazowiecki",
         "marker": {
          "color": "#FF6692",
          "pattern": {
           "shape": ""
          }
         },
         "name": "mazowiecki",
         "offsetgroup": "mazowiecki",
         "orientation": "h",
         "showlegend": true,
         "textposition": "auto",
         "type": "bar",
         "x": [
          1.74
         ],
         "xaxis": "x",
         "y": [
          "mazowiecki"
         ],
         "yaxis": "y"
        },
        {
         "alignmentgroup": "True",
         "hovertemplate": "color=opolskie<br>x=%{x}<br>y=%{y}<extra></extra>",
         "legendgroup": "opolskie",
         "marker": {
          "color": "#B6E880",
          "pattern": {
           "shape": ""
          }
         },
         "name": "opolskie",
         "offsetgroup": "opolskie",
         "orientation": "h",
         "showlegend": true,
         "textposition": "auto",
         "type": "bar",
         "x": [
          3.1
         ],
         "xaxis": "x",
         "y": [
          "opolskie"
         ],
         "yaxis": "y"
        },
        {
         "alignmentgroup": "True",
         "hovertemplate": "color=podkarpackie<br>x=%{x}<br>y=%{y}<extra></extra>",
         "legendgroup": "podkarpackie",
         "marker": {
          "color": "#FF97FF",
          "pattern": {
           "shape": ""
          }
         },
         "name": "podkarpackie",
         "offsetgroup": "podkarpackie",
         "orientation": "h",
         "showlegend": true,
         "textposition": "auto",
         "type": "bar",
         "x": [
          3.14
         ],
         "xaxis": "x",
         "y": [
          "podkarpackie"
         ],
         "yaxis": "y"
        },
        {
         "alignmentgroup": "True",
         "hovertemplate": "color=podlaskie<br>x=%{x}<br>y=%{y}<extra></extra>",
         "legendgroup": "podlaskie",
         "marker": {
          "color": "#FECB52",
          "pattern": {
           "shape": ""
          }
         },
         "name": "podlaskie",
         "offsetgroup": "podlaskie",
         "orientation": "h",
         "showlegend": true,
         "textposition": "auto",
         "type": "bar",
         "x": [
          1.93
         ],
         "xaxis": "x",
         "y": [
          "podlaskie"
         ],
         "yaxis": "y"
        },
        {
         "alignmentgroup": "True",
         "hovertemplate": "color=pomorskie<br>x=%{x}<br>y=%{y}<extra></extra>",
         "legendgroup": "pomorskie",
         "marker": {
          "color": "#636efa",
          "pattern": {
           "shape": ""
          }
         },
         "name": "pomorskie",
         "offsetgroup": "pomorskie",
         "orientation": "h",
         "showlegend": true,
         "textposition": "auto",
         "type": "bar",
         "x": [
          1.35
         ],
         "xaxis": "x",
         "y": [
          "pomorskie"
         ],
         "yaxis": "y"
        },
        {
         "alignmentgroup": "True",
         "hovertemplate": "color=slaskie<br>x=%{x}<br>y=%{y}<extra></extra>",
         "legendgroup": "slaskie",
         "marker": {
          "color": "#EF553B",
          "pattern": {
           "shape": ""
          }
         },
         "name": "slaskie",
         "offsetgroup": "slaskie",
         "orientation": "h",
         "showlegend": true,
         "textposition": "auto",
         "type": "bar",
         "x": [
          1.68
         ],
         "xaxis": "x",
         "y": [
          "slaskie"
         ],
         "yaxis": "y"
        },
        {
         "alignmentgroup": "True",
         "hovertemplate": "color=swietokrzyskie<br>x=%{x}<br>y=%{y}<extra></extra>",
         "legendgroup": "swietokrzyskie",
         "marker": {
          "color": "#00cc96",
          "pattern": {
           "shape": ""
          }
         },
         "name": "swietokrzyskie",
         "offsetgroup": "swietokrzyskie",
         "orientation": "h",
         "showlegend": true,
         "textposition": "auto",
         "type": "bar",
         "x": [
          2.09
         ],
         "xaxis": "x",
         "y": [
          "swietokrzyskie"
         ],
         "yaxis": "y"
        },
        {
         "alignmentgroup": "True",
         "hovertemplate": "color=warminsko-mazurskie<br>x=%{x}<br>y=%{y}<extra></extra>",
         "legendgroup": "warminsko-mazurskie",
         "marker": {
          "color": "#ab63fa",
          "pattern": {
           "shape": ""
          }
         },
         "name": "warminsko-mazurskie",
         "offsetgroup": "warminsko-mazurskie",
         "orientation": "h",
         "showlegend": true,
         "textposition": "auto",
         "type": "bar",
         "x": [
          2.05
         ],
         "xaxis": "x",
         "y": [
          "warminsko-mazurskie"
         ],
         "yaxis": "y"
        },
        {
         "alignmentgroup": "True",
         "hovertemplate": "color=wielkopolskie<br>x=%{x}<br>y=%{y}<extra></extra>",
         "legendgroup": "wielkopolskie",
         "marker": {
          "color": "#FFA15A",
          "pattern": {
           "shape": ""
          }
         },
         "name": "wielkopolskie",
         "offsetgroup": "wielkopolskie",
         "orientation": "h",
         "showlegend": true,
         "textposition": "auto",
         "type": "bar",
         "x": [
          1.87
         ],
         "xaxis": "x",
         "y": [
          "wielkopolskie"
         ],
         "yaxis": "y"
        },
        {
         "alignmentgroup": "True",
         "hovertemplate": "color=zachodniopomorskie<br>x=%{x}<br>y=%{y}<extra></extra>",
         "legendgroup": "zachodniopomorskie",
         "marker": {
          "color": "#19d3f3",
          "pattern": {
           "shape": ""
          }
         },
         "name": "zachodniopomorskie",
         "offsetgroup": "zachodniopomorskie",
         "orientation": "h",
         "showlegend": true,
         "textposition": "auto",
         "type": "bar",
         "x": [
          2.07
         ],
         "xaxis": "x",
         "y": [
          "zachodniopomorskie"
         ],
         "yaxis": "y"
        }
       ],
       "layout": {
        "barmode": "relative",
        "font": {
         "color": "RebeccaPurple",
         "family": "Courier New, monospace",
         "size": 14
        },
        "legend": {
         "title": {
          "text": "color"
         },
         "tracegroupgap": 0
        },
        "margin": {
         "t": 60
        },
        "template": {
         "data": {
          "bar": [
           {
            "error_x": {
             "color": "#2a3f5f"
            },
            "error_y": {
             "color": "#2a3f5f"
            },
            "marker": {
             "line": {
              "color": "#E5ECF6",
              "width": 0.5
             },
             "pattern": {
              "fillmode": "overlay",
              "size": 10,
              "solidity": 0.2
             }
            },
            "type": "bar"
           }
          ],
          "barpolar": [
           {
            "marker": {
             "line": {
              "color": "#E5ECF6",
              "width": 0.5
             },
             "pattern": {
              "fillmode": "overlay",
              "size": 10,
              "solidity": 0.2
             }
            },
            "type": "barpolar"
           }
          ],
          "carpet": [
           {
            "aaxis": {
             "endlinecolor": "#2a3f5f",
             "gridcolor": "white",
             "linecolor": "white",
             "minorgridcolor": "white",
             "startlinecolor": "#2a3f5f"
            },
            "baxis": {
             "endlinecolor": "#2a3f5f",
             "gridcolor": "white",
             "linecolor": "white",
             "minorgridcolor": "white",
             "startlinecolor": "#2a3f5f"
            },
            "type": "carpet"
           }
          ],
          "choropleth": [
           {
            "colorbar": {
             "outlinewidth": 0,
             "ticks": ""
            },
            "type": "choropleth"
           }
          ],
          "contour": [
           {
            "colorbar": {
             "outlinewidth": 0,
             "ticks": ""
            },
            "colorscale": [
             [
              0,
              "#0d0887"
             ],
             [
              0.1111111111111111,
              "#46039f"
             ],
             [
              0.2222222222222222,
              "#7201a8"
             ],
             [
              0.3333333333333333,
              "#9c179e"
             ],
             [
              0.4444444444444444,
              "#bd3786"
             ],
             [
              0.5555555555555556,
              "#d8576b"
             ],
             [
              0.6666666666666666,
              "#ed7953"
             ],
             [
              0.7777777777777778,
              "#fb9f3a"
             ],
             [
              0.8888888888888888,
              "#fdca26"
             ],
             [
              1,
              "#f0f921"
             ]
            ],
            "type": "contour"
           }
          ],
          "contourcarpet": [
           {
            "colorbar": {
             "outlinewidth": 0,
             "ticks": ""
            },
            "type": "contourcarpet"
           }
          ],
          "heatmap": [
           {
            "colorbar": {
             "outlinewidth": 0,
             "ticks": ""
            },
            "colorscale": [
             [
              0,
              "#0d0887"
             ],
             [
              0.1111111111111111,
              "#46039f"
             ],
             [
              0.2222222222222222,
              "#7201a8"
             ],
             [
              0.3333333333333333,
              "#9c179e"
             ],
             [
              0.4444444444444444,
              "#bd3786"
             ],
             [
              0.5555555555555556,
              "#d8576b"
             ],
             [
              0.6666666666666666,
              "#ed7953"
             ],
             [
              0.7777777777777778,
              "#fb9f3a"
             ],
             [
              0.8888888888888888,
              "#fdca26"
             ],
             [
              1,
              "#f0f921"
             ]
            ],
            "type": "heatmap"
           }
          ],
          "heatmapgl": [
           {
            "colorbar": {
             "outlinewidth": 0,
             "ticks": ""
            },
            "colorscale": [
             [
              0,
              "#0d0887"
             ],
             [
              0.1111111111111111,
              "#46039f"
             ],
             [
              0.2222222222222222,
              "#7201a8"
             ],
             [
              0.3333333333333333,
              "#9c179e"
             ],
             [
              0.4444444444444444,
              "#bd3786"
             ],
             [
              0.5555555555555556,
              "#d8576b"
             ],
             [
              0.6666666666666666,
              "#ed7953"
             ],
             [
              0.7777777777777778,
              "#fb9f3a"
             ],
             [
              0.8888888888888888,
              "#fdca26"
             ],
             [
              1,
              "#f0f921"
             ]
            ],
            "type": "heatmapgl"
           }
          ],
          "histogram": [
           {
            "marker": {
             "pattern": {
              "fillmode": "overlay",
              "size": 10,
              "solidity": 0.2
             }
            },
            "type": "histogram"
           }
          ],
          "histogram2d": [
           {
            "colorbar": {
             "outlinewidth": 0,
             "ticks": ""
            },
            "colorscale": [
             [
              0,
              "#0d0887"
             ],
             [
              0.1111111111111111,
              "#46039f"
             ],
             [
              0.2222222222222222,
              "#7201a8"
             ],
             [
              0.3333333333333333,
              "#9c179e"
             ],
             [
              0.4444444444444444,
              "#bd3786"
             ],
             [
              0.5555555555555556,
              "#d8576b"
             ],
             [
              0.6666666666666666,
              "#ed7953"
             ],
             [
              0.7777777777777778,
              "#fb9f3a"
             ],
             [
              0.8888888888888888,
              "#fdca26"
             ],
             [
              1,
              "#f0f921"
             ]
            ],
            "type": "histogram2d"
           }
          ],
          "histogram2dcontour": [
           {
            "colorbar": {
             "outlinewidth": 0,
             "ticks": ""
            },
            "colorscale": [
             [
              0,
              "#0d0887"
             ],
             [
              0.1111111111111111,
              "#46039f"
             ],
             [
              0.2222222222222222,
              "#7201a8"
             ],
             [
              0.3333333333333333,
              "#9c179e"
             ],
             [
              0.4444444444444444,
              "#bd3786"
             ],
             [
              0.5555555555555556,
              "#d8576b"
             ],
             [
              0.6666666666666666,
              "#ed7953"
             ],
             [
              0.7777777777777778,
              "#fb9f3a"
             ],
             [
              0.8888888888888888,
              "#fdca26"
             ],
             [
              1,
              "#f0f921"
             ]
            ],
            "type": "histogram2dcontour"
           }
          ],
          "mesh3d": [
           {
            "colorbar": {
             "outlinewidth": 0,
             "ticks": ""
            },
            "type": "mesh3d"
           }
          ],
          "parcoords": [
           {
            "line": {
             "colorbar": {
              "outlinewidth": 0,
              "ticks": ""
             }
            },
            "type": "parcoords"
           }
          ],
          "pie": [
           {
            "automargin": true,
            "type": "pie"
           }
          ],
          "scatter": [
           {
            "marker": {
             "colorbar": {
              "outlinewidth": 0,
              "ticks": ""
             }
            },
            "type": "scatter"
           }
          ],
          "scatter3d": [
           {
            "line": {
             "colorbar": {
              "outlinewidth": 0,
              "ticks": ""
             }
            },
            "marker": {
             "colorbar": {
              "outlinewidth": 0,
              "ticks": ""
             }
            },
            "type": "scatter3d"
           }
          ],
          "scattercarpet": [
           {
            "marker": {
             "colorbar": {
              "outlinewidth": 0,
              "ticks": ""
             }
            },
            "type": "scattercarpet"
           }
          ],
          "scattergeo": [
           {
            "marker": {
             "colorbar": {
              "outlinewidth": 0,
              "ticks": ""
             }
            },
            "type": "scattergeo"
           }
          ],
          "scattergl": [
           {
            "marker": {
             "colorbar": {
              "outlinewidth": 0,
              "ticks": ""
             }
            },
            "type": "scattergl"
           }
          ],
          "scattermapbox": [
           {
            "marker": {
             "colorbar": {
              "outlinewidth": 0,
              "ticks": ""
             }
            },
            "type": "scattermapbox"
           }
          ],
          "scatterpolar": [
           {
            "marker": {
             "colorbar": {
              "outlinewidth": 0,
              "ticks": ""
             }
            },
            "type": "scatterpolar"
           }
          ],
          "scatterpolargl": [
           {
            "marker": {
             "colorbar": {
              "outlinewidth": 0,
              "ticks": ""
             }
            },
            "type": "scatterpolargl"
           }
          ],
          "scatterternary": [
           {
            "marker": {
             "colorbar": {
              "outlinewidth": 0,
              "ticks": ""
             }
            },
            "type": "scatterternary"
           }
          ],
          "surface": [
           {
            "colorbar": {
             "outlinewidth": 0,
             "ticks": ""
            },
            "colorscale": [
             [
              0,
              "#0d0887"
             ],
             [
              0.1111111111111111,
              "#46039f"
             ],
             [
              0.2222222222222222,
              "#7201a8"
             ],
             [
              0.3333333333333333,
              "#9c179e"
             ],
             [
              0.4444444444444444,
              "#bd3786"
             ],
             [
              0.5555555555555556,
              "#d8576b"
             ],
             [
              0.6666666666666666,
              "#ed7953"
             ],
             [
              0.7777777777777778,
              "#fb9f3a"
             ],
             [
              0.8888888888888888,
              "#fdca26"
             ],
             [
              1,
              "#f0f921"
             ]
            ],
            "type": "surface"
           }
          ],
          "table": [
           {
            "cells": {
             "fill": {
              "color": "#EBF0F8"
             },
             "line": {
              "color": "white"
             }
            },
            "header": {
             "fill": {
              "color": "#C8D4E3"
             },
             "line": {
              "color": "white"
             }
            },
            "type": "table"
           }
          ]
         },
         "layout": {
          "annotationdefaults": {
           "arrowcolor": "#2a3f5f",
           "arrowhead": 0,
           "arrowwidth": 1
          },
          "autotypenumbers": "strict",
          "coloraxis": {
           "colorbar": {
            "outlinewidth": 0,
            "ticks": ""
           }
          },
          "colorscale": {
           "diverging": [
            [
             0,
             "#8e0152"
            ],
            [
             0.1,
             "#c51b7d"
            ],
            [
             0.2,
             "#de77ae"
            ],
            [
             0.3,
             "#f1b6da"
            ],
            [
             0.4,
             "#fde0ef"
            ],
            [
             0.5,
             "#f7f7f7"
            ],
            [
             0.6,
             "#e6f5d0"
            ],
            [
             0.7,
             "#b8e186"
            ],
            [
             0.8,
             "#7fbc41"
            ],
            [
             0.9,
             "#4d9221"
            ],
            [
             1,
             "#276419"
            ]
           ],
           "sequential": [
            [
             0,
             "#0d0887"
            ],
            [
             0.1111111111111111,
             "#46039f"
            ],
            [
             0.2222222222222222,
             "#7201a8"
            ],
            [
             0.3333333333333333,
             "#9c179e"
            ],
            [
             0.4444444444444444,
             "#bd3786"
            ],
            [
             0.5555555555555556,
             "#d8576b"
            ],
            [
             0.6666666666666666,
             "#ed7953"
            ],
            [
             0.7777777777777778,
             "#fb9f3a"
            ],
            [
             0.8888888888888888,
             "#fdca26"
            ],
            [
             1,
             "#f0f921"
            ]
           ],
           "sequentialminus": [
            [
             0,
             "#0d0887"
            ],
            [
             0.1111111111111111,
             "#46039f"
            ],
            [
             0.2222222222222222,
             "#7201a8"
            ],
            [
             0.3333333333333333,
             "#9c179e"
            ],
            [
             0.4444444444444444,
             "#bd3786"
            ],
            [
             0.5555555555555556,
             "#d8576b"
            ],
            [
             0.6666666666666666,
             "#ed7953"
            ],
            [
             0.7777777777777778,
             "#fb9f3a"
            ],
            [
             0.8888888888888888,
             "#fdca26"
            ],
            [
             1,
             "#f0f921"
            ]
           ]
          },
          "colorway": [
           "#636efa",
           "#EF553B",
           "#00cc96",
           "#ab63fa",
           "#FFA15A",
           "#19d3f3",
           "#FF6692",
           "#B6E880",
           "#FF97FF",
           "#FECB52"
          ],
          "font": {
           "color": "#2a3f5f"
          },
          "geo": {
           "bgcolor": "white",
           "lakecolor": "white",
           "landcolor": "#E5ECF6",
           "showlakes": true,
           "showland": true,
           "subunitcolor": "white"
          },
          "hoverlabel": {
           "align": "left"
          },
          "hovermode": "closest",
          "mapbox": {
           "style": "light"
          },
          "paper_bgcolor": "white",
          "plot_bgcolor": "#E5ECF6",
          "polar": {
           "angularaxis": {
            "gridcolor": "white",
            "linecolor": "white",
            "ticks": ""
           },
           "bgcolor": "#E5ECF6",
           "radialaxis": {
            "gridcolor": "white",
            "linecolor": "white",
            "ticks": ""
           }
          },
          "scene": {
           "xaxis": {
            "backgroundcolor": "#E5ECF6",
            "gridcolor": "white",
            "gridwidth": 2,
            "linecolor": "white",
            "showbackground": true,
            "ticks": "",
            "zerolinecolor": "white"
           },
           "yaxis": {
            "backgroundcolor": "#E5ECF6",
            "gridcolor": "white",
            "gridwidth": 2,
            "linecolor": "white",
            "showbackground": true,
            "ticks": "",
            "zerolinecolor": "white"
           },
           "zaxis": {
            "backgroundcolor": "#E5ECF6",
            "gridcolor": "white",
            "gridwidth": 2,
            "linecolor": "white",
            "showbackground": true,
            "ticks": "",
            "zerolinecolor": "white"
           }
          },
          "shapedefaults": {
           "line": {
            "color": "#2a3f5f"
           }
          },
          "ternary": {
           "aaxis": {
            "gridcolor": "white",
            "linecolor": "white",
            "ticks": ""
           },
           "baxis": {
            "gridcolor": "white",
            "linecolor": "white",
            "ticks": ""
           },
           "bgcolor": "#E5ECF6",
           "caxis": {
            "gridcolor": "white",
            "linecolor": "white",
            "ticks": ""
           }
          },
          "title": {
           "x": 0.05
          },
          "xaxis": {
           "automargin": true,
           "gridcolor": "white",
           "linecolor": "white",
           "ticks": "",
           "title": {
            "standoff": 15
           },
           "zerolinecolor": "white",
           "zerolinewidth": 2
          },
          "yaxis": {
           "automargin": true,
           "gridcolor": "white",
           "linecolor": "white",
           "ticks": "",
           "title": {
            "standoff": 15
           },
           "zerolinecolor": "white",
           "zerolinewidth": 2
          }
         }
        },
        "title": {
         "text": "Libraries per 10000 inhabitants (Interactive bar chart)"
        },
        "xaxis": {
         "anchor": "y",
         "domain": [
          0,
          1
         ],
         "title": {
          "text": "Libraries 10000 inhabitants"
         }
        },
        "yaxis": {
         "anchor": "x",
         "domain": [
          0,
          1
         ],
         "title": {
          "text": "Voivodeship"
         }
        }
       }
      },
      "text/html": [
       "<div>                            <div id=\"aa92aa6b-e683-4704-b591-4e61e06a09a0\" class=\"plotly-graph-div\" style=\"height:525px; width:100%;\"></div>            <script type=\"text/javascript\">                require([\"plotly\"], function(Plotly) {                    window.PLOTLYENV=window.PLOTLYENV || {};                                    if (document.getElementById(\"aa92aa6b-e683-4704-b591-4e61e06a09a0\")) {                    Plotly.newPlot(                        \"aa92aa6b-e683-4704-b591-4e61e06a09a0\",                        [{\"alignmentgroup\":\"True\",\"hovertemplate\":\"color=dolnoslaskie<br>x=%{x}<br>y=%{y}<extra></extra>\",\"legendgroup\":\"dolnoslaskie\",\"marker\":{\"color\":\"#636efa\",\"pattern\":{\"shape\":\"\"}},\"name\":\"dolnoslaskie\",\"offsetgroup\":\"dolnoslaskie\",\"orientation\":\"h\",\"showlegend\":true,\"textposition\":\"auto\",\"x\":[2.0],\"xaxis\":\"x\",\"y\":[\"dolnoslaskie\"],\"yaxis\":\"y\",\"type\":\"bar\"},{\"alignmentgroup\":\"True\",\"hovertemplate\":\"color=kujawsko-pomorskie<br>x=%{x}<br>y=%{y}<extra></extra>\",\"legendgroup\":\"kujawsko-pomorskie\",\"marker\":{\"color\":\"#EF553B\",\"pattern\":{\"shape\":\"\"}},\"name\":\"kujawsko-pomorskie\",\"offsetgroup\":\"kujawsko-pomorskie\",\"orientation\":\"h\",\"showlegend\":true,\"textposition\":\"auto\",\"x\":[1.89],\"xaxis\":\"x\",\"y\":[\"kujawsko-pomorskie\"],\"yaxis\":\"y\",\"type\":\"bar\"},{\"alignmentgroup\":\"True\",\"hovertemplate\":\"color=lubelskie<br>x=%{x}<br>y=%{y}<extra></extra>\",\"legendgroup\":\"lubelskie\",\"marker\":{\"color\":\"#00cc96\",\"pattern\":{\"shape\":\"\"}},\"name\":\"lubelskie\",\"offsetgroup\":\"lubelskie\",\"orientation\":\"h\",\"showlegend\":true,\"textposition\":\"auto\",\"x\":[2.7],\"xaxis\":\"x\",\"y\":[\"lubelskie\"],\"yaxis\":\"y\",\"type\":\"bar\"},{\"alignmentgroup\":\"True\",\"hovertemplate\":\"color=lubuskie<br>x=%{x}<br>y=%{y}<extra></extra>\",\"legendgroup\":\"lubuskie\",\"marker\":{\"color\":\"#ab63fa\",\"pattern\":{\"shape\":\"\"}},\"name\":\"lubuskie\",\"offsetgroup\":\"lubuskie\",\"orientation\":\"h\",\"showlegend\":true,\"textposition\":\"auto\",\"x\":[2.4],\"xaxis\":\"x\",\"y\":[\"lubuskie\"],\"yaxis\":\"y\",\"type\":\"bar\"},{\"alignmentgroup\":\"True\",\"hovertemplate\":\"color=lodzkie<br>x=%{x}<br>y=%{y}<extra></extra>\",\"legendgroup\":\"lodzkie\",\"marker\":{\"color\":\"#FFA15A\",\"pattern\":{\"shape\":\"\"}},\"name\":\"lodzkie\",\"offsetgroup\":\"lodzkie\",\"orientation\":\"h\",\"showlegend\":true,\"textposition\":\"auto\",\"x\":[1.92],\"xaxis\":\"x\",\"y\":[\"lodzkie\"],\"yaxis\":\"y\",\"type\":\"bar\"},{\"alignmentgroup\":\"True\",\"hovertemplate\":\"color=malopolskie<br>x=%{x}<br>y=%{y}<extra></extra>\",\"legendgroup\":\"malopolskie\",\"marker\":{\"color\":\"#19d3f3\",\"pattern\":{\"shape\":\"\"}},\"name\":\"malopolskie\",\"offsetgroup\":\"malopolskie\",\"orientation\":\"h\",\"showlegend\":true,\"textposition\":\"auto\",\"x\":[2.08],\"xaxis\":\"x\",\"y\":[\"malopolskie\"],\"yaxis\":\"y\",\"type\":\"bar\"},{\"alignmentgroup\":\"True\",\"hovertemplate\":\"color=mazowiecki<br>x=%{x}<br>y=%{y}<extra></extra>\",\"legendgroup\":\"mazowiecki\",\"marker\":{\"color\":\"#FF6692\",\"pattern\":{\"shape\":\"\"}},\"name\":\"mazowiecki\",\"offsetgroup\":\"mazowiecki\",\"orientation\":\"h\",\"showlegend\":true,\"textposition\":\"auto\",\"x\":[1.74],\"xaxis\":\"x\",\"y\":[\"mazowiecki\"],\"yaxis\":\"y\",\"type\":\"bar\"},{\"alignmentgroup\":\"True\",\"hovertemplate\":\"color=opolskie<br>x=%{x}<br>y=%{y}<extra></extra>\",\"legendgroup\":\"opolskie\",\"marker\":{\"color\":\"#B6E880\",\"pattern\":{\"shape\":\"\"}},\"name\":\"opolskie\",\"offsetgroup\":\"opolskie\",\"orientation\":\"h\",\"showlegend\":true,\"textposition\":\"auto\",\"x\":[3.1],\"xaxis\":\"x\",\"y\":[\"opolskie\"],\"yaxis\":\"y\",\"type\":\"bar\"},{\"alignmentgroup\":\"True\",\"hovertemplate\":\"color=podkarpackie<br>x=%{x}<br>y=%{y}<extra></extra>\",\"legendgroup\":\"podkarpackie\",\"marker\":{\"color\":\"#FF97FF\",\"pattern\":{\"shape\":\"\"}},\"name\":\"podkarpackie\",\"offsetgroup\":\"podkarpackie\",\"orientation\":\"h\",\"showlegend\":true,\"textposition\":\"auto\",\"x\":[3.14],\"xaxis\":\"x\",\"y\":[\"podkarpackie\"],\"yaxis\":\"y\",\"type\":\"bar\"},{\"alignmentgroup\":\"True\",\"hovertemplate\":\"color=podlaskie<br>x=%{x}<br>y=%{y}<extra></extra>\",\"legendgroup\":\"podlaskie\",\"marker\":{\"color\":\"#FECB52\",\"pattern\":{\"shape\":\"\"}},\"name\":\"podlaskie\",\"offsetgroup\":\"podlaskie\",\"orientation\":\"h\",\"showlegend\":true,\"textposition\":\"auto\",\"x\":[1.93],\"xaxis\":\"x\",\"y\":[\"podlaskie\"],\"yaxis\":\"y\",\"type\":\"bar\"},{\"alignmentgroup\":\"True\",\"hovertemplate\":\"color=pomorskie<br>x=%{x}<br>y=%{y}<extra></extra>\",\"legendgroup\":\"pomorskie\",\"marker\":{\"color\":\"#636efa\",\"pattern\":{\"shape\":\"\"}},\"name\":\"pomorskie\",\"offsetgroup\":\"pomorskie\",\"orientation\":\"h\",\"showlegend\":true,\"textposition\":\"auto\",\"x\":[1.35],\"xaxis\":\"x\",\"y\":[\"pomorskie\"],\"yaxis\":\"y\",\"type\":\"bar\"},{\"alignmentgroup\":\"True\",\"hovertemplate\":\"color=slaskie<br>x=%{x}<br>y=%{y}<extra></extra>\",\"legendgroup\":\"slaskie\",\"marker\":{\"color\":\"#EF553B\",\"pattern\":{\"shape\":\"\"}},\"name\":\"slaskie\",\"offsetgroup\":\"slaskie\",\"orientation\":\"h\",\"showlegend\":true,\"textposition\":\"auto\",\"x\":[1.68],\"xaxis\":\"x\",\"y\":[\"slaskie\"],\"yaxis\":\"y\",\"type\":\"bar\"},{\"alignmentgroup\":\"True\",\"hovertemplate\":\"color=swietokrzyskie<br>x=%{x}<br>y=%{y}<extra></extra>\",\"legendgroup\":\"swietokrzyskie\",\"marker\":{\"color\":\"#00cc96\",\"pattern\":{\"shape\":\"\"}},\"name\":\"swietokrzyskie\",\"offsetgroup\":\"swietokrzyskie\",\"orientation\":\"h\",\"showlegend\":true,\"textposition\":\"auto\",\"x\":[2.09],\"xaxis\":\"x\",\"y\":[\"swietokrzyskie\"],\"yaxis\":\"y\",\"type\":\"bar\"},{\"alignmentgroup\":\"True\",\"hovertemplate\":\"color=warminsko-mazurskie<br>x=%{x}<br>y=%{y}<extra></extra>\",\"legendgroup\":\"warminsko-mazurskie\",\"marker\":{\"color\":\"#ab63fa\",\"pattern\":{\"shape\":\"\"}},\"name\":\"warminsko-mazurskie\",\"offsetgroup\":\"warminsko-mazurskie\",\"orientation\":\"h\",\"showlegend\":true,\"textposition\":\"auto\",\"x\":[2.05],\"xaxis\":\"x\",\"y\":[\"warminsko-mazurskie\"],\"yaxis\":\"y\",\"type\":\"bar\"},{\"alignmentgroup\":\"True\",\"hovertemplate\":\"color=wielkopolskie<br>x=%{x}<br>y=%{y}<extra></extra>\",\"legendgroup\":\"wielkopolskie\",\"marker\":{\"color\":\"#FFA15A\",\"pattern\":{\"shape\":\"\"}},\"name\":\"wielkopolskie\",\"offsetgroup\":\"wielkopolskie\",\"orientation\":\"h\",\"showlegend\":true,\"textposition\":\"auto\",\"x\":[1.87],\"xaxis\":\"x\",\"y\":[\"wielkopolskie\"],\"yaxis\":\"y\",\"type\":\"bar\"},{\"alignmentgroup\":\"True\",\"hovertemplate\":\"color=zachodniopomorskie<br>x=%{x}<br>y=%{y}<extra></extra>\",\"legendgroup\":\"zachodniopomorskie\",\"marker\":{\"color\":\"#19d3f3\",\"pattern\":{\"shape\":\"\"}},\"name\":\"zachodniopomorskie\",\"offsetgroup\":\"zachodniopomorskie\",\"orientation\":\"h\",\"showlegend\":true,\"textposition\":\"auto\",\"x\":[2.07],\"xaxis\":\"x\",\"y\":[\"zachodniopomorskie\"],\"yaxis\":\"y\",\"type\":\"bar\"}],                        {\"template\":{\"data\":{\"bar\":[{\"error_x\":{\"color\":\"#2a3f5f\"},\"error_y\":{\"color\":\"#2a3f5f\"},\"marker\":{\"line\":{\"color\":\"#E5ECF6\",\"width\":0.5},\"pattern\":{\"fillmode\":\"overlay\",\"size\":10,\"solidity\":0.2}},\"type\":\"bar\"}],\"barpolar\":[{\"marker\":{\"line\":{\"color\":\"#E5ECF6\",\"width\":0.5},\"pattern\":{\"fillmode\":\"overlay\",\"size\":10,\"solidity\":0.2}},\"type\":\"barpolar\"}],\"carpet\":[{\"aaxis\":{\"endlinecolor\":\"#2a3f5f\",\"gridcolor\":\"white\",\"linecolor\":\"white\",\"minorgridcolor\":\"white\",\"startlinecolor\":\"#2a3f5f\"},\"baxis\":{\"endlinecolor\":\"#2a3f5f\",\"gridcolor\":\"white\",\"linecolor\":\"white\",\"minorgridcolor\":\"white\",\"startlinecolor\":\"#2a3f5f\"},\"type\":\"carpet\"}],\"choropleth\":[{\"colorbar\":{\"outlinewidth\":0,\"ticks\":\"\"},\"type\":\"choropleth\"}],\"contour\":[{\"colorbar\":{\"outlinewidth\":0,\"ticks\":\"\"},\"colorscale\":[[0.0,\"#0d0887\"],[0.1111111111111111,\"#46039f\"],[0.2222222222222222,\"#7201a8\"],[0.3333333333333333,\"#9c179e\"],[0.4444444444444444,\"#bd3786\"],[0.5555555555555556,\"#d8576b\"],[0.6666666666666666,\"#ed7953\"],[0.7777777777777778,\"#fb9f3a\"],[0.8888888888888888,\"#fdca26\"],[1.0,\"#f0f921\"]],\"type\":\"contour\"}],\"contourcarpet\":[{\"colorbar\":{\"outlinewidth\":0,\"ticks\":\"\"},\"type\":\"contourcarpet\"}],\"heatmap\":[{\"colorbar\":{\"outlinewidth\":0,\"ticks\":\"\"},\"colorscale\":[[0.0,\"#0d0887\"],[0.1111111111111111,\"#46039f\"],[0.2222222222222222,\"#7201a8\"],[0.3333333333333333,\"#9c179e\"],[0.4444444444444444,\"#bd3786\"],[0.5555555555555556,\"#d8576b\"],[0.6666666666666666,\"#ed7953\"],[0.7777777777777778,\"#fb9f3a\"],[0.8888888888888888,\"#fdca26\"],[1.0,\"#f0f921\"]],\"type\":\"heatmap\"}],\"heatmapgl\":[{\"colorbar\":{\"outlinewidth\":0,\"ticks\":\"\"},\"colorscale\":[[0.0,\"#0d0887\"],[0.1111111111111111,\"#46039f\"],[0.2222222222222222,\"#7201a8\"],[0.3333333333333333,\"#9c179e\"],[0.4444444444444444,\"#bd3786\"],[0.5555555555555556,\"#d8576b\"],[0.6666666666666666,\"#ed7953\"],[0.7777777777777778,\"#fb9f3a\"],[0.8888888888888888,\"#fdca26\"],[1.0,\"#f0f921\"]],\"type\":\"heatmapgl\"}],\"histogram\":[{\"marker\":{\"pattern\":{\"fillmode\":\"overlay\",\"size\":10,\"solidity\":0.2}},\"type\":\"histogram\"}],\"histogram2d\":[{\"colorbar\":{\"outlinewidth\":0,\"ticks\":\"\"},\"colorscale\":[[0.0,\"#0d0887\"],[0.1111111111111111,\"#46039f\"],[0.2222222222222222,\"#7201a8\"],[0.3333333333333333,\"#9c179e\"],[0.4444444444444444,\"#bd3786\"],[0.5555555555555556,\"#d8576b\"],[0.6666666666666666,\"#ed7953\"],[0.7777777777777778,\"#fb9f3a\"],[0.8888888888888888,\"#fdca26\"],[1.0,\"#f0f921\"]],\"type\":\"histogram2d\"}],\"histogram2dcontour\":[{\"colorbar\":{\"outlinewidth\":0,\"ticks\":\"\"},\"colorscale\":[[0.0,\"#0d0887\"],[0.1111111111111111,\"#46039f\"],[0.2222222222222222,\"#7201a8\"],[0.3333333333333333,\"#9c179e\"],[0.4444444444444444,\"#bd3786\"],[0.5555555555555556,\"#d8576b\"],[0.6666666666666666,\"#ed7953\"],[0.7777777777777778,\"#fb9f3a\"],[0.8888888888888888,\"#fdca26\"],[1.0,\"#f0f921\"]],\"type\":\"histogram2dcontour\"}],\"mesh3d\":[{\"colorbar\":{\"outlinewidth\":0,\"ticks\":\"\"},\"type\":\"mesh3d\"}],\"parcoords\":[{\"line\":{\"colorbar\":{\"outlinewidth\":0,\"ticks\":\"\"}},\"type\":\"parcoords\"}],\"pie\":[{\"automargin\":true,\"type\":\"pie\"}],\"scatter\":[{\"marker\":{\"colorbar\":{\"outlinewidth\":0,\"ticks\":\"\"}},\"type\":\"scatter\"}],\"scatter3d\":[{\"line\":{\"colorbar\":{\"outlinewidth\":0,\"ticks\":\"\"}},\"marker\":{\"colorbar\":{\"outlinewidth\":0,\"ticks\":\"\"}},\"type\":\"scatter3d\"}],\"scattercarpet\":[{\"marker\":{\"colorbar\":{\"outlinewidth\":0,\"ticks\":\"\"}},\"type\":\"scattercarpet\"}],\"scattergeo\":[{\"marker\":{\"colorbar\":{\"outlinewidth\":0,\"ticks\":\"\"}},\"type\":\"scattergeo\"}],\"scattergl\":[{\"marker\":{\"colorbar\":{\"outlinewidth\":0,\"ticks\":\"\"}},\"type\":\"scattergl\"}],\"scattermapbox\":[{\"marker\":{\"colorbar\":{\"outlinewidth\":0,\"ticks\":\"\"}},\"type\":\"scattermapbox\"}],\"scatterpolar\":[{\"marker\":{\"colorbar\":{\"outlinewidth\":0,\"ticks\":\"\"}},\"type\":\"scatterpolar\"}],\"scatterpolargl\":[{\"marker\":{\"colorbar\":{\"outlinewidth\":0,\"ticks\":\"\"}},\"type\":\"scatterpolargl\"}],\"scatterternary\":[{\"marker\":{\"colorbar\":{\"outlinewidth\":0,\"ticks\":\"\"}},\"type\":\"scatterternary\"}],\"surface\":[{\"colorbar\":{\"outlinewidth\":0,\"ticks\":\"\"},\"colorscale\":[[0.0,\"#0d0887\"],[0.1111111111111111,\"#46039f\"],[0.2222222222222222,\"#7201a8\"],[0.3333333333333333,\"#9c179e\"],[0.4444444444444444,\"#bd3786\"],[0.5555555555555556,\"#d8576b\"],[0.6666666666666666,\"#ed7953\"],[0.7777777777777778,\"#fb9f3a\"],[0.8888888888888888,\"#fdca26\"],[1.0,\"#f0f921\"]],\"type\":\"surface\"}],\"table\":[{\"cells\":{\"fill\":{\"color\":\"#EBF0F8\"},\"line\":{\"color\":\"white\"}},\"header\":{\"fill\":{\"color\":\"#C8D4E3\"},\"line\":{\"color\":\"white\"}},\"type\":\"table\"}]},\"layout\":{\"annotationdefaults\":{\"arrowcolor\":\"#2a3f5f\",\"arrowhead\":0,\"arrowwidth\":1},\"autotypenumbers\":\"strict\",\"coloraxis\":{\"colorbar\":{\"outlinewidth\":0,\"ticks\":\"\"}},\"colorscale\":{\"diverging\":[[0,\"#8e0152\"],[0.1,\"#c51b7d\"],[0.2,\"#de77ae\"],[0.3,\"#f1b6da\"],[0.4,\"#fde0ef\"],[0.5,\"#f7f7f7\"],[0.6,\"#e6f5d0\"],[0.7,\"#b8e186\"],[0.8,\"#7fbc41\"],[0.9,\"#4d9221\"],[1,\"#276419\"]],\"sequential\":[[0.0,\"#0d0887\"],[0.1111111111111111,\"#46039f\"],[0.2222222222222222,\"#7201a8\"],[0.3333333333333333,\"#9c179e\"],[0.4444444444444444,\"#bd3786\"],[0.5555555555555556,\"#d8576b\"],[0.6666666666666666,\"#ed7953\"],[0.7777777777777778,\"#fb9f3a\"],[0.8888888888888888,\"#fdca26\"],[1.0,\"#f0f921\"]],\"sequentialminus\":[[0.0,\"#0d0887\"],[0.1111111111111111,\"#46039f\"],[0.2222222222222222,\"#7201a8\"],[0.3333333333333333,\"#9c179e\"],[0.4444444444444444,\"#bd3786\"],[0.5555555555555556,\"#d8576b\"],[0.6666666666666666,\"#ed7953\"],[0.7777777777777778,\"#fb9f3a\"],[0.8888888888888888,\"#fdca26\"],[1.0,\"#f0f921\"]]},\"colorway\":[\"#636efa\",\"#EF553B\",\"#00cc96\",\"#ab63fa\",\"#FFA15A\",\"#19d3f3\",\"#FF6692\",\"#B6E880\",\"#FF97FF\",\"#FECB52\"],\"font\":{\"color\":\"#2a3f5f\"},\"geo\":{\"bgcolor\":\"white\",\"lakecolor\":\"white\",\"landcolor\":\"#E5ECF6\",\"showlakes\":true,\"showland\":true,\"subunitcolor\":\"white\"},\"hoverlabel\":{\"align\":\"left\"},\"hovermode\":\"closest\",\"mapbox\":{\"style\":\"light\"},\"paper_bgcolor\":\"white\",\"plot_bgcolor\":\"#E5ECF6\",\"polar\":{\"angularaxis\":{\"gridcolor\":\"white\",\"linecolor\":\"white\",\"ticks\":\"\"},\"bgcolor\":\"#E5ECF6\",\"radialaxis\":{\"gridcolor\":\"white\",\"linecolor\":\"white\",\"ticks\":\"\"}},\"scene\":{\"xaxis\":{\"backgroundcolor\":\"#E5ECF6\",\"gridcolor\":\"white\",\"gridwidth\":2,\"linecolor\":\"white\",\"showbackground\":true,\"ticks\":\"\",\"zerolinecolor\":\"white\"},\"yaxis\":{\"backgroundcolor\":\"#E5ECF6\",\"gridcolor\":\"white\",\"gridwidth\":2,\"linecolor\":\"white\",\"showbackground\":true,\"ticks\":\"\",\"zerolinecolor\":\"white\"},\"zaxis\":{\"backgroundcolor\":\"#E5ECF6\",\"gridcolor\":\"white\",\"gridwidth\":2,\"linecolor\":\"white\",\"showbackground\":true,\"ticks\":\"\",\"zerolinecolor\":\"white\"}},\"shapedefaults\":{\"line\":{\"color\":\"#2a3f5f\"}},\"ternary\":{\"aaxis\":{\"gridcolor\":\"white\",\"linecolor\":\"white\",\"ticks\":\"\"},\"baxis\":{\"gridcolor\":\"white\",\"linecolor\":\"white\",\"ticks\":\"\"},\"bgcolor\":\"#E5ECF6\",\"caxis\":{\"gridcolor\":\"white\",\"linecolor\":\"white\",\"ticks\":\"\"}},\"title\":{\"x\":0.05},\"xaxis\":{\"automargin\":true,\"gridcolor\":\"white\",\"linecolor\":\"white\",\"ticks\":\"\",\"title\":{\"standoff\":15},\"zerolinecolor\":\"white\",\"zerolinewidth\":2},\"yaxis\":{\"automargin\":true,\"gridcolor\":\"white\",\"linecolor\":\"white\",\"ticks\":\"\",\"title\":{\"standoff\":15},\"zerolinecolor\":\"white\",\"zerolinewidth\":2}}},\"xaxis\":{\"anchor\":\"y\",\"domain\":[0.0,1.0],\"title\":{\"text\":\"Libraries 10000 inhabitants\"}},\"yaxis\":{\"anchor\":\"x\",\"domain\":[0.0,1.0],\"title\":{\"text\":\"Voivodeship\"}},\"legend\":{\"title\":{\"text\":\"color\"},\"tracegroupgap\":0},\"margin\":{\"t\":60},\"barmode\":\"relative\",\"font\":{\"family\":\"Courier New, monospace\",\"size\":14,\"color\":\"RebeccaPurple\"},\"title\":{\"text\":\"Libraries per 10000 inhabitants (Interactive bar chart)\"}},                        {\"responsive\": true}                    ).then(function(){\n",
       "                            \n",
       "var gd = document.getElementById('aa92aa6b-e683-4704-b591-4e61e06a09a0');\n",
       "var x = new MutationObserver(function (mutations, observer) {{\n",
       "        var display = window.getComputedStyle(gd).display;\n",
       "        if (!display || display === 'none') {{\n",
       "            console.log([gd, 'removed!']);\n",
       "            Plotly.purge(gd);\n",
       "            observer.disconnect();\n",
       "        }}\n",
       "}});\n",
       "\n",
       "// Listen for the removal of the full notebook cells\n",
       "var notebookContainer = gd.closest('#notebook-container');\n",
       "if (notebookContainer) {{\n",
       "    x.observe(notebookContainer, {childList: true});\n",
       "}}\n",
       "\n",
       "// Listen for the clearing of the current output cell\n",
       "var outputEl = gd.closest('.output');\n",
       "if (outputEl) {{\n",
       "    x.observe(outputEl, {childList: true});\n",
       "}}\n",
       "\n",
       "                        })                };                });            </script>        </div>"
      ]
     },
     "metadata": {},
     "output_type": "display_data"
    }
   ],
   "source": [
    "# Interactive bar chart with Plotly Express\n",
    "# Libraries per 10000 inhabitants\n",
    "\n",
    "fig1 = px \\\n",
    "        .bar(x = (libraries.Number_of_libraries*10000 / population.Total).round(2), \n",
    "             y = libraries.Voivodeship, \n",
    "             color=libraries.Voivodeship,\n",
    "            )\n",
    "\n",
    "fig1.update_layout(\n",
    "    title='Libraries per 10000 inhabitants (Interactive bar chart)',\n",
    "    xaxis_title='Libraries 10000 inhabitants',\n",
    "    yaxis_title='Voivodeship',\n",
    "    font=dict(\n",
    "    family=\"Courier New, monospace\",\n",
    "    size=14,\n",
    "    color=\"RebeccaPurple\"\n",
    "    )\n",
    ")\n",
    "\n",
    "fig1.show()"
   ]
  },
  {
   "cell_type": "code",
   "execution_count": 33,
   "id": "2dcd0414",
   "metadata": {},
   "outputs": [],
   "source": [
    "libraries['Libraries_per_10000'] = (libraries['Number_of_libraries']*10000 / population['Total']).round(0)"
   ]
  },
  {
   "cell_type": "code",
   "execution_count": 34,
   "id": "775fbde8",
   "metadata": {},
   "outputs": [
    {
     "name": "stdout",
     "output_type": "stream",
     "text": [
      "\u001b[1m\u001b[95mThe first five voivodeships in terms of Amount of Libraries per 10000 inhabitants:\u001b[0m lubelskie, opolskie, podkarpackie, dolnoslaskie, kujawsko-pomorskie\n"
     ]
    }
   ],
   "source": [
    "print(\n",
    "clr.S+\"Top five voivodeships in terms of Amount of Libraries per 10000 inhabitants:\"+clr.E,\n",
    "libraries.sort_values('Libraries_per_10000', ascending = False).Voivodeship[:5].str.cat(sep = ', '))"
   ]
  },
  {
   "cell_type": "code",
   "execution_count": null,
   "id": "a69ff3dc",
   "metadata": {},
   "outputs": [],
   "source": []
  },
  {
   "cell_type": "code",
   "execution_count": 35,
   "id": "c070577d",
   "metadata": {},
   "outputs": [
    {
     "data": {
      "application/vnd.plotly.v1+json": {
       "config": {
        "plotlyServerURL": "https://plot.ly"
       },
       "data": [
        {
         "alignmentgroup": "True",
         "hovertemplate": "color=dolnoslaskie<br>x=%{x}<br>y=%{y}<extra></extra>",
         "legendgroup": "dolnoslaskie",
         "marker": {
          "color": "#636efa",
          "pattern": {
           "shape": ""
          }
         },
         "name": "dolnoslaskie",
         "offsetgroup": "dolnoslaskie",
         "orientation": "h",
         "showlegend": true,
         "textposition": "auto",
         "type": "bar",
         "x": [
          1.73
         ],
         "xaxis": "x",
         "y": [
          "dolnoslaskie"
         ],
         "yaxis": "y"
        },
        {
         "alignmentgroup": "True",
         "hovertemplate": "color=kujawsko-pomorskie<br>x=%{x}<br>y=%{y}<extra></extra>",
         "legendgroup": "kujawsko-pomorskie",
         "marker": {
          "color": "#EF553B",
          "pattern": {
           "shape": ""
          }
         },
         "name": "kujawsko-pomorskie",
         "offsetgroup": "kujawsko-pomorskie",
         "orientation": "h",
         "showlegend": true,
         "textposition": "auto",
         "type": "bar",
         "x": [
          1.95
         ],
         "xaxis": "x",
         "y": [
          "kujawsko-pomorskie"
         ],
         "yaxis": "y"
        },
        {
         "alignmentgroup": "True",
         "hovertemplate": "color=lubelskie<br>x=%{x}<br>y=%{y}<extra></extra>",
         "legendgroup": "lubelskie",
         "marker": {
          "color": "#00cc96",
          "pattern": {
           "shape": ""
          }
         },
         "name": "lubelskie",
         "offsetgroup": "lubelskie",
         "orientation": "h",
         "showlegend": true,
         "textposition": "auto",
         "type": "bar",
         "x": [
          1.97
         ],
         "xaxis": "x",
         "y": [
          "lubelskie"
         ],
         "yaxis": "y"
        },
        {
         "alignmentgroup": "True",
         "hovertemplate": "color=lubuskie<br>x=%{x}<br>y=%{y}<extra></extra>",
         "legendgroup": "lubuskie",
         "marker": {
          "color": "#ab63fa",
          "pattern": {
           "shape": ""
          }
         },
         "name": "lubuskie",
         "offsetgroup": "lubuskie",
         "orientation": "h",
         "showlegend": true,
         "textposition": "auto",
         "type": "bar",
         "x": [
          2.32
         ],
         "xaxis": "x",
         "y": [
          "lubuskie"
         ],
         "yaxis": "y"
        },
        {
         "alignmentgroup": "True",
         "hovertemplate": "color=lodzkie<br>x=%{x}<br>y=%{y}<extra></extra>",
         "legendgroup": "lodzkie",
         "marker": {
          "color": "#FFA15A",
          "pattern": {
           "shape": ""
          }
         },
         "name": "lodzkie",
         "offsetgroup": "lodzkie",
         "orientation": "h",
         "showlegend": true,
         "textposition": "auto",
         "type": "bar",
         "x": [
          1.48
         ],
         "xaxis": "x",
         "y": [
          "lodzkie"
         ],
         "yaxis": "y"
        },
        {
         "alignmentgroup": "True",
         "hovertemplate": "color=malopolskie<br>x=%{x}<br>y=%{y}<extra></extra>",
         "legendgroup": "malopolskie",
         "marker": {
          "color": "#19d3f3",
          "pattern": {
           "shape": ""
          }
         },
         "name": "malopolskie",
         "offsetgroup": "malopolskie",
         "orientation": "h",
         "showlegend": true,
         "textposition": "auto",
         "type": "bar",
         "x": [
          1.3
         ],
         "xaxis": "x",
         "y": [
          "malopolskie"
         ],
         "yaxis": "y"
        },
        {
         "alignmentgroup": "True",
         "hovertemplate": "color=mazowiecki<br>x=%{x}<br>y=%{y}<extra></extra>",
         "legendgroup": "mazowiecki",
         "marker": {
          "color": "#FF6692",
          "pattern": {
           "shape": ""
          }
         },
         "name": "mazowiecki",
         "offsetgroup": "mazowiecki",
         "orientation": "h",
         "showlegend": true,
         "textposition": "auto",
         "type": "bar",
         "x": [
          1.23
         ],
         "xaxis": "x",
         "y": [
          "mazowiecki"
         ],
         "yaxis": "y"
        },
        {
         "alignmentgroup": "True",
         "hovertemplate": "color=opolskie<br>x=%{x}<br>y=%{y}<extra></extra>",
         "legendgroup": "opolskie",
         "marker": {
          "color": "#B6E880",
          "pattern": {
           "shape": ""
          }
         },
         "name": "opolskie",
         "offsetgroup": "opolskie",
         "orientation": "h",
         "showlegend": true,
         "textposition": "auto",
         "type": "bar",
         "x": [
          2.5
         ],
         "xaxis": "x",
         "y": [
          "opolskie"
         ],
         "yaxis": "y"
        },
        {
         "alignmentgroup": "True",
         "hovertemplate": "color=podkarpackie<br>x=%{x}<br>y=%{y}<extra></extra>",
         "legendgroup": "podkarpackie",
         "marker": {
          "color": "#FF97FF",
          "pattern": {
           "shape": ""
          }
         },
         "name": "podkarpackie",
         "offsetgroup": "podkarpackie",
         "orientation": "h",
         "showlegend": true,
         "textposition": "auto",
         "type": "bar",
         "x": [
          2.48
         ],
         "xaxis": "x",
         "y": [
          "podkarpackie"
         ],
         "yaxis": "y"
        },
        {
         "alignmentgroup": "True",
         "hovertemplate": "color=podlaskie<br>x=%{x}<br>y=%{y}<extra></extra>",
         "legendgroup": "podlaskie",
         "marker": {
          "color": "#FECB52",
          "pattern": {
           "shape": ""
          }
         },
         "name": "podlaskie",
         "offsetgroup": "podlaskie",
         "orientation": "h",
         "showlegend": true,
         "textposition": "auto",
         "type": "bar",
         "x": [
          1.84
         ],
         "xaxis": "x",
         "y": [
          "podlaskie"
         ],
         "yaxis": "y"
        },
        {
         "alignmentgroup": "True",
         "hovertemplate": "color=pomorskie<br>x=%{x}<br>y=%{y}<extra></extra>",
         "legendgroup": "pomorskie",
         "marker": {
          "color": "#636efa",
          "pattern": {
           "shape": ""
          }
         },
         "name": "pomorskie",
         "offsetgroup": "pomorskie",
         "orientation": "h",
         "showlegend": true,
         "textposition": "auto",
         "type": "bar",
         "x": [
          1.06
         ],
         "xaxis": "x",
         "y": [
          "pomorskie"
         ],
         "yaxis": "y"
        },
        {
         "alignmentgroup": "True",
         "hovertemplate": "color=slaskie<br>x=%{x}<br>y=%{y}<extra></extra>",
         "legendgroup": "slaskie",
         "marker": {
          "color": "#EF553B",
          "pattern": {
           "shape": ""
          }
         },
         "name": "slaskie",
         "offsetgroup": "slaskie",
         "orientation": "h",
         "showlegend": true,
         "textposition": "auto",
         "type": "bar",
         "x": [
          1.27
         ],
         "xaxis": "x",
         "y": [
          "slaskie"
         ],
         "yaxis": "y"
        },
        {
         "alignmentgroup": "True",
         "hovertemplate": "color=swietokrzyskie<br>x=%{x}<br>y=%{y}<extra></extra>",
         "legendgroup": "swietokrzyskie",
         "marker": {
          "color": "#00cc96",
          "pattern": {
           "shape": ""
          }
         },
         "name": "swietokrzyskie",
         "offsetgroup": "swietokrzyskie",
         "orientation": "h",
         "showlegend": true,
         "textposition": "auto",
         "type": "bar",
         "x": [
          2.12
         ],
         "xaxis": "x",
         "y": [
          "swietokrzyskie"
         ],
         "yaxis": "y"
        },
        {
         "alignmentgroup": "True",
         "hovertemplate": "color=warminsko-mazurskie<br>x=%{x}<br>y=%{y}<extra></extra>",
         "legendgroup": "warminsko-mazurskie",
         "marker": {
          "color": "#ab63fa",
          "pattern": {
           "shape": ""
          }
         },
         "name": "warminsko-mazurskie",
         "offsetgroup": "warminsko-mazurskie",
         "orientation": "h",
         "showlegend": true,
         "textposition": "auto",
         "type": "bar",
         "x": [
          1.95
         ],
         "xaxis": "x",
         "y": [
          "warminsko-mazurskie"
         ],
         "yaxis": "y"
        },
        {
         "alignmentgroup": "True",
         "hovertemplate": "color=wielkopolskie<br>x=%{x}<br>y=%{y}<extra></extra>",
         "legendgroup": "wielkopolskie",
         "marker": {
          "color": "#FFA15A",
          "pattern": {
           "shape": ""
          }
         },
         "name": "wielkopolskie",
         "offsetgroup": "wielkopolskie",
         "orientation": "h",
         "showlegend": true,
         "textposition": "auto",
         "type": "bar",
         "x": [
          1.59
         ],
         "xaxis": "x",
         "y": [
          "wielkopolskie"
         ],
         "yaxis": "y"
        },
        {
         "alignmentgroup": "True",
         "hovertemplate": "color=zachodniopomorskie<br>x=%{x}<br>y=%{y}<extra></extra>",
         "legendgroup": "zachodniopomorskie",
         "marker": {
          "color": "#19d3f3",
          "pattern": {
           "shape": ""
          }
         },
         "name": "zachodniopomorskie",
         "offsetgroup": "zachodniopomorskie",
         "orientation": "h",
         "showlegend": true,
         "textposition": "auto",
         "type": "bar",
         "x": [
          2.02
         ],
         "xaxis": "x",
         "y": [
          "zachodniopomorskie"
         ],
         "yaxis": "y"
        }
       ],
       "layout": {
        "barmode": "relative",
        "font": {
         "color": "RebeccaPurple",
         "family": "Courier New, monospace",
         "size": 14
        },
        "legend": {
         "title": {
          "text": "color"
         },
         "tracegroupgap": 0
        },
        "margin": {
         "t": 60
        },
        "template": {
         "data": {
          "bar": [
           {
            "error_x": {
             "color": "#2a3f5f"
            },
            "error_y": {
             "color": "#2a3f5f"
            },
            "marker": {
             "line": {
              "color": "#E5ECF6",
              "width": 0.5
             },
             "pattern": {
              "fillmode": "overlay",
              "size": 10,
              "solidity": 0.2
             }
            },
            "type": "bar"
           }
          ],
          "barpolar": [
           {
            "marker": {
             "line": {
              "color": "#E5ECF6",
              "width": 0.5
             },
             "pattern": {
              "fillmode": "overlay",
              "size": 10,
              "solidity": 0.2
             }
            },
            "type": "barpolar"
           }
          ],
          "carpet": [
           {
            "aaxis": {
             "endlinecolor": "#2a3f5f",
             "gridcolor": "white",
             "linecolor": "white",
             "minorgridcolor": "white",
             "startlinecolor": "#2a3f5f"
            },
            "baxis": {
             "endlinecolor": "#2a3f5f",
             "gridcolor": "white",
             "linecolor": "white",
             "minorgridcolor": "white",
             "startlinecolor": "#2a3f5f"
            },
            "type": "carpet"
           }
          ],
          "choropleth": [
           {
            "colorbar": {
             "outlinewidth": 0,
             "ticks": ""
            },
            "type": "choropleth"
           }
          ],
          "contour": [
           {
            "colorbar": {
             "outlinewidth": 0,
             "ticks": ""
            },
            "colorscale": [
             [
              0,
              "#0d0887"
             ],
             [
              0.1111111111111111,
              "#46039f"
             ],
             [
              0.2222222222222222,
              "#7201a8"
             ],
             [
              0.3333333333333333,
              "#9c179e"
             ],
             [
              0.4444444444444444,
              "#bd3786"
             ],
             [
              0.5555555555555556,
              "#d8576b"
             ],
             [
              0.6666666666666666,
              "#ed7953"
             ],
             [
              0.7777777777777778,
              "#fb9f3a"
             ],
             [
              0.8888888888888888,
              "#fdca26"
             ],
             [
              1,
              "#f0f921"
             ]
            ],
            "type": "contour"
           }
          ],
          "contourcarpet": [
           {
            "colorbar": {
             "outlinewidth": 0,
             "ticks": ""
            },
            "type": "contourcarpet"
           }
          ],
          "heatmap": [
           {
            "colorbar": {
             "outlinewidth": 0,
             "ticks": ""
            },
            "colorscale": [
             [
              0,
              "#0d0887"
             ],
             [
              0.1111111111111111,
              "#46039f"
             ],
             [
              0.2222222222222222,
              "#7201a8"
             ],
             [
              0.3333333333333333,
              "#9c179e"
             ],
             [
              0.4444444444444444,
              "#bd3786"
             ],
             [
              0.5555555555555556,
              "#d8576b"
             ],
             [
              0.6666666666666666,
              "#ed7953"
             ],
             [
              0.7777777777777778,
              "#fb9f3a"
             ],
             [
              0.8888888888888888,
              "#fdca26"
             ],
             [
              1,
              "#f0f921"
             ]
            ],
            "type": "heatmap"
           }
          ],
          "heatmapgl": [
           {
            "colorbar": {
             "outlinewidth": 0,
             "ticks": ""
            },
            "colorscale": [
             [
              0,
              "#0d0887"
             ],
             [
              0.1111111111111111,
              "#46039f"
             ],
             [
              0.2222222222222222,
              "#7201a8"
             ],
             [
              0.3333333333333333,
              "#9c179e"
             ],
             [
              0.4444444444444444,
              "#bd3786"
             ],
             [
              0.5555555555555556,
              "#d8576b"
             ],
             [
              0.6666666666666666,
              "#ed7953"
             ],
             [
              0.7777777777777778,
              "#fb9f3a"
             ],
             [
              0.8888888888888888,
              "#fdca26"
             ],
             [
              1,
              "#f0f921"
             ]
            ],
            "type": "heatmapgl"
           }
          ],
          "histogram": [
           {
            "marker": {
             "pattern": {
              "fillmode": "overlay",
              "size": 10,
              "solidity": 0.2
             }
            },
            "type": "histogram"
           }
          ],
          "histogram2d": [
           {
            "colorbar": {
             "outlinewidth": 0,
             "ticks": ""
            },
            "colorscale": [
             [
              0,
              "#0d0887"
             ],
             [
              0.1111111111111111,
              "#46039f"
             ],
             [
              0.2222222222222222,
              "#7201a8"
             ],
             [
              0.3333333333333333,
              "#9c179e"
             ],
             [
              0.4444444444444444,
              "#bd3786"
             ],
             [
              0.5555555555555556,
              "#d8576b"
             ],
             [
              0.6666666666666666,
              "#ed7953"
             ],
             [
              0.7777777777777778,
              "#fb9f3a"
             ],
             [
              0.8888888888888888,
              "#fdca26"
             ],
             [
              1,
              "#f0f921"
             ]
            ],
            "type": "histogram2d"
           }
          ],
          "histogram2dcontour": [
           {
            "colorbar": {
             "outlinewidth": 0,
             "ticks": ""
            },
            "colorscale": [
             [
              0,
              "#0d0887"
             ],
             [
              0.1111111111111111,
              "#46039f"
             ],
             [
              0.2222222222222222,
              "#7201a8"
             ],
             [
              0.3333333333333333,
              "#9c179e"
             ],
             [
              0.4444444444444444,
              "#bd3786"
             ],
             [
              0.5555555555555556,
              "#d8576b"
             ],
             [
              0.6666666666666666,
              "#ed7953"
             ],
             [
              0.7777777777777778,
              "#fb9f3a"
             ],
             [
              0.8888888888888888,
              "#fdca26"
             ],
             [
              1,
              "#f0f921"
             ]
            ],
            "type": "histogram2dcontour"
           }
          ],
          "mesh3d": [
           {
            "colorbar": {
             "outlinewidth": 0,
             "ticks": ""
            },
            "type": "mesh3d"
           }
          ],
          "parcoords": [
           {
            "line": {
             "colorbar": {
              "outlinewidth": 0,
              "ticks": ""
             }
            },
            "type": "parcoords"
           }
          ],
          "pie": [
           {
            "automargin": true,
            "type": "pie"
           }
          ],
          "scatter": [
           {
            "marker": {
             "colorbar": {
              "outlinewidth": 0,
              "ticks": ""
             }
            },
            "type": "scatter"
           }
          ],
          "scatter3d": [
           {
            "line": {
             "colorbar": {
              "outlinewidth": 0,
              "ticks": ""
             }
            },
            "marker": {
             "colorbar": {
              "outlinewidth": 0,
              "ticks": ""
             }
            },
            "type": "scatter3d"
           }
          ],
          "scattercarpet": [
           {
            "marker": {
             "colorbar": {
              "outlinewidth": 0,
              "ticks": ""
             }
            },
            "type": "scattercarpet"
           }
          ],
          "scattergeo": [
           {
            "marker": {
             "colorbar": {
              "outlinewidth": 0,
              "ticks": ""
             }
            },
            "type": "scattergeo"
           }
          ],
          "scattergl": [
           {
            "marker": {
             "colorbar": {
              "outlinewidth": 0,
              "ticks": ""
             }
            },
            "type": "scattergl"
           }
          ],
          "scattermapbox": [
           {
            "marker": {
             "colorbar": {
              "outlinewidth": 0,
              "ticks": ""
             }
            },
            "type": "scattermapbox"
           }
          ],
          "scatterpolar": [
           {
            "marker": {
             "colorbar": {
              "outlinewidth": 0,
              "ticks": ""
             }
            },
            "type": "scatterpolar"
           }
          ],
          "scatterpolargl": [
           {
            "marker": {
             "colorbar": {
              "outlinewidth": 0,
              "ticks": ""
             }
            },
            "type": "scatterpolargl"
           }
          ],
          "scatterternary": [
           {
            "marker": {
             "colorbar": {
              "outlinewidth": 0,
              "ticks": ""
             }
            },
            "type": "scatterternary"
           }
          ],
          "surface": [
           {
            "colorbar": {
             "outlinewidth": 0,
             "ticks": ""
            },
            "colorscale": [
             [
              0,
              "#0d0887"
             ],
             [
              0.1111111111111111,
              "#46039f"
             ],
             [
              0.2222222222222222,
              "#7201a8"
             ],
             [
              0.3333333333333333,
              "#9c179e"
             ],
             [
              0.4444444444444444,
              "#bd3786"
             ],
             [
              0.5555555555555556,
              "#d8576b"
             ],
             [
              0.6666666666666666,
              "#ed7953"
             ],
             [
              0.7777777777777778,
              "#fb9f3a"
             ],
             [
              0.8888888888888888,
              "#fdca26"
             ],
             [
              1,
              "#f0f921"
             ]
            ],
            "type": "surface"
           }
          ],
          "table": [
           {
            "cells": {
             "fill": {
              "color": "#EBF0F8"
             },
             "line": {
              "color": "white"
             }
            },
            "header": {
             "fill": {
              "color": "#C8D4E3"
             },
             "line": {
              "color": "white"
             }
            },
            "type": "table"
           }
          ]
         },
         "layout": {
          "annotationdefaults": {
           "arrowcolor": "#2a3f5f",
           "arrowhead": 0,
           "arrowwidth": 1
          },
          "autotypenumbers": "strict",
          "coloraxis": {
           "colorbar": {
            "outlinewidth": 0,
            "ticks": ""
           }
          },
          "colorscale": {
           "diverging": [
            [
             0,
             "#8e0152"
            ],
            [
             0.1,
             "#c51b7d"
            ],
            [
             0.2,
             "#de77ae"
            ],
            [
             0.3,
             "#f1b6da"
            ],
            [
             0.4,
             "#fde0ef"
            ],
            [
             0.5,
             "#f7f7f7"
            ],
            [
             0.6,
             "#e6f5d0"
            ],
            [
             0.7,
             "#b8e186"
            ],
            [
             0.8,
             "#7fbc41"
            ],
            [
             0.9,
             "#4d9221"
            ],
            [
             1,
             "#276419"
            ]
           ],
           "sequential": [
            [
             0,
             "#0d0887"
            ],
            [
             0.1111111111111111,
             "#46039f"
            ],
            [
             0.2222222222222222,
             "#7201a8"
            ],
            [
             0.3333333333333333,
             "#9c179e"
            ],
            [
             0.4444444444444444,
             "#bd3786"
            ],
            [
             0.5555555555555556,
             "#d8576b"
            ],
            [
             0.6666666666666666,
             "#ed7953"
            ],
            [
             0.7777777777777778,
             "#fb9f3a"
            ],
            [
             0.8888888888888888,
             "#fdca26"
            ],
            [
             1,
             "#f0f921"
            ]
           ],
           "sequentialminus": [
            [
             0,
             "#0d0887"
            ],
            [
             0.1111111111111111,
             "#46039f"
            ],
            [
             0.2222222222222222,
             "#7201a8"
            ],
            [
             0.3333333333333333,
             "#9c179e"
            ],
            [
             0.4444444444444444,
             "#bd3786"
            ],
            [
             0.5555555555555556,
             "#d8576b"
            ],
            [
             0.6666666666666666,
             "#ed7953"
            ],
            [
             0.7777777777777778,
             "#fb9f3a"
            ],
            [
             0.8888888888888888,
             "#fdca26"
            ],
            [
             1,
             "#f0f921"
            ]
           ]
          },
          "colorway": [
           "#636efa",
           "#EF553B",
           "#00cc96",
           "#ab63fa",
           "#FFA15A",
           "#19d3f3",
           "#FF6692",
           "#B6E880",
           "#FF97FF",
           "#FECB52"
          ],
          "font": {
           "color": "#2a3f5f"
          },
          "geo": {
           "bgcolor": "white",
           "lakecolor": "white",
           "landcolor": "#E5ECF6",
           "showlakes": true,
           "showland": true,
           "subunitcolor": "white"
          },
          "hoverlabel": {
           "align": "left"
          },
          "hovermode": "closest",
          "mapbox": {
           "style": "light"
          },
          "paper_bgcolor": "white",
          "plot_bgcolor": "#E5ECF6",
          "polar": {
           "angularaxis": {
            "gridcolor": "white",
            "linecolor": "white",
            "ticks": ""
           },
           "bgcolor": "#E5ECF6",
           "radialaxis": {
            "gridcolor": "white",
            "linecolor": "white",
            "ticks": ""
           }
          },
          "scene": {
           "xaxis": {
            "backgroundcolor": "#E5ECF6",
            "gridcolor": "white",
            "gridwidth": 2,
            "linecolor": "white",
            "showbackground": true,
            "ticks": "",
            "zerolinecolor": "white"
           },
           "yaxis": {
            "backgroundcolor": "#E5ECF6",
            "gridcolor": "white",
            "gridwidth": 2,
            "linecolor": "white",
            "showbackground": true,
            "ticks": "",
            "zerolinecolor": "white"
           },
           "zaxis": {
            "backgroundcolor": "#E5ECF6",
            "gridcolor": "white",
            "gridwidth": 2,
            "linecolor": "white",
            "showbackground": true,
            "ticks": "",
            "zerolinecolor": "white"
           }
          },
          "shapedefaults": {
           "line": {
            "color": "#2a3f5f"
           }
          },
          "ternary": {
           "aaxis": {
            "gridcolor": "white",
            "linecolor": "white",
            "ticks": ""
           },
           "baxis": {
            "gridcolor": "white",
            "linecolor": "white",
            "ticks": ""
           },
           "bgcolor": "#E5ECF6",
           "caxis": {
            "gridcolor": "white",
            "linecolor": "white",
            "ticks": ""
           }
          },
          "title": {
           "x": 0.05
          },
          "xaxis": {
           "automargin": true,
           "gridcolor": "white",
           "linecolor": "white",
           "ticks": "",
           "title": {
            "standoff": 15
           },
           "zerolinecolor": "white",
           "zerolinewidth": 2
          },
          "yaxis": {
           "automargin": true,
           "gridcolor": "white",
           "linecolor": "white",
           "ticks": "",
           "title": {
            "standoff": 15
           },
           "zerolinecolor": "white",
           "zerolinewidth": 2
          }
         }
        },
        "title": {
         "text": "Libraries per 1000 Readers (Interactive bar chart)"
        },
        "xaxis": {
         "anchor": "y",
         "domain": [
          0,
          1
         ],
         "title": {
          "text": "Libraries per 1000 Readers"
         }
        },
        "yaxis": {
         "anchor": "x",
         "domain": [
          0,
          1
         ],
         "title": {
          "text": "Voivodeship"
         }
        }
       }
      },
      "text/html": [
       "<div>                            <div id=\"7b905dc3-e0c3-44c4-b939-aa57454d9d21\" class=\"plotly-graph-div\" style=\"height:525px; width:100%;\"></div>            <script type=\"text/javascript\">                require([\"plotly\"], function(Plotly) {                    window.PLOTLYENV=window.PLOTLYENV || {};                                    if (document.getElementById(\"7b905dc3-e0c3-44c4-b939-aa57454d9d21\")) {                    Plotly.newPlot(                        \"7b905dc3-e0c3-44c4-b939-aa57454d9d21\",                        [{\"alignmentgroup\":\"True\",\"hovertemplate\":\"color=dolnoslaskie<br>x=%{x}<br>y=%{y}<extra></extra>\",\"legendgroup\":\"dolnoslaskie\",\"marker\":{\"color\":\"#636efa\",\"pattern\":{\"shape\":\"\"}},\"name\":\"dolnoslaskie\",\"offsetgroup\":\"dolnoslaskie\",\"orientation\":\"h\",\"showlegend\":true,\"textposition\":\"auto\",\"x\":[1.73],\"xaxis\":\"x\",\"y\":[\"dolnoslaskie\"],\"yaxis\":\"y\",\"type\":\"bar\"},{\"alignmentgroup\":\"True\",\"hovertemplate\":\"color=kujawsko-pomorskie<br>x=%{x}<br>y=%{y}<extra></extra>\",\"legendgroup\":\"kujawsko-pomorskie\",\"marker\":{\"color\":\"#EF553B\",\"pattern\":{\"shape\":\"\"}},\"name\":\"kujawsko-pomorskie\",\"offsetgroup\":\"kujawsko-pomorskie\",\"orientation\":\"h\",\"showlegend\":true,\"textposition\":\"auto\",\"x\":[1.95],\"xaxis\":\"x\",\"y\":[\"kujawsko-pomorskie\"],\"yaxis\":\"y\",\"type\":\"bar\"},{\"alignmentgroup\":\"True\",\"hovertemplate\":\"color=lubelskie<br>x=%{x}<br>y=%{y}<extra></extra>\",\"legendgroup\":\"lubelskie\",\"marker\":{\"color\":\"#00cc96\",\"pattern\":{\"shape\":\"\"}},\"name\":\"lubelskie\",\"offsetgroup\":\"lubelskie\",\"orientation\":\"h\",\"showlegend\":true,\"textposition\":\"auto\",\"x\":[1.97],\"xaxis\":\"x\",\"y\":[\"lubelskie\"],\"yaxis\":\"y\",\"type\":\"bar\"},{\"alignmentgroup\":\"True\",\"hovertemplate\":\"color=lubuskie<br>x=%{x}<br>y=%{y}<extra></extra>\",\"legendgroup\":\"lubuskie\",\"marker\":{\"color\":\"#ab63fa\",\"pattern\":{\"shape\":\"\"}},\"name\":\"lubuskie\",\"offsetgroup\":\"lubuskie\",\"orientation\":\"h\",\"showlegend\":true,\"textposition\":\"auto\",\"x\":[2.32],\"xaxis\":\"x\",\"y\":[\"lubuskie\"],\"yaxis\":\"y\",\"type\":\"bar\"},{\"alignmentgroup\":\"True\",\"hovertemplate\":\"color=lodzkie<br>x=%{x}<br>y=%{y}<extra></extra>\",\"legendgroup\":\"lodzkie\",\"marker\":{\"color\":\"#FFA15A\",\"pattern\":{\"shape\":\"\"}},\"name\":\"lodzkie\",\"offsetgroup\":\"lodzkie\",\"orientation\":\"h\",\"showlegend\":true,\"textposition\":\"auto\",\"x\":[1.48],\"xaxis\":\"x\",\"y\":[\"lodzkie\"],\"yaxis\":\"y\",\"type\":\"bar\"},{\"alignmentgroup\":\"True\",\"hovertemplate\":\"color=malopolskie<br>x=%{x}<br>y=%{y}<extra></extra>\",\"legendgroup\":\"malopolskie\",\"marker\":{\"color\":\"#19d3f3\",\"pattern\":{\"shape\":\"\"}},\"name\":\"malopolskie\",\"offsetgroup\":\"malopolskie\",\"orientation\":\"h\",\"showlegend\":true,\"textposition\":\"auto\",\"x\":[1.3],\"xaxis\":\"x\",\"y\":[\"malopolskie\"],\"yaxis\":\"y\",\"type\":\"bar\"},{\"alignmentgroup\":\"True\",\"hovertemplate\":\"color=mazowiecki<br>x=%{x}<br>y=%{y}<extra></extra>\",\"legendgroup\":\"mazowiecki\",\"marker\":{\"color\":\"#FF6692\",\"pattern\":{\"shape\":\"\"}},\"name\":\"mazowiecki\",\"offsetgroup\":\"mazowiecki\",\"orientation\":\"h\",\"showlegend\":true,\"textposition\":\"auto\",\"x\":[1.23],\"xaxis\":\"x\",\"y\":[\"mazowiecki\"],\"yaxis\":\"y\",\"type\":\"bar\"},{\"alignmentgroup\":\"True\",\"hovertemplate\":\"color=opolskie<br>x=%{x}<br>y=%{y}<extra></extra>\",\"legendgroup\":\"opolskie\",\"marker\":{\"color\":\"#B6E880\",\"pattern\":{\"shape\":\"\"}},\"name\":\"opolskie\",\"offsetgroup\":\"opolskie\",\"orientation\":\"h\",\"showlegend\":true,\"textposition\":\"auto\",\"x\":[2.5],\"xaxis\":\"x\",\"y\":[\"opolskie\"],\"yaxis\":\"y\",\"type\":\"bar\"},{\"alignmentgroup\":\"True\",\"hovertemplate\":\"color=podkarpackie<br>x=%{x}<br>y=%{y}<extra></extra>\",\"legendgroup\":\"podkarpackie\",\"marker\":{\"color\":\"#FF97FF\",\"pattern\":{\"shape\":\"\"}},\"name\":\"podkarpackie\",\"offsetgroup\":\"podkarpackie\",\"orientation\":\"h\",\"showlegend\":true,\"textposition\":\"auto\",\"x\":[2.48],\"xaxis\":\"x\",\"y\":[\"podkarpackie\"],\"yaxis\":\"y\",\"type\":\"bar\"},{\"alignmentgroup\":\"True\",\"hovertemplate\":\"color=podlaskie<br>x=%{x}<br>y=%{y}<extra></extra>\",\"legendgroup\":\"podlaskie\",\"marker\":{\"color\":\"#FECB52\",\"pattern\":{\"shape\":\"\"}},\"name\":\"podlaskie\",\"offsetgroup\":\"podlaskie\",\"orientation\":\"h\",\"showlegend\":true,\"textposition\":\"auto\",\"x\":[1.84],\"xaxis\":\"x\",\"y\":[\"podlaskie\"],\"yaxis\":\"y\",\"type\":\"bar\"},{\"alignmentgroup\":\"True\",\"hovertemplate\":\"color=pomorskie<br>x=%{x}<br>y=%{y}<extra></extra>\",\"legendgroup\":\"pomorskie\",\"marker\":{\"color\":\"#636efa\",\"pattern\":{\"shape\":\"\"}},\"name\":\"pomorskie\",\"offsetgroup\":\"pomorskie\",\"orientation\":\"h\",\"showlegend\":true,\"textposition\":\"auto\",\"x\":[1.06],\"xaxis\":\"x\",\"y\":[\"pomorskie\"],\"yaxis\":\"y\",\"type\":\"bar\"},{\"alignmentgroup\":\"True\",\"hovertemplate\":\"color=slaskie<br>x=%{x}<br>y=%{y}<extra></extra>\",\"legendgroup\":\"slaskie\",\"marker\":{\"color\":\"#EF553B\",\"pattern\":{\"shape\":\"\"}},\"name\":\"slaskie\",\"offsetgroup\":\"slaskie\",\"orientation\":\"h\",\"showlegend\":true,\"textposition\":\"auto\",\"x\":[1.27],\"xaxis\":\"x\",\"y\":[\"slaskie\"],\"yaxis\":\"y\",\"type\":\"bar\"},{\"alignmentgroup\":\"True\",\"hovertemplate\":\"color=swietokrzyskie<br>x=%{x}<br>y=%{y}<extra></extra>\",\"legendgroup\":\"swietokrzyskie\",\"marker\":{\"color\":\"#00cc96\",\"pattern\":{\"shape\":\"\"}},\"name\":\"swietokrzyskie\",\"offsetgroup\":\"swietokrzyskie\",\"orientation\":\"h\",\"showlegend\":true,\"textposition\":\"auto\",\"x\":[2.12],\"xaxis\":\"x\",\"y\":[\"swietokrzyskie\"],\"yaxis\":\"y\",\"type\":\"bar\"},{\"alignmentgroup\":\"True\",\"hovertemplate\":\"color=warminsko-mazurskie<br>x=%{x}<br>y=%{y}<extra></extra>\",\"legendgroup\":\"warminsko-mazurskie\",\"marker\":{\"color\":\"#ab63fa\",\"pattern\":{\"shape\":\"\"}},\"name\":\"warminsko-mazurskie\",\"offsetgroup\":\"warminsko-mazurskie\",\"orientation\":\"h\",\"showlegend\":true,\"textposition\":\"auto\",\"x\":[1.95],\"xaxis\":\"x\",\"y\":[\"warminsko-mazurskie\"],\"yaxis\":\"y\",\"type\":\"bar\"},{\"alignmentgroup\":\"True\",\"hovertemplate\":\"color=wielkopolskie<br>x=%{x}<br>y=%{y}<extra></extra>\",\"legendgroup\":\"wielkopolskie\",\"marker\":{\"color\":\"#FFA15A\",\"pattern\":{\"shape\":\"\"}},\"name\":\"wielkopolskie\",\"offsetgroup\":\"wielkopolskie\",\"orientation\":\"h\",\"showlegend\":true,\"textposition\":\"auto\",\"x\":[1.59],\"xaxis\":\"x\",\"y\":[\"wielkopolskie\"],\"yaxis\":\"y\",\"type\":\"bar\"},{\"alignmentgroup\":\"True\",\"hovertemplate\":\"color=zachodniopomorskie<br>x=%{x}<br>y=%{y}<extra></extra>\",\"legendgroup\":\"zachodniopomorskie\",\"marker\":{\"color\":\"#19d3f3\",\"pattern\":{\"shape\":\"\"}},\"name\":\"zachodniopomorskie\",\"offsetgroup\":\"zachodniopomorskie\",\"orientation\":\"h\",\"showlegend\":true,\"textposition\":\"auto\",\"x\":[2.02],\"xaxis\":\"x\",\"y\":[\"zachodniopomorskie\"],\"yaxis\":\"y\",\"type\":\"bar\"}],                        {\"template\":{\"data\":{\"bar\":[{\"error_x\":{\"color\":\"#2a3f5f\"},\"error_y\":{\"color\":\"#2a3f5f\"},\"marker\":{\"line\":{\"color\":\"#E5ECF6\",\"width\":0.5},\"pattern\":{\"fillmode\":\"overlay\",\"size\":10,\"solidity\":0.2}},\"type\":\"bar\"}],\"barpolar\":[{\"marker\":{\"line\":{\"color\":\"#E5ECF6\",\"width\":0.5},\"pattern\":{\"fillmode\":\"overlay\",\"size\":10,\"solidity\":0.2}},\"type\":\"barpolar\"}],\"carpet\":[{\"aaxis\":{\"endlinecolor\":\"#2a3f5f\",\"gridcolor\":\"white\",\"linecolor\":\"white\",\"minorgridcolor\":\"white\",\"startlinecolor\":\"#2a3f5f\"},\"baxis\":{\"endlinecolor\":\"#2a3f5f\",\"gridcolor\":\"white\",\"linecolor\":\"white\",\"minorgridcolor\":\"white\",\"startlinecolor\":\"#2a3f5f\"},\"type\":\"carpet\"}],\"choropleth\":[{\"colorbar\":{\"outlinewidth\":0,\"ticks\":\"\"},\"type\":\"choropleth\"}],\"contour\":[{\"colorbar\":{\"outlinewidth\":0,\"ticks\":\"\"},\"colorscale\":[[0.0,\"#0d0887\"],[0.1111111111111111,\"#46039f\"],[0.2222222222222222,\"#7201a8\"],[0.3333333333333333,\"#9c179e\"],[0.4444444444444444,\"#bd3786\"],[0.5555555555555556,\"#d8576b\"],[0.6666666666666666,\"#ed7953\"],[0.7777777777777778,\"#fb9f3a\"],[0.8888888888888888,\"#fdca26\"],[1.0,\"#f0f921\"]],\"type\":\"contour\"}],\"contourcarpet\":[{\"colorbar\":{\"outlinewidth\":0,\"ticks\":\"\"},\"type\":\"contourcarpet\"}],\"heatmap\":[{\"colorbar\":{\"outlinewidth\":0,\"ticks\":\"\"},\"colorscale\":[[0.0,\"#0d0887\"],[0.1111111111111111,\"#46039f\"],[0.2222222222222222,\"#7201a8\"],[0.3333333333333333,\"#9c179e\"],[0.4444444444444444,\"#bd3786\"],[0.5555555555555556,\"#d8576b\"],[0.6666666666666666,\"#ed7953\"],[0.7777777777777778,\"#fb9f3a\"],[0.8888888888888888,\"#fdca26\"],[1.0,\"#f0f921\"]],\"type\":\"heatmap\"}],\"heatmapgl\":[{\"colorbar\":{\"outlinewidth\":0,\"ticks\":\"\"},\"colorscale\":[[0.0,\"#0d0887\"],[0.1111111111111111,\"#46039f\"],[0.2222222222222222,\"#7201a8\"],[0.3333333333333333,\"#9c179e\"],[0.4444444444444444,\"#bd3786\"],[0.5555555555555556,\"#d8576b\"],[0.6666666666666666,\"#ed7953\"],[0.7777777777777778,\"#fb9f3a\"],[0.8888888888888888,\"#fdca26\"],[1.0,\"#f0f921\"]],\"type\":\"heatmapgl\"}],\"histogram\":[{\"marker\":{\"pattern\":{\"fillmode\":\"overlay\",\"size\":10,\"solidity\":0.2}},\"type\":\"histogram\"}],\"histogram2d\":[{\"colorbar\":{\"outlinewidth\":0,\"ticks\":\"\"},\"colorscale\":[[0.0,\"#0d0887\"],[0.1111111111111111,\"#46039f\"],[0.2222222222222222,\"#7201a8\"],[0.3333333333333333,\"#9c179e\"],[0.4444444444444444,\"#bd3786\"],[0.5555555555555556,\"#d8576b\"],[0.6666666666666666,\"#ed7953\"],[0.7777777777777778,\"#fb9f3a\"],[0.8888888888888888,\"#fdca26\"],[1.0,\"#f0f921\"]],\"type\":\"histogram2d\"}],\"histogram2dcontour\":[{\"colorbar\":{\"outlinewidth\":0,\"ticks\":\"\"},\"colorscale\":[[0.0,\"#0d0887\"],[0.1111111111111111,\"#46039f\"],[0.2222222222222222,\"#7201a8\"],[0.3333333333333333,\"#9c179e\"],[0.4444444444444444,\"#bd3786\"],[0.5555555555555556,\"#d8576b\"],[0.6666666666666666,\"#ed7953\"],[0.7777777777777778,\"#fb9f3a\"],[0.8888888888888888,\"#fdca26\"],[1.0,\"#f0f921\"]],\"type\":\"histogram2dcontour\"}],\"mesh3d\":[{\"colorbar\":{\"outlinewidth\":0,\"ticks\":\"\"},\"type\":\"mesh3d\"}],\"parcoords\":[{\"line\":{\"colorbar\":{\"outlinewidth\":0,\"ticks\":\"\"}},\"type\":\"parcoords\"}],\"pie\":[{\"automargin\":true,\"type\":\"pie\"}],\"scatter\":[{\"marker\":{\"colorbar\":{\"outlinewidth\":0,\"ticks\":\"\"}},\"type\":\"scatter\"}],\"scatter3d\":[{\"line\":{\"colorbar\":{\"outlinewidth\":0,\"ticks\":\"\"}},\"marker\":{\"colorbar\":{\"outlinewidth\":0,\"ticks\":\"\"}},\"type\":\"scatter3d\"}],\"scattercarpet\":[{\"marker\":{\"colorbar\":{\"outlinewidth\":0,\"ticks\":\"\"}},\"type\":\"scattercarpet\"}],\"scattergeo\":[{\"marker\":{\"colorbar\":{\"outlinewidth\":0,\"ticks\":\"\"}},\"type\":\"scattergeo\"}],\"scattergl\":[{\"marker\":{\"colorbar\":{\"outlinewidth\":0,\"ticks\":\"\"}},\"type\":\"scattergl\"}],\"scattermapbox\":[{\"marker\":{\"colorbar\":{\"outlinewidth\":0,\"ticks\":\"\"}},\"type\":\"scattermapbox\"}],\"scatterpolar\":[{\"marker\":{\"colorbar\":{\"outlinewidth\":0,\"ticks\":\"\"}},\"type\":\"scatterpolar\"}],\"scatterpolargl\":[{\"marker\":{\"colorbar\":{\"outlinewidth\":0,\"ticks\":\"\"}},\"type\":\"scatterpolargl\"}],\"scatterternary\":[{\"marker\":{\"colorbar\":{\"outlinewidth\":0,\"ticks\":\"\"}},\"type\":\"scatterternary\"}],\"surface\":[{\"colorbar\":{\"outlinewidth\":0,\"ticks\":\"\"},\"colorscale\":[[0.0,\"#0d0887\"],[0.1111111111111111,\"#46039f\"],[0.2222222222222222,\"#7201a8\"],[0.3333333333333333,\"#9c179e\"],[0.4444444444444444,\"#bd3786\"],[0.5555555555555556,\"#d8576b\"],[0.6666666666666666,\"#ed7953\"],[0.7777777777777778,\"#fb9f3a\"],[0.8888888888888888,\"#fdca26\"],[1.0,\"#f0f921\"]],\"type\":\"surface\"}],\"table\":[{\"cells\":{\"fill\":{\"color\":\"#EBF0F8\"},\"line\":{\"color\":\"white\"}},\"header\":{\"fill\":{\"color\":\"#C8D4E3\"},\"line\":{\"color\":\"white\"}},\"type\":\"table\"}]},\"layout\":{\"annotationdefaults\":{\"arrowcolor\":\"#2a3f5f\",\"arrowhead\":0,\"arrowwidth\":1},\"autotypenumbers\":\"strict\",\"coloraxis\":{\"colorbar\":{\"outlinewidth\":0,\"ticks\":\"\"}},\"colorscale\":{\"diverging\":[[0,\"#8e0152\"],[0.1,\"#c51b7d\"],[0.2,\"#de77ae\"],[0.3,\"#f1b6da\"],[0.4,\"#fde0ef\"],[0.5,\"#f7f7f7\"],[0.6,\"#e6f5d0\"],[0.7,\"#b8e186\"],[0.8,\"#7fbc41\"],[0.9,\"#4d9221\"],[1,\"#276419\"]],\"sequential\":[[0.0,\"#0d0887\"],[0.1111111111111111,\"#46039f\"],[0.2222222222222222,\"#7201a8\"],[0.3333333333333333,\"#9c179e\"],[0.4444444444444444,\"#bd3786\"],[0.5555555555555556,\"#d8576b\"],[0.6666666666666666,\"#ed7953\"],[0.7777777777777778,\"#fb9f3a\"],[0.8888888888888888,\"#fdca26\"],[1.0,\"#f0f921\"]],\"sequentialminus\":[[0.0,\"#0d0887\"],[0.1111111111111111,\"#46039f\"],[0.2222222222222222,\"#7201a8\"],[0.3333333333333333,\"#9c179e\"],[0.4444444444444444,\"#bd3786\"],[0.5555555555555556,\"#d8576b\"],[0.6666666666666666,\"#ed7953\"],[0.7777777777777778,\"#fb9f3a\"],[0.8888888888888888,\"#fdca26\"],[1.0,\"#f0f921\"]]},\"colorway\":[\"#636efa\",\"#EF553B\",\"#00cc96\",\"#ab63fa\",\"#FFA15A\",\"#19d3f3\",\"#FF6692\",\"#B6E880\",\"#FF97FF\",\"#FECB52\"],\"font\":{\"color\":\"#2a3f5f\"},\"geo\":{\"bgcolor\":\"white\",\"lakecolor\":\"white\",\"landcolor\":\"#E5ECF6\",\"showlakes\":true,\"showland\":true,\"subunitcolor\":\"white\"},\"hoverlabel\":{\"align\":\"left\"},\"hovermode\":\"closest\",\"mapbox\":{\"style\":\"light\"},\"paper_bgcolor\":\"white\",\"plot_bgcolor\":\"#E5ECF6\",\"polar\":{\"angularaxis\":{\"gridcolor\":\"white\",\"linecolor\":\"white\",\"ticks\":\"\"},\"bgcolor\":\"#E5ECF6\",\"radialaxis\":{\"gridcolor\":\"white\",\"linecolor\":\"white\",\"ticks\":\"\"}},\"scene\":{\"xaxis\":{\"backgroundcolor\":\"#E5ECF6\",\"gridcolor\":\"white\",\"gridwidth\":2,\"linecolor\":\"white\",\"showbackground\":true,\"ticks\":\"\",\"zerolinecolor\":\"white\"},\"yaxis\":{\"backgroundcolor\":\"#E5ECF6\",\"gridcolor\":\"white\",\"gridwidth\":2,\"linecolor\":\"white\",\"showbackground\":true,\"ticks\":\"\",\"zerolinecolor\":\"white\"},\"zaxis\":{\"backgroundcolor\":\"#E5ECF6\",\"gridcolor\":\"white\",\"gridwidth\":2,\"linecolor\":\"white\",\"showbackground\":true,\"ticks\":\"\",\"zerolinecolor\":\"white\"}},\"shapedefaults\":{\"line\":{\"color\":\"#2a3f5f\"}},\"ternary\":{\"aaxis\":{\"gridcolor\":\"white\",\"linecolor\":\"white\",\"ticks\":\"\"},\"baxis\":{\"gridcolor\":\"white\",\"linecolor\":\"white\",\"ticks\":\"\"},\"bgcolor\":\"#E5ECF6\",\"caxis\":{\"gridcolor\":\"white\",\"linecolor\":\"white\",\"ticks\":\"\"}},\"title\":{\"x\":0.05},\"xaxis\":{\"automargin\":true,\"gridcolor\":\"white\",\"linecolor\":\"white\",\"ticks\":\"\",\"title\":{\"standoff\":15},\"zerolinecolor\":\"white\",\"zerolinewidth\":2},\"yaxis\":{\"automargin\":true,\"gridcolor\":\"white\",\"linecolor\":\"white\",\"ticks\":\"\",\"title\":{\"standoff\":15},\"zerolinecolor\":\"white\",\"zerolinewidth\":2}}},\"xaxis\":{\"anchor\":\"y\",\"domain\":[0.0,1.0],\"title\":{\"text\":\"Libraries per 1000 Readers\"}},\"yaxis\":{\"anchor\":\"x\",\"domain\":[0.0,1.0],\"title\":{\"text\":\"Voivodeship\"}},\"legend\":{\"title\":{\"text\":\"color\"},\"tracegroupgap\":0},\"margin\":{\"t\":60},\"barmode\":\"relative\",\"font\":{\"family\":\"Courier New, monospace\",\"size\":14,\"color\":\"RebeccaPurple\"},\"title\":{\"text\":\"Libraries per 1000 Readers (Interactive bar chart)\"}},                        {\"responsive\": true}                    ).then(function(){\n",
       "                            \n",
       "var gd = document.getElementById('7b905dc3-e0c3-44c4-b939-aa57454d9d21');\n",
       "var x = new MutationObserver(function (mutations, observer) {{\n",
       "        var display = window.getComputedStyle(gd).display;\n",
       "        if (!display || display === 'none') {{\n",
       "            console.log([gd, 'removed!']);\n",
       "            Plotly.purge(gd);\n",
       "            observer.disconnect();\n",
       "        }}\n",
       "}});\n",
       "\n",
       "// Listen for the removal of the full notebook cells\n",
       "var notebookContainer = gd.closest('#notebook-container');\n",
       "if (notebookContainer) {{\n",
       "    x.observe(notebookContainer, {childList: true});\n",
       "}}\n",
       "\n",
       "// Listen for the clearing of the current output cell\n",
       "var outputEl = gd.closest('.output');\n",
       "if (outputEl) {{\n",
       "    x.observe(outputEl, {childList: true});\n",
       "}}\n",
       "\n",
       "                        })                };                });            </script>        </div>"
      ]
     },
     "metadata": {},
     "output_type": "display_data"
    }
   ],
   "source": [
    "# Interactive bar chart with Plotly Express\n",
    "# Libraries per 1000 readers\n",
    "\n",
    "fig2 = px \\\n",
    "        .bar(x = (libraries.Number_of_libraries*1000 / libraries.Number_of_readers).round(2), \n",
    "             y = libraries.Voivodeship, \n",
    "             color=libraries.Voivodeship,\n",
    "            )\n",
    "\n",
    "fig2.update_layout(\n",
    "    title='Libraries per 1000 Readers (Interactive bar chart)',\n",
    "    xaxis_title='Libraries per 1000 Readers',\n",
    "    yaxis_title='Voivodeship',\n",
    "    font=dict(\n",
    "    family=\"Courier New, monospace\",\n",
    "    size=14,\n",
    "    color=\"RebeccaPurple\"\n",
    "    )\n",
    ")\n",
    "\n",
    "fig2.show()"
   ]
  },
  {
   "cell_type": "code",
   "execution_count": 36,
   "id": "d376c0bb",
   "metadata": {},
   "outputs": [],
   "source": [
    "libraries['Libraries_per_Readers'] = (libraries['Number_of_libraries']*1000 / libraries['Number_of_readers']).round(0)"
   ]
  },
  {
   "cell_type": "code",
   "execution_count": 37,
   "id": "05569160",
   "metadata": {},
   "outputs": [
    {
     "name": "stdout",
     "output_type": "stream",
     "text": [
      "\u001b[1m\u001b[95mThe first five voivodeships in terms of Amount of Libraries per 1000 Readers:\u001b[0m opolskie, dolnoslaskie, kujawsko-pomorskie, lubelskie, lubuskie\n"
     ]
    }
   ],
   "source": [
    "print(\n",
    "clr.S+\"Top five voivodeships in terms of Amount of Libraries per 1000 Readers:\"+clr.E,\n",
    "libraries.sort_values('Libraries_per_Readers', ascending = False).Voivodeship[:5].str.cat(sep = ', '))"
   ]
  },
  {
   "cell_type": "code",
   "execution_count": null,
   "id": "ea7168b5",
   "metadata": {},
   "outputs": [],
   "source": []
  },
  {
   "cell_type": "code",
   "execution_count": 38,
   "id": "b86a677d",
   "metadata": {},
   "outputs": [
    {
     "data": {
      "application/vnd.plotly.v1+json": {
       "config": {
        "plotlyServerURL": "https://plot.ly"
       },
       "data": [
        {
         "alignmentgroup": "True",
         "hovertemplate": "color=dolnoslaskie<br>x=%{x}<br>y=%{y}<extra></extra>",
         "legendgroup": "dolnoslaskie",
         "marker": {
          "color": "#636efa",
          "pattern": {
           "shape": ""
          }
         },
         "name": "dolnoslaskie",
         "offsetgroup": "dolnoslaskie",
         "orientation": "h",
         "showlegend": true,
         "textposition": "auto",
         "type": "bar",
         "x": [
          1159.5
         ],
         "xaxis": "x",
         "y": [
          "dolnoslaskie"
         ],
         "yaxis": "y"
        },
        {
         "alignmentgroup": "True",
         "hovertemplate": "color=kujawsko-pomorskie<br>x=%{x}<br>y=%{y}<extra></extra>",
         "legendgroup": "kujawsko-pomorskie",
         "marker": {
          "color": "#EF553B",
          "pattern": {
           "shape": ""
          }
         },
         "name": "kujawsko-pomorskie",
         "offsetgroup": "kujawsko-pomorskie",
         "orientation": "h",
         "showlegend": true,
         "textposition": "auto",
         "type": "bar",
         "x": [
          970.24
         ],
         "xaxis": "x",
         "y": [
          "kujawsko-pomorskie"
         ],
         "yaxis": "y"
        },
        {
         "alignmentgroup": "True",
         "hovertemplate": "color=lubelskie<br>x=%{x}<br>y=%{y}<extra></extra>",
         "legendgroup": "lubelskie",
         "marker": {
          "color": "#00cc96",
          "pattern": {
           "shape": ""
          }
         },
         "name": "lubelskie",
         "offsetgroup": "lubelskie",
         "orientation": "h",
         "showlegend": true,
         "textposition": "auto",
         "type": "bar",
         "x": [
          1371.97
         ],
         "xaxis": "x",
         "y": [
          "lubelskie"
         ],
         "yaxis": "y"
        },
        {
         "alignmentgroup": "True",
         "hovertemplate": "color=lubuskie<br>x=%{x}<br>y=%{y}<extra></extra>",
         "legendgroup": "lubuskie",
         "marker": {
          "color": "#ab63fa",
          "pattern": {
           "shape": ""
          }
         },
         "name": "lubuskie",
         "offsetgroup": "lubuskie",
         "orientation": "h",
         "showlegend": true,
         "textposition": "auto",
         "type": "bar",
         "x": [
          1034.93
         ],
         "xaxis": "x",
         "y": [
          "lubuskie"
         ],
         "yaxis": "y"
        },
        {
         "alignmentgroup": "True",
         "hovertemplate": "color=lodzkie<br>x=%{x}<br>y=%{y}<extra></extra>",
         "legendgroup": "lodzkie",
         "marker": {
          "color": "#FFA15A",
          "pattern": {
           "shape": ""
          }
         },
         "name": "lodzkie",
         "offsetgroup": "lodzkie",
         "orientation": "h",
         "showlegend": true,
         "textposition": "auto",
         "type": "bar",
         "x": [
          1298.21
         ],
         "xaxis": "x",
         "y": [
          "lodzkie"
         ],
         "yaxis": "y"
        },
        {
         "alignmentgroup": "True",
         "hovertemplate": "color=malopolskie<br>x=%{x}<br>y=%{y}<extra></extra>",
         "legendgroup": "malopolskie",
         "marker": {
          "color": "#19d3f3",
          "pattern": {
           "shape": ""
          }
         },
         "name": "malopolskie",
         "offsetgroup": "malopolskie",
         "orientation": "h",
         "showlegend": true,
         "textposition": "auto",
         "type": "bar",
         "x": [
          1598.33
         ],
         "xaxis": "x",
         "y": [
          "malopolskie"
         ],
         "yaxis": "y"
        },
        {
         "alignmentgroup": "True",
         "hovertemplate": "color=mazowiecki<br>x=%{x}<br>y=%{y}<extra></extra>",
         "legendgroup": "mazowiecki",
         "marker": {
          "color": "#FF6692",
          "pattern": {
           "shape": ""
          }
         },
         "name": "mazowiecki",
         "offsetgroup": "mazowiecki",
         "orientation": "h",
         "showlegend": true,
         "textposition": "auto",
         "type": "bar",
         "x": [
          1413.74
         ],
         "xaxis": "x",
         "y": [
          "mazowiecki"
         ],
         "yaxis": "y"
        },
        {
         "alignmentgroup": "True",
         "hovertemplate": "color=opolskie<br>x=%{x}<br>y=%{y}<extra></extra>",
         "legendgroup": "opolskie",
         "marker": {
          "color": "#B6E880",
          "pattern": {
           "shape": ""
          }
         },
         "name": "opolskie",
         "offsetgroup": "opolskie",
         "orientation": "h",
         "showlegend": true,
         "textposition": "auto",
         "type": "bar",
         "x": [
          1239.53
         ],
         "xaxis": "x",
         "y": [
          "opolskie"
         ],
         "yaxis": "y"
        },
        {
         "alignmentgroup": "True",
         "hovertemplate": "color=podkarpackie<br>x=%{x}<br>y=%{y}<extra></extra>",
         "legendgroup": "podkarpackie",
         "marker": {
          "color": "#FF97FF",
          "pattern": {
           "shape": ""
          }
         },
         "name": "podkarpackie",
         "offsetgroup": "podkarpackie",
         "orientation": "h",
         "showlegend": true,
         "textposition": "auto",
         "type": "bar",
         "x": [
          1269.74
         ],
         "xaxis": "x",
         "y": [
          "podkarpackie"
         ],
         "yaxis": "y"
        },
        {
         "alignmentgroup": "True",
         "hovertemplate": "color=podlaskie<br>x=%{x}<br>y=%{y}<extra></extra>",
         "legendgroup": "podlaskie",
         "marker": {
          "color": "#FECB52",
          "pattern": {
           "shape": ""
          }
         },
         "name": "podlaskie",
         "offsetgroup": "podlaskie",
         "orientation": "h",
         "showlegend": true,
         "textposition": "auto",
         "type": "bar",
         "x": [
          1049.23
         ],
         "xaxis": "x",
         "y": [
          "podlaskie"
         ],
         "yaxis": "y"
        },
        {
         "alignmentgroup": "True",
         "hovertemplate": "color=pomorskie<br>x=%{x}<br>y=%{y}<extra></extra>",
         "legendgroup": "pomorskie",
         "marker": {
          "color": "#636efa",
          "pattern": {
           "shape": ""
          }
         },
         "name": "pomorskie",
         "offsetgroup": "pomorskie",
         "orientation": "h",
         "showlegend": true,
         "textposition": "auto",
         "type": "bar",
         "x": [
          1268.85
         ],
         "xaxis": "x",
         "y": [
          "pomorskie"
         ],
         "yaxis": "y"
        },
        {
         "alignmentgroup": "True",
         "hovertemplate": "color=slaskie<br>x=%{x}<br>y=%{y}<extra></extra>",
         "legendgroup": "slaskie",
         "marker": {
          "color": "#EF553B",
          "pattern": {
           "shape": ""
          }
         },
         "name": "slaskie",
         "offsetgroup": "slaskie",
         "orientation": "h",
         "showlegend": true,
         "textposition": "auto",
         "type": "bar",
         "x": [
          1330.01
         ],
         "xaxis": "x",
         "y": [
          "slaskie"
         ],
         "yaxis": "y"
        },
        {
         "alignmentgroup": "True",
         "hovertemplate": "color=swietokrzyskie<br>x=%{x}<br>y=%{y}<extra></extra>",
         "legendgroup": "swietokrzyskie",
         "marker": {
          "color": "#00cc96",
          "pattern": {
           "shape": ""
          }
         },
         "name": "swietokrzyskie",
         "offsetgroup": "swietokrzyskie",
         "orientation": "h",
         "showlegend": true,
         "textposition": "auto",
         "type": "bar",
         "x": [
          988.03
         ],
         "xaxis": "x",
         "y": [
          "swietokrzyskie"
         ],
         "yaxis": "y"
        },
        {
         "alignmentgroup": "True",
         "hovertemplate": "color=warminsko-mazurskie<br>x=%{x}<br>y=%{y}<extra></extra>",
         "legendgroup": "warminsko-mazurskie",
         "marker": {
          "color": "#ab63fa",
          "pattern": {
           "shape": ""
          }
         },
         "name": "warminsko-mazurskie",
         "offsetgroup": "warminsko-mazurskie",
         "orientation": "h",
         "showlegend": true,
         "textposition": "auto",
         "type": "bar",
         "x": [
          1052.99
         ],
         "xaxis": "x",
         "y": [
          "warminsko-mazurskie"
         ],
         "yaxis": "y"
        },
        {
         "alignmentgroup": "True",
         "hovertemplate": "color=wielkopolskie<br>x=%{x}<br>y=%{y}<extra></extra>",
         "legendgroup": "wielkopolskie",
         "marker": {
          "color": "#FFA15A",
          "pattern": {
           "shape": ""
          }
         },
         "name": "wielkopolskie",
         "offsetgroup": "wielkopolskie",
         "orientation": "h",
         "showlegend": true,
         "textposition": "auto",
         "type": "bar",
         "x": [
          1177.22
         ],
         "xaxis": "x",
         "y": [
          "wielkopolskie"
         ],
         "yaxis": "y"
        },
        {
         "alignmentgroup": "True",
         "hovertemplate": "color=zachodniopomorskie<br>x=%{x}<br>y=%{y}<extra></extra>",
         "legendgroup": "zachodniopomorskie",
         "marker": {
          "color": "#19d3f3",
          "pattern": {
           "shape": ""
          }
         },
         "name": "zachodniopomorskie",
         "offsetgroup": "zachodniopomorskie",
         "orientation": "h",
         "showlegend": true,
         "textposition": "auto",
         "type": "bar",
         "x": [
          1026.41
         ],
         "xaxis": "x",
         "y": [
          "zachodniopomorskie"
         ],
         "yaxis": "y"
        }
       ],
       "layout": {
        "barmode": "relative",
        "font": {
         "color": "RebeccaPurple",
         "family": "Courier New, monospace",
         "size": 14
        },
        "legend": {
         "title": {
          "text": "color"
         },
         "tracegroupgap": 0
        },
        "margin": {
         "t": 60
        },
        "template": {
         "data": {
          "bar": [
           {
            "error_x": {
             "color": "#2a3f5f"
            },
            "error_y": {
             "color": "#2a3f5f"
            },
            "marker": {
             "line": {
              "color": "#E5ECF6",
              "width": 0.5
             },
             "pattern": {
              "fillmode": "overlay",
              "size": 10,
              "solidity": 0.2
             }
            },
            "type": "bar"
           }
          ],
          "barpolar": [
           {
            "marker": {
             "line": {
              "color": "#E5ECF6",
              "width": 0.5
             },
             "pattern": {
              "fillmode": "overlay",
              "size": 10,
              "solidity": 0.2
             }
            },
            "type": "barpolar"
           }
          ],
          "carpet": [
           {
            "aaxis": {
             "endlinecolor": "#2a3f5f",
             "gridcolor": "white",
             "linecolor": "white",
             "minorgridcolor": "white",
             "startlinecolor": "#2a3f5f"
            },
            "baxis": {
             "endlinecolor": "#2a3f5f",
             "gridcolor": "white",
             "linecolor": "white",
             "minorgridcolor": "white",
             "startlinecolor": "#2a3f5f"
            },
            "type": "carpet"
           }
          ],
          "choropleth": [
           {
            "colorbar": {
             "outlinewidth": 0,
             "ticks": ""
            },
            "type": "choropleth"
           }
          ],
          "contour": [
           {
            "colorbar": {
             "outlinewidth": 0,
             "ticks": ""
            },
            "colorscale": [
             [
              0,
              "#0d0887"
             ],
             [
              0.1111111111111111,
              "#46039f"
             ],
             [
              0.2222222222222222,
              "#7201a8"
             ],
             [
              0.3333333333333333,
              "#9c179e"
             ],
             [
              0.4444444444444444,
              "#bd3786"
             ],
             [
              0.5555555555555556,
              "#d8576b"
             ],
             [
              0.6666666666666666,
              "#ed7953"
             ],
             [
              0.7777777777777778,
              "#fb9f3a"
             ],
             [
              0.8888888888888888,
              "#fdca26"
             ],
             [
              1,
              "#f0f921"
             ]
            ],
            "type": "contour"
           }
          ],
          "contourcarpet": [
           {
            "colorbar": {
             "outlinewidth": 0,
             "ticks": ""
            },
            "type": "contourcarpet"
           }
          ],
          "heatmap": [
           {
            "colorbar": {
             "outlinewidth": 0,
             "ticks": ""
            },
            "colorscale": [
             [
              0,
              "#0d0887"
             ],
             [
              0.1111111111111111,
              "#46039f"
             ],
             [
              0.2222222222222222,
              "#7201a8"
             ],
             [
              0.3333333333333333,
              "#9c179e"
             ],
             [
              0.4444444444444444,
              "#bd3786"
             ],
             [
              0.5555555555555556,
              "#d8576b"
             ],
             [
              0.6666666666666666,
              "#ed7953"
             ],
             [
              0.7777777777777778,
              "#fb9f3a"
             ],
             [
              0.8888888888888888,
              "#fdca26"
             ],
             [
              1,
              "#f0f921"
             ]
            ],
            "type": "heatmap"
           }
          ],
          "heatmapgl": [
           {
            "colorbar": {
             "outlinewidth": 0,
             "ticks": ""
            },
            "colorscale": [
             [
              0,
              "#0d0887"
             ],
             [
              0.1111111111111111,
              "#46039f"
             ],
             [
              0.2222222222222222,
              "#7201a8"
             ],
             [
              0.3333333333333333,
              "#9c179e"
             ],
             [
              0.4444444444444444,
              "#bd3786"
             ],
             [
              0.5555555555555556,
              "#d8576b"
             ],
             [
              0.6666666666666666,
              "#ed7953"
             ],
             [
              0.7777777777777778,
              "#fb9f3a"
             ],
             [
              0.8888888888888888,
              "#fdca26"
             ],
             [
              1,
              "#f0f921"
             ]
            ],
            "type": "heatmapgl"
           }
          ],
          "histogram": [
           {
            "marker": {
             "pattern": {
              "fillmode": "overlay",
              "size": 10,
              "solidity": 0.2
             }
            },
            "type": "histogram"
           }
          ],
          "histogram2d": [
           {
            "colorbar": {
             "outlinewidth": 0,
             "ticks": ""
            },
            "colorscale": [
             [
              0,
              "#0d0887"
             ],
             [
              0.1111111111111111,
              "#46039f"
             ],
             [
              0.2222222222222222,
              "#7201a8"
             ],
             [
              0.3333333333333333,
              "#9c179e"
             ],
             [
              0.4444444444444444,
              "#bd3786"
             ],
             [
              0.5555555555555556,
              "#d8576b"
             ],
             [
              0.6666666666666666,
              "#ed7953"
             ],
             [
              0.7777777777777778,
              "#fb9f3a"
             ],
             [
              0.8888888888888888,
              "#fdca26"
             ],
             [
              1,
              "#f0f921"
             ]
            ],
            "type": "histogram2d"
           }
          ],
          "histogram2dcontour": [
           {
            "colorbar": {
             "outlinewidth": 0,
             "ticks": ""
            },
            "colorscale": [
             [
              0,
              "#0d0887"
             ],
             [
              0.1111111111111111,
              "#46039f"
             ],
             [
              0.2222222222222222,
              "#7201a8"
             ],
             [
              0.3333333333333333,
              "#9c179e"
             ],
             [
              0.4444444444444444,
              "#bd3786"
             ],
             [
              0.5555555555555556,
              "#d8576b"
             ],
             [
              0.6666666666666666,
              "#ed7953"
             ],
             [
              0.7777777777777778,
              "#fb9f3a"
             ],
             [
              0.8888888888888888,
              "#fdca26"
             ],
             [
              1,
              "#f0f921"
             ]
            ],
            "type": "histogram2dcontour"
           }
          ],
          "mesh3d": [
           {
            "colorbar": {
             "outlinewidth": 0,
             "ticks": ""
            },
            "type": "mesh3d"
           }
          ],
          "parcoords": [
           {
            "line": {
             "colorbar": {
              "outlinewidth": 0,
              "ticks": ""
             }
            },
            "type": "parcoords"
           }
          ],
          "pie": [
           {
            "automargin": true,
            "type": "pie"
           }
          ],
          "scatter": [
           {
            "marker": {
             "colorbar": {
              "outlinewidth": 0,
              "ticks": ""
             }
            },
            "type": "scatter"
           }
          ],
          "scatter3d": [
           {
            "line": {
             "colorbar": {
              "outlinewidth": 0,
              "ticks": ""
             }
            },
            "marker": {
             "colorbar": {
              "outlinewidth": 0,
              "ticks": ""
             }
            },
            "type": "scatter3d"
           }
          ],
          "scattercarpet": [
           {
            "marker": {
             "colorbar": {
              "outlinewidth": 0,
              "ticks": ""
             }
            },
            "type": "scattercarpet"
           }
          ],
          "scattergeo": [
           {
            "marker": {
             "colorbar": {
              "outlinewidth": 0,
              "ticks": ""
             }
            },
            "type": "scattergeo"
           }
          ],
          "scattergl": [
           {
            "marker": {
             "colorbar": {
              "outlinewidth": 0,
              "ticks": ""
             }
            },
            "type": "scattergl"
           }
          ],
          "scattermapbox": [
           {
            "marker": {
             "colorbar": {
              "outlinewidth": 0,
              "ticks": ""
             }
            },
            "type": "scattermapbox"
           }
          ],
          "scatterpolar": [
           {
            "marker": {
             "colorbar": {
              "outlinewidth": 0,
              "ticks": ""
             }
            },
            "type": "scatterpolar"
           }
          ],
          "scatterpolargl": [
           {
            "marker": {
             "colorbar": {
              "outlinewidth": 0,
              "ticks": ""
             }
            },
            "type": "scatterpolargl"
           }
          ],
          "scatterternary": [
           {
            "marker": {
             "colorbar": {
              "outlinewidth": 0,
              "ticks": ""
             }
            },
            "type": "scatterternary"
           }
          ],
          "surface": [
           {
            "colorbar": {
             "outlinewidth": 0,
             "ticks": ""
            },
            "colorscale": [
             [
              0,
              "#0d0887"
             ],
             [
              0.1111111111111111,
              "#46039f"
             ],
             [
              0.2222222222222222,
              "#7201a8"
             ],
             [
              0.3333333333333333,
              "#9c179e"
             ],
             [
              0.4444444444444444,
              "#bd3786"
             ],
             [
              0.5555555555555556,
              "#d8576b"
             ],
             [
              0.6666666666666666,
              "#ed7953"
             ],
             [
              0.7777777777777778,
              "#fb9f3a"
             ],
             [
              0.8888888888888888,
              "#fdca26"
             ],
             [
              1,
              "#f0f921"
             ]
            ],
            "type": "surface"
           }
          ],
          "table": [
           {
            "cells": {
             "fill": {
              "color": "#EBF0F8"
             },
             "line": {
              "color": "white"
             }
            },
            "header": {
             "fill": {
              "color": "#C8D4E3"
             },
             "line": {
              "color": "white"
             }
            },
            "type": "table"
           }
          ]
         },
         "layout": {
          "annotationdefaults": {
           "arrowcolor": "#2a3f5f",
           "arrowhead": 0,
           "arrowwidth": 1
          },
          "autotypenumbers": "strict",
          "coloraxis": {
           "colorbar": {
            "outlinewidth": 0,
            "ticks": ""
           }
          },
          "colorscale": {
           "diverging": [
            [
             0,
             "#8e0152"
            ],
            [
             0.1,
             "#c51b7d"
            ],
            [
             0.2,
             "#de77ae"
            ],
            [
             0.3,
             "#f1b6da"
            ],
            [
             0.4,
             "#fde0ef"
            ],
            [
             0.5,
             "#f7f7f7"
            ],
            [
             0.6,
             "#e6f5d0"
            ],
            [
             0.7,
             "#b8e186"
            ],
            [
             0.8,
             "#7fbc41"
            ],
            [
             0.9,
             "#4d9221"
            ],
            [
             1,
             "#276419"
            ]
           ],
           "sequential": [
            [
             0,
             "#0d0887"
            ],
            [
             0.1111111111111111,
             "#46039f"
            ],
            [
             0.2222222222222222,
             "#7201a8"
            ],
            [
             0.3333333333333333,
             "#9c179e"
            ],
            [
             0.4444444444444444,
             "#bd3786"
            ],
            [
             0.5555555555555556,
             "#d8576b"
            ],
            [
             0.6666666666666666,
             "#ed7953"
            ],
            [
             0.7777777777777778,
             "#fb9f3a"
            ],
            [
             0.8888888888888888,
             "#fdca26"
            ],
            [
             1,
             "#f0f921"
            ]
           ],
           "sequentialminus": [
            [
             0,
             "#0d0887"
            ],
            [
             0.1111111111111111,
             "#46039f"
            ],
            [
             0.2222222222222222,
             "#7201a8"
            ],
            [
             0.3333333333333333,
             "#9c179e"
            ],
            [
             0.4444444444444444,
             "#bd3786"
            ],
            [
             0.5555555555555556,
             "#d8576b"
            ],
            [
             0.6666666666666666,
             "#ed7953"
            ],
            [
             0.7777777777777778,
             "#fb9f3a"
            ],
            [
             0.8888888888888888,
             "#fdca26"
            ],
            [
             1,
             "#f0f921"
            ]
           ]
          },
          "colorway": [
           "#636efa",
           "#EF553B",
           "#00cc96",
           "#ab63fa",
           "#FFA15A",
           "#19d3f3",
           "#FF6692",
           "#B6E880",
           "#FF97FF",
           "#FECB52"
          ],
          "font": {
           "color": "#2a3f5f"
          },
          "geo": {
           "bgcolor": "white",
           "lakecolor": "white",
           "landcolor": "#E5ECF6",
           "showlakes": true,
           "showland": true,
           "subunitcolor": "white"
          },
          "hoverlabel": {
           "align": "left"
          },
          "hovermode": "closest",
          "mapbox": {
           "style": "light"
          },
          "paper_bgcolor": "white",
          "plot_bgcolor": "#E5ECF6",
          "polar": {
           "angularaxis": {
            "gridcolor": "white",
            "linecolor": "white",
            "ticks": ""
           },
           "bgcolor": "#E5ECF6",
           "radialaxis": {
            "gridcolor": "white",
            "linecolor": "white",
            "ticks": ""
           }
          },
          "scene": {
           "xaxis": {
            "backgroundcolor": "#E5ECF6",
            "gridcolor": "white",
            "gridwidth": 2,
            "linecolor": "white",
            "showbackground": true,
            "ticks": "",
            "zerolinecolor": "white"
           },
           "yaxis": {
            "backgroundcolor": "#E5ECF6",
            "gridcolor": "white",
            "gridwidth": 2,
            "linecolor": "white",
            "showbackground": true,
            "ticks": "",
            "zerolinecolor": "white"
           },
           "zaxis": {
            "backgroundcolor": "#E5ECF6",
            "gridcolor": "white",
            "gridwidth": 2,
            "linecolor": "white",
            "showbackground": true,
            "ticks": "",
            "zerolinecolor": "white"
           }
          },
          "shapedefaults": {
           "line": {
            "color": "#2a3f5f"
           }
          },
          "ternary": {
           "aaxis": {
            "gridcolor": "white",
            "linecolor": "white",
            "ticks": ""
           },
           "baxis": {
            "gridcolor": "white",
            "linecolor": "white",
            "ticks": ""
           },
           "bgcolor": "#E5ECF6",
           "caxis": {
            "gridcolor": "white",
            "linecolor": "white",
            "ticks": ""
           }
          },
          "title": {
           "x": 0.05
          },
          "xaxis": {
           "automargin": true,
           "gridcolor": "white",
           "linecolor": "white",
           "ticks": "",
           "title": {
            "standoff": 15
           },
           "zerolinecolor": "white",
           "zerolinewidth": 2
          },
          "yaxis": {
           "automargin": true,
           "gridcolor": "white",
           "linecolor": "white",
           "ticks": "",
           "title": {
            "standoff": 15
           },
           "zerolinecolor": "white",
           "zerolinewidth": 2
          }
         }
        },
        "title": {
         "text": "Readers per 10000 inhabitatnts (Interactive bar chart)"
        },
        "xaxis": {
         "anchor": "y",
         "domain": [
          0,
          1
         ],
         "title": {
          "text": "Readers per 10000 inhabitatnts"
         }
        },
        "yaxis": {
         "anchor": "x",
         "domain": [
          0,
          1
         ],
         "title": {
          "text": "Voivodeship"
         }
        }
       }
      },
      "text/html": [
       "<div>                            <div id=\"14d2c104-57e6-4337-8593-5222be280951\" class=\"plotly-graph-div\" style=\"height:525px; width:100%;\"></div>            <script type=\"text/javascript\">                require([\"plotly\"], function(Plotly) {                    window.PLOTLYENV=window.PLOTLYENV || {};                                    if (document.getElementById(\"14d2c104-57e6-4337-8593-5222be280951\")) {                    Plotly.newPlot(                        \"14d2c104-57e6-4337-8593-5222be280951\",                        [{\"alignmentgroup\":\"True\",\"hovertemplate\":\"color=dolnoslaskie<br>x=%{x}<br>y=%{y}<extra></extra>\",\"legendgroup\":\"dolnoslaskie\",\"marker\":{\"color\":\"#636efa\",\"pattern\":{\"shape\":\"\"}},\"name\":\"dolnoslaskie\",\"offsetgroup\":\"dolnoslaskie\",\"orientation\":\"h\",\"showlegend\":true,\"textposition\":\"auto\",\"x\":[1159.5],\"xaxis\":\"x\",\"y\":[\"dolnoslaskie\"],\"yaxis\":\"y\",\"type\":\"bar\"},{\"alignmentgroup\":\"True\",\"hovertemplate\":\"color=kujawsko-pomorskie<br>x=%{x}<br>y=%{y}<extra></extra>\",\"legendgroup\":\"kujawsko-pomorskie\",\"marker\":{\"color\":\"#EF553B\",\"pattern\":{\"shape\":\"\"}},\"name\":\"kujawsko-pomorskie\",\"offsetgroup\":\"kujawsko-pomorskie\",\"orientation\":\"h\",\"showlegend\":true,\"textposition\":\"auto\",\"x\":[970.24],\"xaxis\":\"x\",\"y\":[\"kujawsko-pomorskie\"],\"yaxis\":\"y\",\"type\":\"bar\"},{\"alignmentgroup\":\"True\",\"hovertemplate\":\"color=lubelskie<br>x=%{x}<br>y=%{y}<extra></extra>\",\"legendgroup\":\"lubelskie\",\"marker\":{\"color\":\"#00cc96\",\"pattern\":{\"shape\":\"\"}},\"name\":\"lubelskie\",\"offsetgroup\":\"lubelskie\",\"orientation\":\"h\",\"showlegend\":true,\"textposition\":\"auto\",\"x\":[1371.97],\"xaxis\":\"x\",\"y\":[\"lubelskie\"],\"yaxis\":\"y\",\"type\":\"bar\"},{\"alignmentgroup\":\"True\",\"hovertemplate\":\"color=lubuskie<br>x=%{x}<br>y=%{y}<extra></extra>\",\"legendgroup\":\"lubuskie\",\"marker\":{\"color\":\"#ab63fa\",\"pattern\":{\"shape\":\"\"}},\"name\":\"lubuskie\",\"offsetgroup\":\"lubuskie\",\"orientation\":\"h\",\"showlegend\":true,\"textposition\":\"auto\",\"x\":[1034.93],\"xaxis\":\"x\",\"y\":[\"lubuskie\"],\"yaxis\":\"y\",\"type\":\"bar\"},{\"alignmentgroup\":\"True\",\"hovertemplate\":\"color=lodzkie<br>x=%{x}<br>y=%{y}<extra></extra>\",\"legendgroup\":\"lodzkie\",\"marker\":{\"color\":\"#FFA15A\",\"pattern\":{\"shape\":\"\"}},\"name\":\"lodzkie\",\"offsetgroup\":\"lodzkie\",\"orientation\":\"h\",\"showlegend\":true,\"textposition\":\"auto\",\"x\":[1298.21],\"xaxis\":\"x\",\"y\":[\"lodzkie\"],\"yaxis\":\"y\",\"type\":\"bar\"},{\"alignmentgroup\":\"True\",\"hovertemplate\":\"color=malopolskie<br>x=%{x}<br>y=%{y}<extra></extra>\",\"legendgroup\":\"malopolskie\",\"marker\":{\"color\":\"#19d3f3\",\"pattern\":{\"shape\":\"\"}},\"name\":\"malopolskie\",\"offsetgroup\":\"malopolskie\",\"orientation\":\"h\",\"showlegend\":true,\"textposition\":\"auto\",\"x\":[1598.33],\"xaxis\":\"x\",\"y\":[\"malopolskie\"],\"yaxis\":\"y\",\"type\":\"bar\"},{\"alignmentgroup\":\"True\",\"hovertemplate\":\"color=mazowiecki<br>x=%{x}<br>y=%{y}<extra></extra>\",\"legendgroup\":\"mazowiecki\",\"marker\":{\"color\":\"#FF6692\",\"pattern\":{\"shape\":\"\"}},\"name\":\"mazowiecki\",\"offsetgroup\":\"mazowiecki\",\"orientation\":\"h\",\"showlegend\":true,\"textposition\":\"auto\",\"x\":[1413.74],\"xaxis\":\"x\",\"y\":[\"mazowiecki\"],\"yaxis\":\"y\",\"type\":\"bar\"},{\"alignmentgroup\":\"True\",\"hovertemplate\":\"color=opolskie<br>x=%{x}<br>y=%{y}<extra></extra>\",\"legendgroup\":\"opolskie\",\"marker\":{\"color\":\"#B6E880\",\"pattern\":{\"shape\":\"\"}},\"name\":\"opolskie\",\"offsetgroup\":\"opolskie\",\"orientation\":\"h\",\"showlegend\":true,\"textposition\":\"auto\",\"x\":[1239.53],\"xaxis\":\"x\",\"y\":[\"opolskie\"],\"yaxis\":\"y\",\"type\":\"bar\"},{\"alignmentgroup\":\"True\",\"hovertemplate\":\"color=podkarpackie<br>x=%{x}<br>y=%{y}<extra></extra>\",\"legendgroup\":\"podkarpackie\",\"marker\":{\"color\":\"#FF97FF\",\"pattern\":{\"shape\":\"\"}},\"name\":\"podkarpackie\",\"offsetgroup\":\"podkarpackie\",\"orientation\":\"h\",\"showlegend\":true,\"textposition\":\"auto\",\"x\":[1269.74],\"xaxis\":\"x\",\"y\":[\"podkarpackie\"],\"yaxis\":\"y\",\"type\":\"bar\"},{\"alignmentgroup\":\"True\",\"hovertemplate\":\"color=podlaskie<br>x=%{x}<br>y=%{y}<extra></extra>\",\"legendgroup\":\"podlaskie\",\"marker\":{\"color\":\"#FECB52\",\"pattern\":{\"shape\":\"\"}},\"name\":\"podlaskie\",\"offsetgroup\":\"podlaskie\",\"orientation\":\"h\",\"showlegend\":true,\"textposition\":\"auto\",\"x\":[1049.23],\"xaxis\":\"x\",\"y\":[\"podlaskie\"],\"yaxis\":\"y\",\"type\":\"bar\"},{\"alignmentgroup\":\"True\",\"hovertemplate\":\"color=pomorskie<br>x=%{x}<br>y=%{y}<extra></extra>\",\"legendgroup\":\"pomorskie\",\"marker\":{\"color\":\"#636efa\",\"pattern\":{\"shape\":\"\"}},\"name\":\"pomorskie\",\"offsetgroup\":\"pomorskie\",\"orientation\":\"h\",\"showlegend\":true,\"textposition\":\"auto\",\"x\":[1268.85],\"xaxis\":\"x\",\"y\":[\"pomorskie\"],\"yaxis\":\"y\",\"type\":\"bar\"},{\"alignmentgroup\":\"True\",\"hovertemplate\":\"color=slaskie<br>x=%{x}<br>y=%{y}<extra></extra>\",\"legendgroup\":\"slaskie\",\"marker\":{\"color\":\"#EF553B\",\"pattern\":{\"shape\":\"\"}},\"name\":\"slaskie\",\"offsetgroup\":\"slaskie\",\"orientation\":\"h\",\"showlegend\":true,\"textposition\":\"auto\",\"x\":[1330.01],\"xaxis\":\"x\",\"y\":[\"slaskie\"],\"yaxis\":\"y\",\"type\":\"bar\"},{\"alignmentgroup\":\"True\",\"hovertemplate\":\"color=swietokrzyskie<br>x=%{x}<br>y=%{y}<extra></extra>\",\"legendgroup\":\"swietokrzyskie\",\"marker\":{\"color\":\"#00cc96\",\"pattern\":{\"shape\":\"\"}},\"name\":\"swietokrzyskie\",\"offsetgroup\":\"swietokrzyskie\",\"orientation\":\"h\",\"showlegend\":true,\"textposition\":\"auto\",\"x\":[988.03],\"xaxis\":\"x\",\"y\":[\"swietokrzyskie\"],\"yaxis\":\"y\",\"type\":\"bar\"},{\"alignmentgroup\":\"True\",\"hovertemplate\":\"color=warminsko-mazurskie<br>x=%{x}<br>y=%{y}<extra></extra>\",\"legendgroup\":\"warminsko-mazurskie\",\"marker\":{\"color\":\"#ab63fa\",\"pattern\":{\"shape\":\"\"}},\"name\":\"warminsko-mazurskie\",\"offsetgroup\":\"warminsko-mazurskie\",\"orientation\":\"h\",\"showlegend\":true,\"textposition\":\"auto\",\"x\":[1052.99],\"xaxis\":\"x\",\"y\":[\"warminsko-mazurskie\"],\"yaxis\":\"y\",\"type\":\"bar\"},{\"alignmentgroup\":\"True\",\"hovertemplate\":\"color=wielkopolskie<br>x=%{x}<br>y=%{y}<extra></extra>\",\"legendgroup\":\"wielkopolskie\",\"marker\":{\"color\":\"#FFA15A\",\"pattern\":{\"shape\":\"\"}},\"name\":\"wielkopolskie\",\"offsetgroup\":\"wielkopolskie\",\"orientation\":\"h\",\"showlegend\":true,\"textposition\":\"auto\",\"x\":[1177.22],\"xaxis\":\"x\",\"y\":[\"wielkopolskie\"],\"yaxis\":\"y\",\"type\":\"bar\"},{\"alignmentgroup\":\"True\",\"hovertemplate\":\"color=zachodniopomorskie<br>x=%{x}<br>y=%{y}<extra></extra>\",\"legendgroup\":\"zachodniopomorskie\",\"marker\":{\"color\":\"#19d3f3\",\"pattern\":{\"shape\":\"\"}},\"name\":\"zachodniopomorskie\",\"offsetgroup\":\"zachodniopomorskie\",\"orientation\":\"h\",\"showlegend\":true,\"textposition\":\"auto\",\"x\":[1026.41],\"xaxis\":\"x\",\"y\":[\"zachodniopomorskie\"],\"yaxis\":\"y\",\"type\":\"bar\"}],                        {\"template\":{\"data\":{\"bar\":[{\"error_x\":{\"color\":\"#2a3f5f\"},\"error_y\":{\"color\":\"#2a3f5f\"},\"marker\":{\"line\":{\"color\":\"#E5ECF6\",\"width\":0.5},\"pattern\":{\"fillmode\":\"overlay\",\"size\":10,\"solidity\":0.2}},\"type\":\"bar\"}],\"barpolar\":[{\"marker\":{\"line\":{\"color\":\"#E5ECF6\",\"width\":0.5},\"pattern\":{\"fillmode\":\"overlay\",\"size\":10,\"solidity\":0.2}},\"type\":\"barpolar\"}],\"carpet\":[{\"aaxis\":{\"endlinecolor\":\"#2a3f5f\",\"gridcolor\":\"white\",\"linecolor\":\"white\",\"minorgridcolor\":\"white\",\"startlinecolor\":\"#2a3f5f\"},\"baxis\":{\"endlinecolor\":\"#2a3f5f\",\"gridcolor\":\"white\",\"linecolor\":\"white\",\"minorgridcolor\":\"white\",\"startlinecolor\":\"#2a3f5f\"},\"type\":\"carpet\"}],\"choropleth\":[{\"colorbar\":{\"outlinewidth\":0,\"ticks\":\"\"},\"type\":\"choropleth\"}],\"contour\":[{\"colorbar\":{\"outlinewidth\":0,\"ticks\":\"\"},\"colorscale\":[[0.0,\"#0d0887\"],[0.1111111111111111,\"#46039f\"],[0.2222222222222222,\"#7201a8\"],[0.3333333333333333,\"#9c179e\"],[0.4444444444444444,\"#bd3786\"],[0.5555555555555556,\"#d8576b\"],[0.6666666666666666,\"#ed7953\"],[0.7777777777777778,\"#fb9f3a\"],[0.8888888888888888,\"#fdca26\"],[1.0,\"#f0f921\"]],\"type\":\"contour\"}],\"contourcarpet\":[{\"colorbar\":{\"outlinewidth\":0,\"ticks\":\"\"},\"type\":\"contourcarpet\"}],\"heatmap\":[{\"colorbar\":{\"outlinewidth\":0,\"ticks\":\"\"},\"colorscale\":[[0.0,\"#0d0887\"],[0.1111111111111111,\"#46039f\"],[0.2222222222222222,\"#7201a8\"],[0.3333333333333333,\"#9c179e\"],[0.4444444444444444,\"#bd3786\"],[0.5555555555555556,\"#d8576b\"],[0.6666666666666666,\"#ed7953\"],[0.7777777777777778,\"#fb9f3a\"],[0.8888888888888888,\"#fdca26\"],[1.0,\"#f0f921\"]],\"type\":\"heatmap\"}],\"heatmapgl\":[{\"colorbar\":{\"outlinewidth\":0,\"ticks\":\"\"},\"colorscale\":[[0.0,\"#0d0887\"],[0.1111111111111111,\"#46039f\"],[0.2222222222222222,\"#7201a8\"],[0.3333333333333333,\"#9c179e\"],[0.4444444444444444,\"#bd3786\"],[0.5555555555555556,\"#d8576b\"],[0.6666666666666666,\"#ed7953\"],[0.7777777777777778,\"#fb9f3a\"],[0.8888888888888888,\"#fdca26\"],[1.0,\"#f0f921\"]],\"type\":\"heatmapgl\"}],\"histogram\":[{\"marker\":{\"pattern\":{\"fillmode\":\"overlay\",\"size\":10,\"solidity\":0.2}},\"type\":\"histogram\"}],\"histogram2d\":[{\"colorbar\":{\"outlinewidth\":0,\"ticks\":\"\"},\"colorscale\":[[0.0,\"#0d0887\"],[0.1111111111111111,\"#46039f\"],[0.2222222222222222,\"#7201a8\"],[0.3333333333333333,\"#9c179e\"],[0.4444444444444444,\"#bd3786\"],[0.5555555555555556,\"#d8576b\"],[0.6666666666666666,\"#ed7953\"],[0.7777777777777778,\"#fb9f3a\"],[0.8888888888888888,\"#fdca26\"],[1.0,\"#f0f921\"]],\"type\":\"histogram2d\"}],\"histogram2dcontour\":[{\"colorbar\":{\"outlinewidth\":0,\"ticks\":\"\"},\"colorscale\":[[0.0,\"#0d0887\"],[0.1111111111111111,\"#46039f\"],[0.2222222222222222,\"#7201a8\"],[0.3333333333333333,\"#9c179e\"],[0.4444444444444444,\"#bd3786\"],[0.5555555555555556,\"#d8576b\"],[0.6666666666666666,\"#ed7953\"],[0.7777777777777778,\"#fb9f3a\"],[0.8888888888888888,\"#fdca26\"],[1.0,\"#f0f921\"]],\"type\":\"histogram2dcontour\"}],\"mesh3d\":[{\"colorbar\":{\"outlinewidth\":0,\"ticks\":\"\"},\"type\":\"mesh3d\"}],\"parcoords\":[{\"line\":{\"colorbar\":{\"outlinewidth\":0,\"ticks\":\"\"}},\"type\":\"parcoords\"}],\"pie\":[{\"automargin\":true,\"type\":\"pie\"}],\"scatter\":[{\"marker\":{\"colorbar\":{\"outlinewidth\":0,\"ticks\":\"\"}},\"type\":\"scatter\"}],\"scatter3d\":[{\"line\":{\"colorbar\":{\"outlinewidth\":0,\"ticks\":\"\"}},\"marker\":{\"colorbar\":{\"outlinewidth\":0,\"ticks\":\"\"}},\"type\":\"scatter3d\"}],\"scattercarpet\":[{\"marker\":{\"colorbar\":{\"outlinewidth\":0,\"ticks\":\"\"}},\"type\":\"scattercarpet\"}],\"scattergeo\":[{\"marker\":{\"colorbar\":{\"outlinewidth\":0,\"ticks\":\"\"}},\"type\":\"scattergeo\"}],\"scattergl\":[{\"marker\":{\"colorbar\":{\"outlinewidth\":0,\"ticks\":\"\"}},\"type\":\"scattergl\"}],\"scattermapbox\":[{\"marker\":{\"colorbar\":{\"outlinewidth\":0,\"ticks\":\"\"}},\"type\":\"scattermapbox\"}],\"scatterpolar\":[{\"marker\":{\"colorbar\":{\"outlinewidth\":0,\"ticks\":\"\"}},\"type\":\"scatterpolar\"}],\"scatterpolargl\":[{\"marker\":{\"colorbar\":{\"outlinewidth\":0,\"ticks\":\"\"}},\"type\":\"scatterpolargl\"}],\"scatterternary\":[{\"marker\":{\"colorbar\":{\"outlinewidth\":0,\"ticks\":\"\"}},\"type\":\"scatterternary\"}],\"surface\":[{\"colorbar\":{\"outlinewidth\":0,\"ticks\":\"\"},\"colorscale\":[[0.0,\"#0d0887\"],[0.1111111111111111,\"#46039f\"],[0.2222222222222222,\"#7201a8\"],[0.3333333333333333,\"#9c179e\"],[0.4444444444444444,\"#bd3786\"],[0.5555555555555556,\"#d8576b\"],[0.6666666666666666,\"#ed7953\"],[0.7777777777777778,\"#fb9f3a\"],[0.8888888888888888,\"#fdca26\"],[1.0,\"#f0f921\"]],\"type\":\"surface\"}],\"table\":[{\"cells\":{\"fill\":{\"color\":\"#EBF0F8\"},\"line\":{\"color\":\"white\"}},\"header\":{\"fill\":{\"color\":\"#C8D4E3\"},\"line\":{\"color\":\"white\"}},\"type\":\"table\"}]},\"layout\":{\"annotationdefaults\":{\"arrowcolor\":\"#2a3f5f\",\"arrowhead\":0,\"arrowwidth\":1},\"autotypenumbers\":\"strict\",\"coloraxis\":{\"colorbar\":{\"outlinewidth\":0,\"ticks\":\"\"}},\"colorscale\":{\"diverging\":[[0,\"#8e0152\"],[0.1,\"#c51b7d\"],[0.2,\"#de77ae\"],[0.3,\"#f1b6da\"],[0.4,\"#fde0ef\"],[0.5,\"#f7f7f7\"],[0.6,\"#e6f5d0\"],[0.7,\"#b8e186\"],[0.8,\"#7fbc41\"],[0.9,\"#4d9221\"],[1,\"#276419\"]],\"sequential\":[[0.0,\"#0d0887\"],[0.1111111111111111,\"#46039f\"],[0.2222222222222222,\"#7201a8\"],[0.3333333333333333,\"#9c179e\"],[0.4444444444444444,\"#bd3786\"],[0.5555555555555556,\"#d8576b\"],[0.6666666666666666,\"#ed7953\"],[0.7777777777777778,\"#fb9f3a\"],[0.8888888888888888,\"#fdca26\"],[1.0,\"#f0f921\"]],\"sequentialminus\":[[0.0,\"#0d0887\"],[0.1111111111111111,\"#46039f\"],[0.2222222222222222,\"#7201a8\"],[0.3333333333333333,\"#9c179e\"],[0.4444444444444444,\"#bd3786\"],[0.5555555555555556,\"#d8576b\"],[0.6666666666666666,\"#ed7953\"],[0.7777777777777778,\"#fb9f3a\"],[0.8888888888888888,\"#fdca26\"],[1.0,\"#f0f921\"]]},\"colorway\":[\"#636efa\",\"#EF553B\",\"#00cc96\",\"#ab63fa\",\"#FFA15A\",\"#19d3f3\",\"#FF6692\",\"#B6E880\",\"#FF97FF\",\"#FECB52\"],\"font\":{\"color\":\"#2a3f5f\"},\"geo\":{\"bgcolor\":\"white\",\"lakecolor\":\"white\",\"landcolor\":\"#E5ECF6\",\"showlakes\":true,\"showland\":true,\"subunitcolor\":\"white\"},\"hoverlabel\":{\"align\":\"left\"},\"hovermode\":\"closest\",\"mapbox\":{\"style\":\"light\"},\"paper_bgcolor\":\"white\",\"plot_bgcolor\":\"#E5ECF6\",\"polar\":{\"angularaxis\":{\"gridcolor\":\"white\",\"linecolor\":\"white\",\"ticks\":\"\"},\"bgcolor\":\"#E5ECF6\",\"radialaxis\":{\"gridcolor\":\"white\",\"linecolor\":\"white\",\"ticks\":\"\"}},\"scene\":{\"xaxis\":{\"backgroundcolor\":\"#E5ECF6\",\"gridcolor\":\"white\",\"gridwidth\":2,\"linecolor\":\"white\",\"showbackground\":true,\"ticks\":\"\",\"zerolinecolor\":\"white\"},\"yaxis\":{\"backgroundcolor\":\"#E5ECF6\",\"gridcolor\":\"white\",\"gridwidth\":2,\"linecolor\":\"white\",\"showbackground\":true,\"ticks\":\"\",\"zerolinecolor\":\"white\"},\"zaxis\":{\"backgroundcolor\":\"#E5ECF6\",\"gridcolor\":\"white\",\"gridwidth\":2,\"linecolor\":\"white\",\"showbackground\":true,\"ticks\":\"\",\"zerolinecolor\":\"white\"}},\"shapedefaults\":{\"line\":{\"color\":\"#2a3f5f\"}},\"ternary\":{\"aaxis\":{\"gridcolor\":\"white\",\"linecolor\":\"white\",\"ticks\":\"\"},\"baxis\":{\"gridcolor\":\"white\",\"linecolor\":\"white\",\"ticks\":\"\"},\"bgcolor\":\"#E5ECF6\",\"caxis\":{\"gridcolor\":\"white\",\"linecolor\":\"white\",\"ticks\":\"\"}},\"title\":{\"x\":0.05},\"xaxis\":{\"automargin\":true,\"gridcolor\":\"white\",\"linecolor\":\"white\",\"ticks\":\"\",\"title\":{\"standoff\":15},\"zerolinecolor\":\"white\",\"zerolinewidth\":2},\"yaxis\":{\"automargin\":true,\"gridcolor\":\"white\",\"linecolor\":\"white\",\"ticks\":\"\",\"title\":{\"standoff\":15},\"zerolinecolor\":\"white\",\"zerolinewidth\":2}}},\"xaxis\":{\"anchor\":\"y\",\"domain\":[0.0,1.0],\"title\":{\"text\":\"Readers per 10000 inhabitatnts\"}},\"yaxis\":{\"anchor\":\"x\",\"domain\":[0.0,1.0],\"title\":{\"text\":\"Voivodeship\"}},\"legend\":{\"title\":{\"text\":\"color\"},\"tracegroupgap\":0},\"margin\":{\"t\":60},\"barmode\":\"relative\",\"font\":{\"family\":\"Courier New, monospace\",\"size\":14,\"color\":\"RebeccaPurple\"},\"title\":{\"text\":\"Readers per 10000 inhabitatnts (Interactive bar chart)\"}},                        {\"responsive\": true}                    ).then(function(){\n",
       "                            \n",
       "var gd = document.getElementById('14d2c104-57e6-4337-8593-5222be280951');\n",
       "var x = new MutationObserver(function (mutations, observer) {{\n",
       "        var display = window.getComputedStyle(gd).display;\n",
       "        if (!display || display === 'none') {{\n",
       "            console.log([gd, 'removed!']);\n",
       "            Plotly.purge(gd);\n",
       "            observer.disconnect();\n",
       "        }}\n",
       "}});\n",
       "\n",
       "// Listen for the removal of the full notebook cells\n",
       "var notebookContainer = gd.closest('#notebook-container');\n",
       "if (notebookContainer) {{\n",
       "    x.observe(notebookContainer, {childList: true});\n",
       "}}\n",
       "\n",
       "// Listen for the clearing of the current output cell\n",
       "var outputEl = gd.closest('.output');\n",
       "if (outputEl) {{\n",
       "    x.observe(outputEl, {childList: true});\n",
       "}}\n",
       "\n",
       "                        })                };                });            </script>        </div>"
      ]
     },
     "metadata": {},
     "output_type": "display_data"
    }
   ],
   "source": [
    "# Interactive bar chart with Plotly Express\n",
    "# Readers per 10000 inhabitatnts\n",
    "\n",
    "fig3 = px \\\n",
    "        .bar(x = (libraries.Number_of_readers*10000 / population.Total).round(2), \n",
    "             y = libraries.Voivodeship, \n",
    "             color=libraries.Voivodeship,\n",
    "            )\n",
    "\n",
    "fig3.update_layout(\n",
    "    title='Readers per 10000 inhabitatnts (Interactive bar chart)',\n",
    "    xaxis_title='Readers per 10000 inhabitatnts',\n",
    "    yaxis_title='Voivodeship',\n",
    "    font=dict(\n",
    "    family=\"Courier New, monospace\",\n",
    "    size=14,\n",
    "    color=\"RebeccaPurple\"\n",
    "    )\n",
    ")\n",
    "\n",
    "fig3.show()"
   ]
  },
  {
   "cell_type": "code",
   "execution_count": 39,
   "id": "603f920d",
   "metadata": {},
   "outputs": [],
   "source": [
    "libraries['Readers_per_10000'] = (libraries['Number_of_readers']*10000 / population['Total']).round(0)"
   ]
  },
  {
   "cell_type": "code",
   "execution_count": 40,
   "id": "3d2223f4",
   "metadata": {},
   "outputs": [
    {
     "name": "stdout",
     "output_type": "stream",
     "text": [
      "\u001b[1m\u001b[95mThe first five voivodeships in terms of Amount of Readers per 10000 inhabitatnts:\u001b[0m malopolskie, mazowiecki, lubelskie, slaskie, lodzkie\n"
     ]
    }
   ],
   "source": [
    "print(\n",
    "clr.S+\"Top five voivodeships in terms of Amount of Readers per 10000 inhabitatnts:\"+clr.E,\n",
    "libraries.sort_values('Readers_per_10000', ascending = False).Voivodeship[:5].str.cat(sep = ', '))"
   ]
  },
  {
   "cell_type": "code",
   "execution_count": null,
   "id": "b9bfe25b",
   "metadata": {},
   "outputs": [],
   "source": []
  },
  {
   "cell_type": "code",
   "execution_count": 41,
   "id": "eb7fbcd9",
   "metadata": {},
   "outputs": [
    {
     "data": {
      "application/vnd.plotly.v1+json": {
       "config": {
        "plotlyServerURL": "https://plot.ly"
       },
       "data": [
        {
         "alignmentgroup": "True",
         "hovertemplate": "color=dolnoslaskie<br>x=%{x}<br>y=%{y}<extra></extra>",
         "legendgroup": "dolnoslaskie",
         "marker": {
          "color": "#636efa",
          "pattern": {
           "shape": ""
          }
         },
         "name": "dolnoslaskie",
         "offsetgroup": "dolnoslaskie",
         "orientation": "h",
         "showlegend": true,
         "textposition": "auto",
         "type": "bar",
         "x": [
          3.84
         ],
         "xaxis": "x",
         "y": [
          "dolnoslaskie"
         ],
         "yaxis": "y"
        },
        {
         "alignmentgroup": "True",
         "hovertemplate": "color=kujawsko-pomorskie<br>x=%{x}<br>y=%{y}<extra></extra>",
         "legendgroup": "kujawsko-pomorskie",
         "marker": {
          "color": "#EF553B",
          "pattern": {
           "shape": ""
          }
         },
         "name": "kujawsko-pomorskie",
         "offsetgroup": "kujawsko-pomorskie",
         "orientation": "h",
         "showlegend": true,
         "textposition": "auto",
         "type": "bar",
         "x": [
          4.5
         ],
         "xaxis": "x",
         "y": [
          "kujawsko-pomorskie"
         ],
         "yaxis": "y"
        },
        {
         "alignmentgroup": "True",
         "hovertemplate": "color=lubelskie<br>x=%{x}<br>y=%{y}<extra></extra>",
         "legendgroup": "lubelskie",
         "marker": {
          "color": "#00cc96",
          "pattern": {
           "shape": ""
          }
         },
         "name": "lubelskie",
         "offsetgroup": "lubelskie",
         "orientation": "h",
         "showlegend": true,
         "textposition": "auto",
         "type": "bar",
         "x": [
          4.35
         ],
         "xaxis": "x",
         "y": [
          "lubelskie"
         ],
         "yaxis": "y"
        },
        {
         "alignmentgroup": "True",
         "hovertemplate": "color=lubuskie<br>x=%{x}<br>y=%{y}<extra></extra>",
         "legendgroup": "lubuskie",
         "marker": {
          "color": "#ab63fa",
          "pattern": {
           "shape": ""
          }
         },
         "name": "lubuskie",
         "offsetgroup": "lubuskie",
         "orientation": "h",
         "showlegend": true,
         "textposition": "auto",
         "type": "bar",
         "x": [
          4.94
         ],
         "xaxis": "x",
         "y": [
          "lubuskie"
         ],
         "yaxis": "y"
        },
        {
         "alignmentgroup": "True",
         "hovertemplate": "color=lodzkie<br>x=%{x}<br>y=%{y}<extra></extra>",
         "legendgroup": "lodzkie",
         "marker": {
          "color": "#FFA15A",
          "pattern": {
           "shape": ""
          }
         },
         "name": "lodzkie",
         "offsetgroup": "lodzkie",
         "orientation": "h",
         "showlegend": true,
         "textposition": "auto",
         "type": "bar",
         "x": [
          3.71
         ],
         "xaxis": "x",
         "y": [
          "lodzkie"
         ],
         "yaxis": "y"
        },
        {
         "alignmentgroup": "True",
         "hovertemplate": "color=malopolskie<br>x=%{x}<br>y=%{y}<extra></extra>",
         "legendgroup": "malopolskie",
         "marker": {
          "color": "#19d3f3",
          "pattern": {
           "shape": ""
          }
         },
         "name": "malopolskie",
         "offsetgroup": "malopolskie",
         "orientation": "h",
         "showlegend": true,
         "textposition": "auto",
         "type": "bar",
         "x": [
          2.9
         ],
         "xaxis": "x",
         "y": [
          "malopolskie"
         ],
         "yaxis": "y"
        },
        {
         "alignmentgroup": "True",
         "hovertemplate": "color=mazowiecki<br>x=%{x}<br>y=%{y}<extra></extra>",
         "legendgroup": "mazowiecki",
         "marker": {
          "color": "#FF6692",
          "pattern": {
           "shape": ""
          }
         },
         "name": "mazowiecki",
         "offsetgroup": "mazowiecki",
         "orientation": "h",
         "showlegend": true,
         "textposition": "auto",
         "type": "bar",
         "x": [
          3.46
         ],
         "xaxis": "x",
         "y": [
          "mazowiecki"
         ],
         "yaxis": "y"
        },
        {
         "alignmentgroup": "True",
         "hovertemplate": "color=opolskie<br>x=%{x}<br>y=%{y}<extra></extra>",
         "legendgroup": "opolskie",
         "marker": {
          "color": "#B6E880",
          "pattern": {
           "shape": ""
          }
         },
         "name": "opolskie",
         "offsetgroup": "opolskie",
         "orientation": "h",
         "showlegend": true,
         "textposition": "auto",
         "type": "bar",
         "x": [
          4.55
         ],
         "xaxis": "x",
         "y": [
          "opolskie"
         ],
         "yaxis": "y"
        },
        {
         "alignmentgroup": "True",
         "hovertemplate": "color=podkarpackie<br>x=%{x}<br>y=%{y}<extra></extra>",
         "legendgroup": "podkarpackie",
         "marker": {
          "color": "#FF97FF",
          "pattern": {
           "shape": ""
          }
         },
         "name": "podkarpackie",
         "offsetgroup": "podkarpackie",
         "orientation": "h",
         "showlegend": true,
         "textposition": "auto",
         "type": "bar",
         "x": [
          4.49
         ],
         "xaxis": "x",
         "y": [
          "podkarpackie"
         ],
         "yaxis": "y"
        },
        {
         "alignmentgroup": "True",
         "hovertemplate": "color=podlaskie<br>x=%{x}<br>y=%{y}<extra></extra>",
         "legendgroup": "podlaskie",
         "marker": {
          "color": "#FECB52",
          "pattern": {
           "shape": ""
          }
         },
         "name": "podlaskie",
         "offsetgroup": "podlaskie",
         "orientation": "h",
         "showlegend": true,
         "textposition": "auto",
         "type": "bar",
         "x": [
          4.56
         ],
         "xaxis": "x",
         "y": [
          "podlaskie"
         ],
         "yaxis": "y"
        },
        {
         "alignmentgroup": "True",
         "hovertemplate": "color=pomorskie<br>x=%{x}<br>y=%{y}<extra></extra>",
         "legendgroup": "pomorskie",
         "marker": {
          "color": "#636efa",
          "pattern": {
           "shape": ""
          }
         },
         "name": "pomorskie",
         "offsetgroup": "pomorskie",
         "orientation": "h",
         "showlegend": true,
         "textposition": "auto",
         "type": "bar",
         "x": [
          3.09
         ],
         "xaxis": "x",
         "y": [
          "pomorskie"
         ],
         "yaxis": "y"
        },
        {
         "alignmentgroup": "True",
         "hovertemplate": "color=slaskie<br>x=%{x}<br>y=%{y}<extra></extra>",
         "legendgroup": "slaskie",
         "marker": {
          "color": "#EF553B",
          "pattern": {
           "shape": ""
          }
         },
         "name": "slaskie",
         "offsetgroup": "slaskie",
         "orientation": "h",
         "showlegend": true,
         "textposition": "auto",
         "type": "bar",
         "x": [
          3.49
         ],
         "xaxis": "x",
         "y": [
          "slaskie"
         ],
         "yaxis": "y"
        },
        {
         "alignmentgroup": "True",
         "hovertemplate": "color=swietokrzyskie<br>x=%{x}<br>y=%{y}<extra></extra>",
         "legendgroup": "swietokrzyskie",
         "marker": {
          "color": "#00cc96",
          "pattern": {
           "shape": ""
          }
         },
         "name": "swietokrzyskie",
         "offsetgroup": "swietokrzyskie",
         "orientation": "h",
         "showlegend": true,
         "textposition": "auto",
         "type": "bar",
         "x": [
          5.01
         ],
         "xaxis": "x",
         "y": [
          "swietokrzyskie"
         ],
         "yaxis": "y"
        },
        {
         "alignmentgroup": "True",
         "hovertemplate": "color=warminsko-mazurskie<br>x=%{x}<br>y=%{y}<extra></extra>",
         "legendgroup": "warminsko-mazurskie",
         "marker": {
          "color": "#ab63fa",
          "pattern": {
           "shape": ""
          }
         },
         "name": "warminsko-mazurskie",
         "offsetgroup": "warminsko-mazurskie",
         "orientation": "h",
         "showlegend": true,
         "textposition": "auto",
         "type": "bar",
         "x": [
          4.65
         ],
         "xaxis": "x",
         "y": [
          "warminsko-mazurskie"
         ],
         "yaxis": "y"
        },
        {
         "alignmentgroup": "True",
         "hovertemplate": "color=wielkopolskie<br>x=%{x}<br>y=%{y}<extra></extra>",
         "legendgroup": "wielkopolskie",
         "marker": {
          "color": "#FFA15A",
          "pattern": {
           "shape": ""
          }
         },
         "name": "wielkopolskie",
         "offsetgroup": "wielkopolskie",
         "orientation": "h",
         "showlegend": true,
         "textposition": "auto",
         "type": "bar",
         "x": [
          3.91
         ],
         "xaxis": "x",
         "y": [
          "wielkopolskie"
         ],
         "yaxis": "y"
        },
        {
         "alignmentgroup": "True",
         "hovertemplate": "color=zachodniopomorskie<br>x=%{x}<br>y=%{y}<extra></extra>",
         "legendgroup": "zachodniopomorskie",
         "marker": {
          "color": "#19d3f3",
          "pattern": {
           "shape": ""
          }
         },
         "name": "zachodniopomorskie",
         "offsetgroup": "zachodniopomorskie",
         "orientation": "h",
         "showlegend": true,
         "textposition": "auto",
         "type": "bar",
         "x": [
          4.81
         ],
         "xaxis": "x",
         "y": [
          "zachodniopomorskie"
         ],
         "yaxis": "y"
        }
       ],
       "layout": {
        "barmode": "relative",
        "font": {
         "color": "RebeccaPurple",
         "family": "Courier New, monospace",
         "size": 14
        },
        "legend": {
         "title": {
          "text": "color"
         },
         "tracegroupgap": 0
        },
        "margin": {
         "t": 60
        },
        "template": {
         "data": {
          "bar": [
           {
            "error_x": {
             "color": "#2a3f5f"
            },
            "error_y": {
             "color": "#2a3f5f"
            },
            "marker": {
             "line": {
              "color": "#E5ECF6",
              "width": 0.5
             },
             "pattern": {
              "fillmode": "overlay",
              "size": 10,
              "solidity": 0.2
             }
            },
            "type": "bar"
           }
          ],
          "barpolar": [
           {
            "marker": {
             "line": {
              "color": "#E5ECF6",
              "width": 0.5
             },
             "pattern": {
              "fillmode": "overlay",
              "size": 10,
              "solidity": 0.2
             }
            },
            "type": "barpolar"
           }
          ],
          "carpet": [
           {
            "aaxis": {
             "endlinecolor": "#2a3f5f",
             "gridcolor": "white",
             "linecolor": "white",
             "minorgridcolor": "white",
             "startlinecolor": "#2a3f5f"
            },
            "baxis": {
             "endlinecolor": "#2a3f5f",
             "gridcolor": "white",
             "linecolor": "white",
             "minorgridcolor": "white",
             "startlinecolor": "#2a3f5f"
            },
            "type": "carpet"
           }
          ],
          "choropleth": [
           {
            "colorbar": {
             "outlinewidth": 0,
             "ticks": ""
            },
            "type": "choropleth"
           }
          ],
          "contour": [
           {
            "colorbar": {
             "outlinewidth": 0,
             "ticks": ""
            },
            "colorscale": [
             [
              0,
              "#0d0887"
             ],
             [
              0.1111111111111111,
              "#46039f"
             ],
             [
              0.2222222222222222,
              "#7201a8"
             ],
             [
              0.3333333333333333,
              "#9c179e"
             ],
             [
              0.4444444444444444,
              "#bd3786"
             ],
             [
              0.5555555555555556,
              "#d8576b"
             ],
             [
              0.6666666666666666,
              "#ed7953"
             ],
             [
              0.7777777777777778,
              "#fb9f3a"
             ],
             [
              0.8888888888888888,
              "#fdca26"
             ],
             [
              1,
              "#f0f921"
             ]
            ],
            "type": "contour"
           }
          ],
          "contourcarpet": [
           {
            "colorbar": {
             "outlinewidth": 0,
             "ticks": ""
            },
            "type": "contourcarpet"
           }
          ],
          "heatmap": [
           {
            "colorbar": {
             "outlinewidth": 0,
             "ticks": ""
            },
            "colorscale": [
             [
              0,
              "#0d0887"
             ],
             [
              0.1111111111111111,
              "#46039f"
             ],
             [
              0.2222222222222222,
              "#7201a8"
             ],
             [
              0.3333333333333333,
              "#9c179e"
             ],
             [
              0.4444444444444444,
              "#bd3786"
             ],
             [
              0.5555555555555556,
              "#d8576b"
             ],
             [
              0.6666666666666666,
              "#ed7953"
             ],
             [
              0.7777777777777778,
              "#fb9f3a"
             ],
             [
              0.8888888888888888,
              "#fdca26"
             ],
             [
              1,
              "#f0f921"
             ]
            ],
            "type": "heatmap"
           }
          ],
          "heatmapgl": [
           {
            "colorbar": {
             "outlinewidth": 0,
             "ticks": ""
            },
            "colorscale": [
             [
              0,
              "#0d0887"
             ],
             [
              0.1111111111111111,
              "#46039f"
             ],
             [
              0.2222222222222222,
              "#7201a8"
             ],
             [
              0.3333333333333333,
              "#9c179e"
             ],
             [
              0.4444444444444444,
              "#bd3786"
             ],
             [
              0.5555555555555556,
              "#d8576b"
             ],
             [
              0.6666666666666666,
              "#ed7953"
             ],
             [
              0.7777777777777778,
              "#fb9f3a"
             ],
             [
              0.8888888888888888,
              "#fdca26"
             ],
             [
              1,
              "#f0f921"
             ]
            ],
            "type": "heatmapgl"
           }
          ],
          "histogram": [
           {
            "marker": {
             "pattern": {
              "fillmode": "overlay",
              "size": 10,
              "solidity": 0.2
             }
            },
            "type": "histogram"
           }
          ],
          "histogram2d": [
           {
            "colorbar": {
             "outlinewidth": 0,
             "ticks": ""
            },
            "colorscale": [
             [
              0,
              "#0d0887"
             ],
             [
              0.1111111111111111,
              "#46039f"
             ],
             [
              0.2222222222222222,
              "#7201a8"
             ],
             [
              0.3333333333333333,
              "#9c179e"
             ],
             [
              0.4444444444444444,
              "#bd3786"
             ],
             [
              0.5555555555555556,
              "#d8576b"
             ],
             [
              0.6666666666666666,
              "#ed7953"
             ],
             [
              0.7777777777777778,
              "#fb9f3a"
             ],
             [
              0.8888888888888888,
              "#fdca26"
             ],
             [
              1,
              "#f0f921"
             ]
            ],
            "type": "histogram2d"
           }
          ],
          "histogram2dcontour": [
           {
            "colorbar": {
             "outlinewidth": 0,
             "ticks": ""
            },
            "colorscale": [
             [
              0,
              "#0d0887"
             ],
             [
              0.1111111111111111,
              "#46039f"
             ],
             [
              0.2222222222222222,
              "#7201a8"
             ],
             [
              0.3333333333333333,
              "#9c179e"
             ],
             [
              0.4444444444444444,
              "#bd3786"
             ],
             [
              0.5555555555555556,
              "#d8576b"
             ],
             [
              0.6666666666666666,
              "#ed7953"
             ],
             [
              0.7777777777777778,
              "#fb9f3a"
             ],
             [
              0.8888888888888888,
              "#fdca26"
             ],
             [
              1,
              "#f0f921"
             ]
            ],
            "type": "histogram2dcontour"
           }
          ],
          "mesh3d": [
           {
            "colorbar": {
             "outlinewidth": 0,
             "ticks": ""
            },
            "type": "mesh3d"
           }
          ],
          "parcoords": [
           {
            "line": {
             "colorbar": {
              "outlinewidth": 0,
              "ticks": ""
             }
            },
            "type": "parcoords"
           }
          ],
          "pie": [
           {
            "automargin": true,
            "type": "pie"
           }
          ],
          "scatter": [
           {
            "marker": {
             "colorbar": {
              "outlinewidth": 0,
              "ticks": ""
             }
            },
            "type": "scatter"
           }
          ],
          "scatter3d": [
           {
            "line": {
             "colorbar": {
              "outlinewidth": 0,
              "ticks": ""
             }
            },
            "marker": {
             "colorbar": {
              "outlinewidth": 0,
              "ticks": ""
             }
            },
            "type": "scatter3d"
           }
          ],
          "scattercarpet": [
           {
            "marker": {
             "colorbar": {
              "outlinewidth": 0,
              "ticks": ""
             }
            },
            "type": "scattercarpet"
           }
          ],
          "scattergeo": [
           {
            "marker": {
             "colorbar": {
              "outlinewidth": 0,
              "ticks": ""
             }
            },
            "type": "scattergeo"
           }
          ],
          "scattergl": [
           {
            "marker": {
             "colorbar": {
              "outlinewidth": 0,
              "ticks": ""
             }
            },
            "type": "scattergl"
           }
          ],
          "scattermapbox": [
           {
            "marker": {
             "colorbar": {
              "outlinewidth": 0,
              "ticks": ""
             }
            },
            "type": "scattermapbox"
           }
          ],
          "scatterpolar": [
           {
            "marker": {
             "colorbar": {
              "outlinewidth": 0,
              "ticks": ""
             }
            },
            "type": "scatterpolar"
           }
          ],
          "scatterpolargl": [
           {
            "marker": {
             "colorbar": {
              "outlinewidth": 0,
              "ticks": ""
             }
            },
            "type": "scatterpolargl"
           }
          ],
          "scatterternary": [
           {
            "marker": {
             "colorbar": {
              "outlinewidth": 0,
              "ticks": ""
             }
            },
            "type": "scatterternary"
           }
          ],
          "surface": [
           {
            "colorbar": {
             "outlinewidth": 0,
             "ticks": ""
            },
            "colorscale": [
             [
              0,
              "#0d0887"
             ],
             [
              0.1111111111111111,
              "#46039f"
             ],
             [
              0.2222222222222222,
              "#7201a8"
             ],
             [
              0.3333333333333333,
              "#9c179e"
             ],
             [
              0.4444444444444444,
              "#bd3786"
             ],
             [
              0.5555555555555556,
              "#d8576b"
             ],
             [
              0.6666666666666666,
              "#ed7953"
             ],
             [
              0.7777777777777778,
              "#fb9f3a"
             ],
             [
              0.8888888888888888,
              "#fdca26"
             ],
             [
              1,
              "#f0f921"
             ]
            ],
            "type": "surface"
           }
          ],
          "table": [
           {
            "cells": {
             "fill": {
              "color": "#EBF0F8"
             },
             "line": {
              "color": "white"
             }
            },
            "header": {
             "fill": {
              "color": "#C8D4E3"
             },
             "line": {
              "color": "white"
             }
            },
            "type": "table"
           }
          ]
         },
         "layout": {
          "annotationdefaults": {
           "arrowcolor": "#2a3f5f",
           "arrowhead": 0,
           "arrowwidth": 1
          },
          "autotypenumbers": "strict",
          "coloraxis": {
           "colorbar": {
            "outlinewidth": 0,
            "ticks": ""
           }
          },
          "colorscale": {
           "diverging": [
            [
             0,
             "#8e0152"
            ],
            [
             0.1,
             "#c51b7d"
            ],
            [
             0.2,
             "#de77ae"
            ],
            [
             0.3,
             "#f1b6da"
            ],
            [
             0.4,
             "#fde0ef"
            ],
            [
             0.5,
             "#f7f7f7"
            ],
            [
             0.6,
             "#e6f5d0"
            ],
            [
             0.7,
             "#b8e186"
            ],
            [
             0.8,
             "#7fbc41"
            ],
            [
             0.9,
             "#4d9221"
            ],
            [
             1,
             "#276419"
            ]
           ],
           "sequential": [
            [
             0,
             "#0d0887"
            ],
            [
             0.1111111111111111,
             "#46039f"
            ],
            [
             0.2222222222222222,
             "#7201a8"
            ],
            [
             0.3333333333333333,
             "#9c179e"
            ],
            [
             0.4444444444444444,
             "#bd3786"
            ],
            [
             0.5555555555555556,
             "#d8576b"
            ],
            [
             0.6666666666666666,
             "#ed7953"
            ],
            [
             0.7777777777777778,
             "#fb9f3a"
            ],
            [
             0.8888888888888888,
             "#fdca26"
            ],
            [
             1,
             "#f0f921"
            ]
           ],
           "sequentialminus": [
            [
             0,
             "#0d0887"
            ],
            [
             0.1111111111111111,
             "#46039f"
            ],
            [
             0.2222222222222222,
             "#7201a8"
            ],
            [
             0.3333333333333333,
             "#9c179e"
            ],
            [
             0.4444444444444444,
             "#bd3786"
            ],
            [
             0.5555555555555556,
             "#d8576b"
            ],
            [
             0.6666666666666666,
             "#ed7953"
            ],
            [
             0.7777777777777778,
             "#fb9f3a"
            ],
            [
             0.8888888888888888,
             "#fdca26"
            ],
            [
             1,
             "#f0f921"
            ]
           ]
          },
          "colorway": [
           "#636efa",
           "#EF553B",
           "#00cc96",
           "#ab63fa",
           "#FFA15A",
           "#19d3f3",
           "#FF6692",
           "#B6E880",
           "#FF97FF",
           "#FECB52"
          ],
          "font": {
           "color": "#2a3f5f"
          },
          "geo": {
           "bgcolor": "white",
           "lakecolor": "white",
           "landcolor": "#E5ECF6",
           "showlakes": true,
           "showland": true,
           "subunitcolor": "white"
          },
          "hoverlabel": {
           "align": "left"
          },
          "hovermode": "closest",
          "mapbox": {
           "style": "light"
          },
          "paper_bgcolor": "white",
          "plot_bgcolor": "#E5ECF6",
          "polar": {
           "angularaxis": {
            "gridcolor": "white",
            "linecolor": "white",
            "ticks": ""
           },
           "bgcolor": "#E5ECF6",
           "radialaxis": {
            "gridcolor": "white",
            "linecolor": "white",
            "ticks": ""
           }
          },
          "scene": {
           "xaxis": {
            "backgroundcolor": "#E5ECF6",
            "gridcolor": "white",
            "gridwidth": 2,
            "linecolor": "white",
            "showbackground": true,
            "ticks": "",
            "zerolinecolor": "white"
           },
           "yaxis": {
            "backgroundcolor": "#E5ECF6",
            "gridcolor": "white",
            "gridwidth": 2,
            "linecolor": "white",
            "showbackground": true,
            "ticks": "",
            "zerolinecolor": "white"
           },
           "zaxis": {
            "backgroundcolor": "#E5ECF6",
            "gridcolor": "white",
            "gridwidth": 2,
            "linecolor": "white",
            "showbackground": true,
            "ticks": "",
            "zerolinecolor": "white"
           }
          },
          "shapedefaults": {
           "line": {
            "color": "#2a3f5f"
           }
          },
          "ternary": {
           "aaxis": {
            "gridcolor": "white",
            "linecolor": "white",
            "ticks": ""
           },
           "baxis": {
            "gridcolor": "white",
            "linecolor": "white",
            "ticks": ""
           },
           "bgcolor": "#E5ECF6",
           "caxis": {
            "gridcolor": "white",
            "linecolor": "white",
            "ticks": ""
           }
          },
          "title": {
           "x": 0.05
          },
          "xaxis": {
           "automargin": true,
           "gridcolor": "white",
           "linecolor": "white",
           "ticks": "",
           "title": {
            "standoff": 15
           },
           "zerolinecolor": "white",
           "zerolinewidth": 2
          },
          "yaxis": {
           "automargin": true,
           "gridcolor": "white",
           "linecolor": "white",
           "ticks": "",
           "title": {
            "standoff": 15
           },
           "zerolinecolor": "white",
           "zerolinewidth": 2
          }
         }
        },
        "title": {
         "text": "Number of Librarians per 1000 readers (Interactive bar chart)"
        },
        "xaxis": {
         "anchor": "y",
         "domain": [
          0,
          1
         ],
         "title": {
          "text": "Number of Librarians per 1000 readers"
         }
        },
        "yaxis": {
         "anchor": "x",
         "domain": [
          0,
          1
         ],
         "title": {
          "text": "Voivodeship"
         }
        }
       }
      },
      "text/html": [
       "<div>                            <div id=\"d8006b6d-34a0-4a3a-a3db-f2f823352219\" class=\"plotly-graph-div\" style=\"height:525px; width:100%;\"></div>            <script type=\"text/javascript\">                require([\"plotly\"], function(Plotly) {                    window.PLOTLYENV=window.PLOTLYENV || {};                                    if (document.getElementById(\"d8006b6d-34a0-4a3a-a3db-f2f823352219\")) {                    Plotly.newPlot(                        \"d8006b6d-34a0-4a3a-a3db-f2f823352219\",                        [{\"alignmentgroup\":\"True\",\"hovertemplate\":\"color=dolnoslaskie<br>x=%{x}<br>y=%{y}<extra></extra>\",\"legendgroup\":\"dolnoslaskie\",\"marker\":{\"color\":\"#636efa\",\"pattern\":{\"shape\":\"\"}},\"name\":\"dolnoslaskie\",\"offsetgroup\":\"dolnoslaskie\",\"orientation\":\"h\",\"showlegend\":true,\"textposition\":\"auto\",\"x\":[3.84],\"xaxis\":\"x\",\"y\":[\"dolnoslaskie\"],\"yaxis\":\"y\",\"type\":\"bar\"},{\"alignmentgroup\":\"True\",\"hovertemplate\":\"color=kujawsko-pomorskie<br>x=%{x}<br>y=%{y}<extra></extra>\",\"legendgroup\":\"kujawsko-pomorskie\",\"marker\":{\"color\":\"#EF553B\",\"pattern\":{\"shape\":\"\"}},\"name\":\"kujawsko-pomorskie\",\"offsetgroup\":\"kujawsko-pomorskie\",\"orientation\":\"h\",\"showlegend\":true,\"textposition\":\"auto\",\"x\":[4.5],\"xaxis\":\"x\",\"y\":[\"kujawsko-pomorskie\"],\"yaxis\":\"y\",\"type\":\"bar\"},{\"alignmentgroup\":\"True\",\"hovertemplate\":\"color=lubelskie<br>x=%{x}<br>y=%{y}<extra></extra>\",\"legendgroup\":\"lubelskie\",\"marker\":{\"color\":\"#00cc96\",\"pattern\":{\"shape\":\"\"}},\"name\":\"lubelskie\",\"offsetgroup\":\"lubelskie\",\"orientation\":\"h\",\"showlegend\":true,\"textposition\":\"auto\",\"x\":[4.35],\"xaxis\":\"x\",\"y\":[\"lubelskie\"],\"yaxis\":\"y\",\"type\":\"bar\"},{\"alignmentgroup\":\"True\",\"hovertemplate\":\"color=lubuskie<br>x=%{x}<br>y=%{y}<extra></extra>\",\"legendgroup\":\"lubuskie\",\"marker\":{\"color\":\"#ab63fa\",\"pattern\":{\"shape\":\"\"}},\"name\":\"lubuskie\",\"offsetgroup\":\"lubuskie\",\"orientation\":\"h\",\"showlegend\":true,\"textposition\":\"auto\",\"x\":[4.94],\"xaxis\":\"x\",\"y\":[\"lubuskie\"],\"yaxis\":\"y\",\"type\":\"bar\"},{\"alignmentgroup\":\"True\",\"hovertemplate\":\"color=lodzkie<br>x=%{x}<br>y=%{y}<extra></extra>\",\"legendgroup\":\"lodzkie\",\"marker\":{\"color\":\"#FFA15A\",\"pattern\":{\"shape\":\"\"}},\"name\":\"lodzkie\",\"offsetgroup\":\"lodzkie\",\"orientation\":\"h\",\"showlegend\":true,\"textposition\":\"auto\",\"x\":[3.71],\"xaxis\":\"x\",\"y\":[\"lodzkie\"],\"yaxis\":\"y\",\"type\":\"bar\"},{\"alignmentgroup\":\"True\",\"hovertemplate\":\"color=malopolskie<br>x=%{x}<br>y=%{y}<extra></extra>\",\"legendgroup\":\"malopolskie\",\"marker\":{\"color\":\"#19d3f3\",\"pattern\":{\"shape\":\"\"}},\"name\":\"malopolskie\",\"offsetgroup\":\"malopolskie\",\"orientation\":\"h\",\"showlegend\":true,\"textposition\":\"auto\",\"x\":[2.9],\"xaxis\":\"x\",\"y\":[\"malopolskie\"],\"yaxis\":\"y\",\"type\":\"bar\"},{\"alignmentgroup\":\"True\",\"hovertemplate\":\"color=mazowiecki<br>x=%{x}<br>y=%{y}<extra></extra>\",\"legendgroup\":\"mazowiecki\",\"marker\":{\"color\":\"#FF6692\",\"pattern\":{\"shape\":\"\"}},\"name\":\"mazowiecki\",\"offsetgroup\":\"mazowiecki\",\"orientation\":\"h\",\"showlegend\":true,\"textposition\":\"auto\",\"x\":[3.46],\"xaxis\":\"x\",\"y\":[\"mazowiecki\"],\"yaxis\":\"y\",\"type\":\"bar\"},{\"alignmentgroup\":\"True\",\"hovertemplate\":\"color=opolskie<br>x=%{x}<br>y=%{y}<extra></extra>\",\"legendgroup\":\"opolskie\",\"marker\":{\"color\":\"#B6E880\",\"pattern\":{\"shape\":\"\"}},\"name\":\"opolskie\",\"offsetgroup\":\"opolskie\",\"orientation\":\"h\",\"showlegend\":true,\"textposition\":\"auto\",\"x\":[4.55],\"xaxis\":\"x\",\"y\":[\"opolskie\"],\"yaxis\":\"y\",\"type\":\"bar\"},{\"alignmentgroup\":\"True\",\"hovertemplate\":\"color=podkarpackie<br>x=%{x}<br>y=%{y}<extra></extra>\",\"legendgroup\":\"podkarpackie\",\"marker\":{\"color\":\"#FF97FF\",\"pattern\":{\"shape\":\"\"}},\"name\":\"podkarpackie\",\"offsetgroup\":\"podkarpackie\",\"orientation\":\"h\",\"showlegend\":true,\"textposition\":\"auto\",\"x\":[4.49],\"xaxis\":\"x\",\"y\":[\"podkarpackie\"],\"yaxis\":\"y\",\"type\":\"bar\"},{\"alignmentgroup\":\"True\",\"hovertemplate\":\"color=podlaskie<br>x=%{x}<br>y=%{y}<extra></extra>\",\"legendgroup\":\"podlaskie\",\"marker\":{\"color\":\"#FECB52\",\"pattern\":{\"shape\":\"\"}},\"name\":\"podlaskie\",\"offsetgroup\":\"podlaskie\",\"orientation\":\"h\",\"showlegend\":true,\"textposition\":\"auto\",\"x\":[4.56],\"xaxis\":\"x\",\"y\":[\"podlaskie\"],\"yaxis\":\"y\",\"type\":\"bar\"},{\"alignmentgroup\":\"True\",\"hovertemplate\":\"color=pomorskie<br>x=%{x}<br>y=%{y}<extra></extra>\",\"legendgroup\":\"pomorskie\",\"marker\":{\"color\":\"#636efa\",\"pattern\":{\"shape\":\"\"}},\"name\":\"pomorskie\",\"offsetgroup\":\"pomorskie\",\"orientation\":\"h\",\"showlegend\":true,\"textposition\":\"auto\",\"x\":[3.09],\"xaxis\":\"x\",\"y\":[\"pomorskie\"],\"yaxis\":\"y\",\"type\":\"bar\"},{\"alignmentgroup\":\"True\",\"hovertemplate\":\"color=slaskie<br>x=%{x}<br>y=%{y}<extra></extra>\",\"legendgroup\":\"slaskie\",\"marker\":{\"color\":\"#EF553B\",\"pattern\":{\"shape\":\"\"}},\"name\":\"slaskie\",\"offsetgroup\":\"slaskie\",\"orientation\":\"h\",\"showlegend\":true,\"textposition\":\"auto\",\"x\":[3.49],\"xaxis\":\"x\",\"y\":[\"slaskie\"],\"yaxis\":\"y\",\"type\":\"bar\"},{\"alignmentgroup\":\"True\",\"hovertemplate\":\"color=swietokrzyskie<br>x=%{x}<br>y=%{y}<extra></extra>\",\"legendgroup\":\"swietokrzyskie\",\"marker\":{\"color\":\"#00cc96\",\"pattern\":{\"shape\":\"\"}},\"name\":\"swietokrzyskie\",\"offsetgroup\":\"swietokrzyskie\",\"orientation\":\"h\",\"showlegend\":true,\"textposition\":\"auto\",\"x\":[5.01],\"xaxis\":\"x\",\"y\":[\"swietokrzyskie\"],\"yaxis\":\"y\",\"type\":\"bar\"},{\"alignmentgroup\":\"True\",\"hovertemplate\":\"color=warminsko-mazurskie<br>x=%{x}<br>y=%{y}<extra></extra>\",\"legendgroup\":\"warminsko-mazurskie\",\"marker\":{\"color\":\"#ab63fa\",\"pattern\":{\"shape\":\"\"}},\"name\":\"warminsko-mazurskie\",\"offsetgroup\":\"warminsko-mazurskie\",\"orientation\":\"h\",\"showlegend\":true,\"textposition\":\"auto\",\"x\":[4.65],\"xaxis\":\"x\",\"y\":[\"warminsko-mazurskie\"],\"yaxis\":\"y\",\"type\":\"bar\"},{\"alignmentgroup\":\"True\",\"hovertemplate\":\"color=wielkopolskie<br>x=%{x}<br>y=%{y}<extra></extra>\",\"legendgroup\":\"wielkopolskie\",\"marker\":{\"color\":\"#FFA15A\",\"pattern\":{\"shape\":\"\"}},\"name\":\"wielkopolskie\",\"offsetgroup\":\"wielkopolskie\",\"orientation\":\"h\",\"showlegend\":true,\"textposition\":\"auto\",\"x\":[3.91],\"xaxis\":\"x\",\"y\":[\"wielkopolskie\"],\"yaxis\":\"y\",\"type\":\"bar\"},{\"alignmentgroup\":\"True\",\"hovertemplate\":\"color=zachodniopomorskie<br>x=%{x}<br>y=%{y}<extra></extra>\",\"legendgroup\":\"zachodniopomorskie\",\"marker\":{\"color\":\"#19d3f3\",\"pattern\":{\"shape\":\"\"}},\"name\":\"zachodniopomorskie\",\"offsetgroup\":\"zachodniopomorskie\",\"orientation\":\"h\",\"showlegend\":true,\"textposition\":\"auto\",\"x\":[4.81],\"xaxis\":\"x\",\"y\":[\"zachodniopomorskie\"],\"yaxis\":\"y\",\"type\":\"bar\"}],                        {\"template\":{\"data\":{\"bar\":[{\"error_x\":{\"color\":\"#2a3f5f\"},\"error_y\":{\"color\":\"#2a3f5f\"},\"marker\":{\"line\":{\"color\":\"#E5ECF6\",\"width\":0.5},\"pattern\":{\"fillmode\":\"overlay\",\"size\":10,\"solidity\":0.2}},\"type\":\"bar\"}],\"barpolar\":[{\"marker\":{\"line\":{\"color\":\"#E5ECF6\",\"width\":0.5},\"pattern\":{\"fillmode\":\"overlay\",\"size\":10,\"solidity\":0.2}},\"type\":\"barpolar\"}],\"carpet\":[{\"aaxis\":{\"endlinecolor\":\"#2a3f5f\",\"gridcolor\":\"white\",\"linecolor\":\"white\",\"minorgridcolor\":\"white\",\"startlinecolor\":\"#2a3f5f\"},\"baxis\":{\"endlinecolor\":\"#2a3f5f\",\"gridcolor\":\"white\",\"linecolor\":\"white\",\"minorgridcolor\":\"white\",\"startlinecolor\":\"#2a3f5f\"},\"type\":\"carpet\"}],\"choropleth\":[{\"colorbar\":{\"outlinewidth\":0,\"ticks\":\"\"},\"type\":\"choropleth\"}],\"contour\":[{\"colorbar\":{\"outlinewidth\":0,\"ticks\":\"\"},\"colorscale\":[[0.0,\"#0d0887\"],[0.1111111111111111,\"#46039f\"],[0.2222222222222222,\"#7201a8\"],[0.3333333333333333,\"#9c179e\"],[0.4444444444444444,\"#bd3786\"],[0.5555555555555556,\"#d8576b\"],[0.6666666666666666,\"#ed7953\"],[0.7777777777777778,\"#fb9f3a\"],[0.8888888888888888,\"#fdca26\"],[1.0,\"#f0f921\"]],\"type\":\"contour\"}],\"contourcarpet\":[{\"colorbar\":{\"outlinewidth\":0,\"ticks\":\"\"},\"type\":\"contourcarpet\"}],\"heatmap\":[{\"colorbar\":{\"outlinewidth\":0,\"ticks\":\"\"},\"colorscale\":[[0.0,\"#0d0887\"],[0.1111111111111111,\"#46039f\"],[0.2222222222222222,\"#7201a8\"],[0.3333333333333333,\"#9c179e\"],[0.4444444444444444,\"#bd3786\"],[0.5555555555555556,\"#d8576b\"],[0.6666666666666666,\"#ed7953\"],[0.7777777777777778,\"#fb9f3a\"],[0.8888888888888888,\"#fdca26\"],[1.0,\"#f0f921\"]],\"type\":\"heatmap\"}],\"heatmapgl\":[{\"colorbar\":{\"outlinewidth\":0,\"ticks\":\"\"},\"colorscale\":[[0.0,\"#0d0887\"],[0.1111111111111111,\"#46039f\"],[0.2222222222222222,\"#7201a8\"],[0.3333333333333333,\"#9c179e\"],[0.4444444444444444,\"#bd3786\"],[0.5555555555555556,\"#d8576b\"],[0.6666666666666666,\"#ed7953\"],[0.7777777777777778,\"#fb9f3a\"],[0.8888888888888888,\"#fdca26\"],[1.0,\"#f0f921\"]],\"type\":\"heatmapgl\"}],\"histogram\":[{\"marker\":{\"pattern\":{\"fillmode\":\"overlay\",\"size\":10,\"solidity\":0.2}},\"type\":\"histogram\"}],\"histogram2d\":[{\"colorbar\":{\"outlinewidth\":0,\"ticks\":\"\"},\"colorscale\":[[0.0,\"#0d0887\"],[0.1111111111111111,\"#46039f\"],[0.2222222222222222,\"#7201a8\"],[0.3333333333333333,\"#9c179e\"],[0.4444444444444444,\"#bd3786\"],[0.5555555555555556,\"#d8576b\"],[0.6666666666666666,\"#ed7953\"],[0.7777777777777778,\"#fb9f3a\"],[0.8888888888888888,\"#fdca26\"],[1.0,\"#f0f921\"]],\"type\":\"histogram2d\"}],\"histogram2dcontour\":[{\"colorbar\":{\"outlinewidth\":0,\"ticks\":\"\"},\"colorscale\":[[0.0,\"#0d0887\"],[0.1111111111111111,\"#46039f\"],[0.2222222222222222,\"#7201a8\"],[0.3333333333333333,\"#9c179e\"],[0.4444444444444444,\"#bd3786\"],[0.5555555555555556,\"#d8576b\"],[0.6666666666666666,\"#ed7953\"],[0.7777777777777778,\"#fb9f3a\"],[0.8888888888888888,\"#fdca26\"],[1.0,\"#f0f921\"]],\"type\":\"histogram2dcontour\"}],\"mesh3d\":[{\"colorbar\":{\"outlinewidth\":0,\"ticks\":\"\"},\"type\":\"mesh3d\"}],\"parcoords\":[{\"line\":{\"colorbar\":{\"outlinewidth\":0,\"ticks\":\"\"}},\"type\":\"parcoords\"}],\"pie\":[{\"automargin\":true,\"type\":\"pie\"}],\"scatter\":[{\"marker\":{\"colorbar\":{\"outlinewidth\":0,\"ticks\":\"\"}},\"type\":\"scatter\"}],\"scatter3d\":[{\"line\":{\"colorbar\":{\"outlinewidth\":0,\"ticks\":\"\"}},\"marker\":{\"colorbar\":{\"outlinewidth\":0,\"ticks\":\"\"}},\"type\":\"scatter3d\"}],\"scattercarpet\":[{\"marker\":{\"colorbar\":{\"outlinewidth\":0,\"ticks\":\"\"}},\"type\":\"scattercarpet\"}],\"scattergeo\":[{\"marker\":{\"colorbar\":{\"outlinewidth\":0,\"ticks\":\"\"}},\"type\":\"scattergeo\"}],\"scattergl\":[{\"marker\":{\"colorbar\":{\"outlinewidth\":0,\"ticks\":\"\"}},\"type\":\"scattergl\"}],\"scattermapbox\":[{\"marker\":{\"colorbar\":{\"outlinewidth\":0,\"ticks\":\"\"}},\"type\":\"scattermapbox\"}],\"scatterpolar\":[{\"marker\":{\"colorbar\":{\"outlinewidth\":0,\"ticks\":\"\"}},\"type\":\"scatterpolar\"}],\"scatterpolargl\":[{\"marker\":{\"colorbar\":{\"outlinewidth\":0,\"ticks\":\"\"}},\"type\":\"scatterpolargl\"}],\"scatterternary\":[{\"marker\":{\"colorbar\":{\"outlinewidth\":0,\"ticks\":\"\"}},\"type\":\"scatterternary\"}],\"surface\":[{\"colorbar\":{\"outlinewidth\":0,\"ticks\":\"\"},\"colorscale\":[[0.0,\"#0d0887\"],[0.1111111111111111,\"#46039f\"],[0.2222222222222222,\"#7201a8\"],[0.3333333333333333,\"#9c179e\"],[0.4444444444444444,\"#bd3786\"],[0.5555555555555556,\"#d8576b\"],[0.6666666666666666,\"#ed7953\"],[0.7777777777777778,\"#fb9f3a\"],[0.8888888888888888,\"#fdca26\"],[1.0,\"#f0f921\"]],\"type\":\"surface\"}],\"table\":[{\"cells\":{\"fill\":{\"color\":\"#EBF0F8\"},\"line\":{\"color\":\"white\"}},\"header\":{\"fill\":{\"color\":\"#C8D4E3\"},\"line\":{\"color\":\"white\"}},\"type\":\"table\"}]},\"layout\":{\"annotationdefaults\":{\"arrowcolor\":\"#2a3f5f\",\"arrowhead\":0,\"arrowwidth\":1},\"autotypenumbers\":\"strict\",\"coloraxis\":{\"colorbar\":{\"outlinewidth\":0,\"ticks\":\"\"}},\"colorscale\":{\"diverging\":[[0,\"#8e0152\"],[0.1,\"#c51b7d\"],[0.2,\"#de77ae\"],[0.3,\"#f1b6da\"],[0.4,\"#fde0ef\"],[0.5,\"#f7f7f7\"],[0.6,\"#e6f5d0\"],[0.7,\"#b8e186\"],[0.8,\"#7fbc41\"],[0.9,\"#4d9221\"],[1,\"#276419\"]],\"sequential\":[[0.0,\"#0d0887\"],[0.1111111111111111,\"#46039f\"],[0.2222222222222222,\"#7201a8\"],[0.3333333333333333,\"#9c179e\"],[0.4444444444444444,\"#bd3786\"],[0.5555555555555556,\"#d8576b\"],[0.6666666666666666,\"#ed7953\"],[0.7777777777777778,\"#fb9f3a\"],[0.8888888888888888,\"#fdca26\"],[1.0,\"#f0f921\"]],\"sequentialminus\":[[0.0,\"#0d0887\"],[0.1111111111111111,\"#46039f\"],[0.2222222222222222,\"#7201a8\"],[0.3333333333333333,\"#9c179e\"],[0.4444444444444444,\"#bd3786\"],[0.5555555555555556,\"#d8576b\"],[0.6666666666666666,\"#ed7953\"],[0.7777777777777778,\"#fb9f3a\"],[0.8888888888888888,\"#fdca26\"],[1.0,\"#f0f921\"]]},\"colorway\":[\"#636efa\",\"#EF553B\",\"#00cc96\",\"#ab63fa\",\"#FFA15A\",\"#19d3f3\",\"#FF6692\",\"#B6E880\",\"#FF97FF\",\"#FECB52\"],\"font\":{\"color\":\"#2a3f5f\"},\"geo\":{\"bgcolor\":\"white\",\"lakecolor\":\"white\",\"landcolor\":\"#E5ECF6\",\"showlakes\":true,\"showland\":true,\"subunitcolor\":\"white\"},\"hoverlabel\":{\"align\":\"left\"},\"hovermode\":\"closest\",\"mapbox\":{\"style\":\"light\"},\"paper_bgcolor\":\"white\",\"plot_bgcolor\":\"#E5ECF6\",\"polar\":{\"angularaxis\":{\"gridcolor\":\"white\",\"linecolor\":\"white\",\"ticks\":\"\"},\"bgcolor\":\"#E5ECF6\",\"radialaxis\":{\"gridcolor\":\"white\",\"linecolor\":\"white\",\"ticks\":\"\"}},\"scene\":{\"xaxis\":{\"backgroundcolor\":\"#E5ECF6\",\"gridcolor\":\"white\",\"gridwidth\":2,\"linecolor\":\"white\",\"showbackground\":true,\"ticks\":\"\",\"zerolinecolor\":\"white\"},\"yaxis\":{\"backgroundcolor\":\"#E5ECF6\",\"gridcolor\":\"white\",\"gridwidth\":2,\"linecolor\":\"white\",\"showbackground\":true,\"ticks\":\"\",\"zerolinecolor\":\"white\"},\"zaxis\":{\"backgroundcolor\":\"#E5ECF6\",\"gridcolor\":\"white\",\"gridwidth\":2,\"linecolor\":\"white\",\"showbackground\":true,\"ticks\":\"\",\"zerolinecolor\":\"white\"}},\"shapedefaults\":{\"line\":{\"color\":\"#2a3f5f\"}},\"ternary\":{\"aaxis\":{\"gridcolor\":\"white\",\"linecolor\":\"white\",\"ticks\":\"\"},\"baxis\":{\"gridcolor\":\"white\",\"linecolor\":\"white\",\"ticks\":\"\"},\"bgcolor\":\"#E5ECF6\",\"caxis\":{\"gridcolor\":\"white\",\"linecolor\":\"white\",\"ticks\":\"\"}},\"title\":{\"x\":0.05},\"xaxis\":{\"automargin\":true,\"gridcolor\":\"white\",\"linecolor\":\"white\",\"ticks\":\"\",\"title\":{\"standoff\":15},\"zerolinecolor\":\"white\",\"zerolinewidth\":2},\"yaxis\":{\"automargin\":true,\"gridcolor\":\"white\",\"linecolor\":\"white\",\"ticks\":\"\",\"title\":{\"standoff\":15},\"zerolinecolor\":\"white\",\"zerolinewidth\":2}}},\"xaxis\":{\"anchor\":\"y\",\"domain\":[0.0,1.0],\"title\":{\"text\":\"Number of Librarians per 1000 readers\"}},\"yaxis\":{\"anchor\":\"x\",\"domain\":[0.0,1.0],\"title\":{\"text\":\"Voivodeship\"}},\"legend\":{\"title\":{\"text\":\"color\"},\"tracegroupgap\":0},\"margin\":{\"t\":60},\"barmode\":\"relative\",\"font\":{\"family\":\"Courier New, monospace\",\"size\":14,\"color\":\"RebeccaPurple\"},\"title\":{\"text\":\"Number of Librarians per 1000 readers (Interactive bar chart)\"}},                        {\"responsive\": true}                    ).then(function(){\n",
       "                            \n",
       "var gd = document.getElementById('d8006b6d-34a0-4a3a-a3db-f2f823352219');\n",
       "var x = new MutationObserver(function (mutations, observer) {{\n",
       "        var display = window.getComputedStyle(gd).display;\n",
       "        if (!display || display === 'none') {{\n",
       "            console.log([gd, 'removed!']);\n",
       "            Plotly.purge(gd);\n",
       "            observer.disconnect();\n",
       "        }}\n",
       "}});\n",
       "\n",
       "// Listen for the removal of the full notebook cells\n",
       "var notebookContainer = gd.closest('#notebook-container');\n",
       "if (notebookContainer) {{\n",
       "    x.observe(notebookContainer, {childList: true});\n",
       "}}\n",
       "\n",
       "// Listen for the clearing of the current output cell\n",
       "var outputEl = gd.closest('.output');\n",
       "if (outputEl) {{\n",
       "    x.observe(outputEl, {childList: true});\n",
       "}}\n",
       "\n",
       "                        })                };                });            </script>        </div>"
      ]
     },
     "metadata": {},
     "output_type": "display_data"
    }
   ],
   "source": [
    "# Interactive bar chart with Plotly Express\n",
    "# Number of Staff per 1000 readers\n",
    "\n",
    "fig2 = px \\\n",
    "        .bar(x = (libraries.Number_of_librarians*1000 / libraries.Number_of_readers).round(2), \n",
    "             y = libraries.Voivodeship, \n",
    "             color=libraries.Voivodeship,\n",
    "            )\n",
    "\n",
    "fig2.update_layout(\n",
    "    title='Number of Librarians per 1000 readers (Interactive bar chart)',\n",
    "    xaxis_title='Number of Librarians per 1000 readers',\n",
    "    yaxis_title='Voivodeship',\n",
    "    font=dict(\n",
    "    family=\"Courier New, monospace\",\n",
    "    size=14,\n",
    "    color=\"RebeccaPurple\"\n",
    "    )\n",
    ")\n",
    "\n",
    "fig2.show()"
   ]
  },
  {
   "cell_type": "code",
   "execution_count": 45,
   "id": "14b4507e",
   "metadata": {},
   "outputs": [],
   "source": [
    "libraries['Librarians_per_Readers']=(libraries['Number_of_librarians']*1000 / libraries['Number_of_readers'])\\\n",
    "                                    .round(0)"
   ]
  },
  {
   "cell_type": "code",
   "execution_count": 46,
   "id": "7be84645",
   "metadata": {},
   "outputs": [
    {
     "name": "stdout",
     "output_type": "stream",
     "text": [
      "\u001b[1m\u001b[95mThe first five voivodeships in terms of Amount of Readers per 1000 Readers:\u001b[0m lubuskie, opolskie, podlaskie, swietokrzyskie, warminsko-mazurskie\n"
     ]
    }
   ],
   "source": [
    "print(\n",
    "clr.S+\"Top five voivodeships in terms of Amount of Readers per 1000 Readers:\"+clr.E,\n",
    "libraries.sort_values('Librarians_per_Readers', ascending = False).Voivodeship[:5].str.cat(sep = ', '))"
   ]
  },
  {
   "cell_type": "code",
   "execution_count": null,
   "id": "07b27b84",
   "metadata": {},
   "outputs": [],
   "source": []
  },
  {
   "cell_type": "code",
   "execution_count": 47,
   "id": "378262d9",
   "metadata": {},
   "outputs": [
    {
     "data": {
      "image/png": "[encoded data removed]",
      "text/plain": [
       "<Figure size 1080x504 with 2 Axes>"
      ]
     },
     "metadata": {
      "needs_background": "light"
     },
     "output_type": "display_data"
    }
   ],
   "source": [
    "#Amount of Books per a Reader and Amount of Books per Library\n",
    "\n",
    "fig, (ax0, ax1) = plt.subplots(nrows=1, ncols=2, sharey=True, figsize=(15, 7))\n",
    "\n",
    "libraries['Books_per_Reader'] = (libraries['Amount_of_books'] / libraries['Number_of_readers']).round(0)\n",
    "\n",
    "libraries['Books_per_Library'] = (libraries['Amount_of_books'] / libraries['Number_of_libraries']).round(0)\n",
    "\n",
    "plt.subplot(1, 2, 1)\n",
    "ax = sns.barplot(data = libraries, x = 'Books_per_Reader', y = 'Voivodeship')\n",
    "plt.title('Books per a Reader\\n')\n",
    "for i in ax.containers:\n",
    "    ax.bar_label(i,)\n",
    "plt.subplot(1, 2, 2)\n",
    "ax = sns.barplot(data = libraries, x = 'Books_per_Library', y = 'Voivodeship')\n",
    "plt.title('Books per a Library\\n')\n",
    "for i in ax.containers:\n",
    "    ax.bar_label(i,)\n",
    "       \n",
    "sns.despine(top=True)\n"
   ]
  },
  {
   "cell_type": "code",
   "execution_count": 48,
   "id": "68c33e46",
   "metadata": {},
   "outputs": [
    {
     "name": "stdout",
     "output_type": "stream",
     "text": [
      "\u001b[1m\u001b[95mThe first five voivodeships in terms of Amount of Books per a Reader:\u001b[0m podlaskie, lubuskie, kujawsko-pomorskie, swietokrzyskie, zachodniopomorskie\n",
      "\u001b[1m\u001b[95mThe first five voivodeships in terms of Amount of Books per a Library:\u001b[0m podlaskie, slaskie, mazowiecki, kujawsko-pomorskie, wielkopolskie\n"
     ]
    }
   ],
   "source": [
    "print(\n",
    "clr.S+\"Top five voivodeships in terms of Amount of Books per a Reader:\"+clr.E,\n",
    "libraries.sort_values('Books_per_Reader', ascending = False).Voivodeship[:5].str.cat(sep = ', '))\n",
    "print(\n",
    "clr.S+\"Top five voivodeships in terms of Amount of Books per a Library:\"+clr.E,\n",
    "libraries.sort_values('Books_per_Library', ascending = False).Voivodeship[:5].str.cat(sep = ', '))"
   ]
  },
  {
   "cell_type": "code",
   "execution_count": null,
   "id": "42490903",
   "metadata": {},
   "outputs": [],
   "source": []
  },
  {
   "cell_type": "code",
   "execution_count": 49,
   "id": "c6880603",
   "metadata": {},
   "outputs": [
    {
     "data": {
      "image/png": "[encoded data removed]",
      "text/plain": [
       "<Figure size 1080x504 with 2 Axes>"
      ]
     },
     "metadata": {
      "needs_background": "light"
     },
     "output_type": "display_data"
    }
   ],
   "source": [
    "#Number_of_loans per 100 readers and  Amount_of_books per Reader\n",
    "fig, (ax0, ax1) = plt.subplots(nrows=1, ncols=2, sharey=True, figsize=(15, 7))\n",
    "\n",
    "libraries['Books_per_Reader'] = (libraries['Amount_of_books'] / libraries['Number_of_readers']).round(0)\n",
    "\n",
    "libraries['Loans_per_Readers'] = (libraries['Number_of_loans'] / libraries['Number_of_readers']).round(0)\n",
    "\n",
    "plt.subplot(1, 2, 1)\n",
    "ax = sns.barplot(data = libraries, x = 'Loans_per_Readers', y = 'Voivodeship')\n",
    "plt.title('Loans per Reader\\n')\n",
    "for i in ax.containers:\n",
    "    ax.bar_label(i,)\n",
    "    \n",
    "plt.subplot(1, 2, 2)\n",
    "ax = sns.barplot(data = libraries, x = 'Books_per_Reader', y = 'Voivodeship')\n",
    "plt.title('Books per Reader\\n')\n",
    "for i in ax.containers:\n",
    "    ax.bar_label(i,)\n",
    "       \n",
    "sns.despine(top=True)\n",
    "\n"
   ]
  },
  {
   "cell_type": "code",
   "execution_count": 50,
   "id": "53e7b5a8",
   "metadata": {},
   "outputs": [
    {
     "name": "stdout",
     "output_type": "stream",
     "text": [
      "\u001b[1m\u001b[95mThe first five voivodeships in terms of Amount of Loans per Reader:\u001b[0m wielkopolskie, kujawsko-pomorskie, podkarpackie, swietokrzyskie, lodzkie\n",
      "\u001b[1m\u001b[95mThe first five voivodeships in terms of Amount of Books per a Reader:\u001b[0m podlaskie, lubuskie, kujawsko-pomorskie, swietokrzyskie, zachodniopomorskie\n"
     ]
    }
   ],
   "source": [
    "print(\n",
    "clr.S+\"Top five voivodeships in terms of Amount of Loans per Reader:\"+clr.E,\n",
    "libraries.sort_values('Loans_per_Readers', ascending = False).Voivodeship[:5].str.cat(sep = ', '))\n",
    "print(\n",
    "clr.S+\"Top five voivodeships in terms of Amount of Books per a Reader:\"+clr.E,\n",
    "libraries.sort_values('Books_per_Reader', ascending = False).Voivodeship[:5].str.cat(sep = ', '))"
   ]
  },
  {
   "cell_type": "code",
   "execution_count": null,
   "id": "0293f2a8",
   "metadata": {},
   "outputs": [],
   "source": []
  },
  {
   "cell_type": "code",
   "execution_count": 51,
   "id": "b0abb5e9",
   "metadata": {},
   "outputs": [
    {
     "data": {
      "image/png": "[encoded data removed]",
      "text/plain": [
       "<Figure size 720x360 with 1 Axes>"
      ]
     },
     "metadata": {
      "needs_background": "light"
     },
     "output_type": "display_data"
    },
    {
     "data": {
      "image/png": "[encoded data removed]",
      "text/plain": [
       "<Figure size 1080x360 with 2 Axes>"
      ]
     },
     "metadata": {
      "needs_background": "light"
     },
     "output_type": "display_data"
    }
   ],
   "source": [
    "#Какой % библиотек оборудован в общем Facility_adapted_to_the_needs_of_people_with_disabilities per Libraries\n",
    "#Какой % библиотек оборудован внутри Facility_adapted_to_the_needs_of_people_with_disabilities_(inside_the_building) per Libraries\n",
    "# Какой % библиотек оборудован на входе\n",
    "plt.figure(figsize=(10,5))\n",
    "ax = sns \\\n",
    "        .barplot(data = libraries,\n",
    "        x =(libraries.Facility_total/libraries.Number_of_libraries*100).round(0), y = 'Voivodeship')\n",
    "plt.title('Percentage - Facility total per Library')\n",
    "for i in ax.containers:\n",
    "    ax.bar_label(i,) \n",
    "\n",
    "fig, (ax0, ax1) = plt.subplots(1, 2, sharey=True, figsize=(15, 5))\n",
    "\n",
    "plt.subplot(1, 2, 1)\n",
    "ax = sns \\\n",
    ".barplot(data = libraries, \n",
    "         x = (libraries.Facility_entrance/libraries.Number_of_libraries*100).round(0), \n",
    "         y = 'Voivodeship')\n",
    "plt.title('Percentage - Facility entrance per Library')\n",
    "for i in ax.containers:\n",
    "    ax.bar_label(i,)\n",
    "    \n",
    "plt.subplot(1, 2, 2)\n",
    "ax = sns\\\n",
    ".barplot(data = libraries, x = (libraries.Facility_inside/libraries.Number_of_libraries*100).round(0), y = 'Voivodeship')\n",
    "plt.title('Percentage - Facility inside per Library')\n",
    "for i in ax.containers:\n",
    "    ax.bar_label(i,)    \n",
    "    \n",
    "sns.despine(top=True)\n",
    "\n",
    "\n",
    "# plt.subplot(2,2,1)\n",
    "# sns.countplot(x =libraries.Facility_total/libraries.Number_of_libraries*100, y = 'Voivodeship')"
   ]
  },
  {
   "cell_type": "code",
   "execution_count": 54,
   "id": "629caa6c",
   "metadata": {},
   "outputs": [
    {
     "name": "stdout",
     "output_type": "stream",
     "text": [
      "\u001b[1m\u001b[95mTop five voivodeships in terms of Facility adapted for people with disabilities:\u001b[0m mazowiecki, slaskie, wielkopolskie, dolnoslaskie, malopolskie\n",
      "\u001b[1m\u001b[95mTop five voivodeships in terms of Facility adapted-entrance-for people with disabilities:\u001b[0m mazowiecki, wielkopolskie, slaskie, dolnoslaskie, malopolskie\n",
      "\u001b[1m\u001b[95mTop five voivodeships in terms of Facility adapted-inside-for people with disabilities:\u001b[0m mazowiecki, wielkopolskie, slaskie, dolnoslaskie, malopolskie\n"
     ]
    }
   ],
   "source": [
    "print(\n",
    "clr.S+\"Top five voivodeships in terms of Facility adapted for people with disabilities:\"+clr.E,\n",
    "libraries.sort_values('Facility_total', ascending = False).Voivodeship[:5].str.cat(sep = ', '))\n",
    "\n",
    "print(\n",
    "clr.S+\"Top five voivodeships in terms of Facility adapted-entrance-for people with disabilities:\"+clr.E,\n",
    "libraries.sort_values('Facility_entrance', ascending = False).Voivodeship[:5].str.cat(sep = ', '))\n",
    "\n",
    "print(\n",
    "clr.S+\"Top five voivodeships in terms of Facility adapted-inside-for people with disabilities:\"+clr.E,\n",
    "libraries.sort_values('Facility_inside', ascending = False).Voivodeship[:5].str.cat(sep = ', '))"
   ]
  },
  {
   "cell_type": "markdown",
   "id": "ba932854",
   "metadata": {},
   "source": [
    "### Facility adapted to the needs of people with disabilities\n",
    "We can see that top five voivodeships in each of three categories are mazowiecki, slaskie, wielkopolskie, dolnoslaskie, malopolskie"
   ]
  },
  {
   "cell_type": "code",
   "execution_count": null,
   "id": "e3075feb",
   "metadata": {},
   "outputs": [],
   "source": []
  },
  {
   "cell_type": "markdown",
   "id": "a4f6aa7b",
   "metadata": {},
   "source": [
    "# Top Five Voivodeships \n",
    "To chose top five voivodeships we are going to visualize the following metrics\n",
    "- Amount of Libraries per 10000 inhabitants\n",
    "- Amount of Libraries per 1000 readers\n",
    "- Number of Staff per 100 readers\n",
    "- Amount of Books per 100 readers\n",
    "- Percentage Libraries with Facility\n",
    "- Amount of Books per Library"
   ]
  },
  {
   "cell_type": "code",
   "execution_count": 67,
   "id": "27a7fa93",
   "metadata": {},
   "outputs": [
    {
     "data": {
      "image/png": "[encoded data removed]",
      "text/plain": [
       "<Figure size 1080x1080 with 6 Axes>"
      ]
     },
     "metadata": {
      "needs_background": "light"
     },
     "output_type": "display_data"
    }
   ],
   "source": [
    "# fig, (ax0, ax1) = \n",
    "plt.subplots(2, 3, sharey=True, figsize=(15, 15))\n",
    "\n",
    "plt.subplot(2, 3, 1)\n",
    "ax = sns \\\n",
    ".barplot(data = top_libraries, x = (libraries.Number_of_libraries*10000 / population.Total).round(2), y = 'Voivodeship')\n",
    "ax.set(ylabel='Voivodeship')\n",
    "plt.title('Libraries per 10000 inhabitants')\n",
    "for i in ax.containers:\n",
    "    ax.bar_label(i,)\n",
    "    \n",
    "plt.subplot(2, 3, 2)\n",
    "ax = sns\\\n",
    ".barplot(data = libraries, x = (libraries.Number_of_libraries*1000 / libraries.Number_of_readers).round(2), y = 'Voivodeship')\n",
    "plt.title('Libraries per Readers')\n",
    "for i in ax.containers:\n",
    "    ax.bar_label(i,)    \n",
    "    \n",
    "plt.subplot(2, 3, 3)\n",
    "ax = sns \\\n",
    ".barplot(data = top_libraries, x = (libraries.Number_of_librarians*1000 / libraries.Number_of_readers).round(2), y = 'Voivodeship')\n",
    "plt.title('Librarians per Readers')\n",
    "for i in ax.containers:\n",
    "    ax.bar_label(i,)\n",
    "    \n",
    "plt.subplot(2, 3, 4)\n",
    "ax = sns\\\n",
    ".barplot(data = top_libraries, x = (libraries.Amount_of_books / libraries.Number_of_readers).round(0), y = 'Voivodeship')\n",
    "plt.title('Books per Reader')\n",
    "for i in ax.containers:\n",
    "    ax.bar_label(i,)     \n",
    "    \n",
    "plt.subplot(2, 3, 5)\n",
    "ax = sns \\\n",
    ".barplot(data = top_libraries, x = 'Facility_total', y = 'Voivodeship')\n",
    "plt.title('Facility total')\n",
    "ax.set(xlabel='')\n",
    "for i in ax.containers:\n",
    "    ax.bar_label(i,)\n",
    "    \n",
    "plt.subplot(2, 3, 6)\n",
    "ax = sns\\\n",
    ".barplot(data = top_libraries, x = 'Books_per_Library', y = 'Voivodeship')\n",
    "plt.title('Books per Library')\n",
    "ax.set(xlabel='')\n",
    "for i in ax.containers:\n",
    "    ax.bar_label(i,)     \n",
    "    \n",
    "    \n",
    "sns.despine(top=True)\n"
   ]
  },
  {
   "cell_type": "code",
   "execution_count": null,
   "id": "654faa8e",
   "metadata": {},
   "outputs": [],
   "source": []
  },
  {
   "cell_type": "code",
   "execution_count": 91,
   "id": "bdbc3638",
   "metadata": {},
   "outputs": [
    {
     "name": "stdout",
     "output_type": "stream",
     "text": [
      "\u001b[1m\u001b[95mTop five voivodeships: Lubielskie, Śiewtokrzyckie, Zachodnipomorskie\u001b[0m\n"
     ]
    }
   ],
   "source": [
    "print(\n",
    "clr.S+\"Top five voivodeships: Lubielskie, Śiewtokrzyckie, Zachodnipomorskie\"+clr.E,\n",
    ")"
   ]
  },
  {
   "cell_type": "code",
   "execution_count": null,
   "id": "b8922674",
   "metadata": {},
   "outputs": [],
   "source": [
    "# libraries.to_csv('libraries_top.csv')"
   ]
  }
 ],
 "metadata": {
  "kernelspec": {
   "display_name": "Python 3 (ipykernel)",
   "language": "python",
   "name": "python3"
  },
  "language_info": {
   "codemirror_mode": {
    "name": "ipython",
    "version": 3
   },
   "file_extension": ".py",
   "mimetype": "text/x-python",
   "name": "python",
   "nbconvert_exporter": "python",
   "pygments_lexer": "ipython3",
   "version": "3.9.12"
  }
 },
 "nbformat": 4,
 "nbformat_minor": 5
}
